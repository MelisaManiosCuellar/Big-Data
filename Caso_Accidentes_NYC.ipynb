{
  "nbformat": 4,
  "nbformat_minor": 0,
  "metadata": {
    "celltoolbar": "Raw Cell Format",
    "kernelspec": {
      "display_name": "Python 3",
      "language": "python",
      "name": "python3"
    },
    "language_info": {
      "codemirror_mode": {
        "name": "ipython",
        "version": 3
      },
      "file_extension": ".py",
      "mimetype": "text/x-python",
      "name": "python",
      "nbconvert_exporter": "python",
      "pygments_lexer": "ipython3",
      "version": "3.7.10"
    },
    "colab": {
      "name": "Caso_Accidentes_NYC.ipynb",
      "provenance": [],
      "collapsed_sections": [
        "vSxjb97fLH3T",
        "MG630yC1LH3T"
      ],
      "include_colab_link": true
    }
  },
  "cells": [
    {
      "cell_type": "markdown",
      "metadata": {
        "id": "view-in-github",
        "colab_type": "text"
      },
      "source": [
        "<a href=\"https://colab.research.google.com/github/MelisaManiosCuellar/vezar/blob/master/Caso_Accidentes_NYC.ipynb\" target=\"_parent\"><img src=\"https://colab.research.google.com/assets/colab-badge.svg\" alt=\"Open In Colab\"/></a>"
      ]
    },
    {
      "cell_type": "markdown",
      "metadata": {
        "id": "Ph_oCHcNLH2y"
      },
      "source": [
        "# ¿Cómo podemos controlar el creciente número de accidentes en Nueva York?"
      ]
    },
    {
      "cell_type": "code",
      "metadata": {
        "id": "OLluIiqXLH26"
      },
      "source": [
        "import json\n",
        "import requests\n",
        "from bs4 import BeautifulSoup\n",
        "import pandas as pd\n",
        "import matplotlib.pyplot as plt\n",
        "import seaborn as sns\n",
        "import numpy\n",
        "from pandas.io.json import json_normalize"
      ],
      "execution_count": 2,
      "outputs": []
    },
    {
      "cell_type": "markdown",
      "metadata": {
        "id": "P2A2BnZqLH28"
      },
      "source": [
        "## Introduccion"
      ]
    },
    {
      "cell_type": "markdown",
      "metadata": {
        "id": "g0dIJ5W4LH29"
      },
      "source": [
        "**Contexto empresarial.** La ciudad de Nueva York ha experimentado un aumento en el número de accidentes en las carreteras de la ciudad. Quieren saber si el número de accidentes ha aumentado en las últimas semanas. Para todos los accidentes reportados, han recopilado detalles para cada accidente y han estado manteniendo registros durante el último año y medio (desde enero de 2018 hasta agosto de 2019).\n",
        "\n",
        "La ciudad te ha contratado para que construyas visualizaciones que les ayuden a identificar patrones en accidentes, lo que les ayudaría a tomar acciones preventivas para reducir la cantidad de accidentes en el futuro. Tienen ciertos parámetros como municipio, hora del día, motivo del accidente, etc. De los que se preocupan y de los que les gustaría obtener información específica."
      ]
    },
    {
      "cell_type": "markdown",
      "metadata": {
        "id": "a1MjkSfILH2-"
      },
      "source": [
        "**Problema comercial.** Su tarea es formatear los datos proporcionados y proporcionar visualizaciones que respondan las preguntas específicas que tiene el cliente, que se mencionan a continuación."
      ]
    },
    {
      "cell_type": "markdown",
      "metadata": {
        "id": "NJXeSXTHLH2-"
      },
      "source": [
        "**Contexto analítico.** Se le proporciona un archivo CSV (almacenado en la carpeta ```datos``` ya creada) que contiene detalles sobre cada accidente, como fecha, hora, ubicación del accidente, motivo del accidente, tipos de vehículos involucrados, recuento de lesiones y muertes, etc. El delimitador en el archivo CSV dado es `;` en lugar del predeterminado `,`. Realizará las siguientes tareas con los datos:\n",
        "\n",
        "1. Extraiga datos adicionales del municipio almacenados en un archivo JSON\n",
        "2. Leer, transformar y preparar datos para su visualización\n",
        "3. Realizar análisis y construir visualizaciones de los datos para identificar patrones en el conjunto de datos.\n",
        "        \n",
        "El cliente tiene un conjunto específico de preguntas a las que le gustaría obtener respuestas. Deberá proporcionar visualizaciones para acompañar estos:\n",
        "\n",
        "1. ¿Cómo ha fluctuado el número de accidentes durante el último año y medio? ¿Han aumentado con el tiempo?\n",
        "2. Para un día en particular, ¿durante qué horas es más probable que ocurran accidentes?\n",
        "3. ¿Hay más accidentes entre semana que durante los fines de semana?\n",
        "4. ¿Cuál es la proporción de recuento de accidentes por área por municipio? ¿Qué distritos tienen un número desproporcionadamente grande de accidentes para su tamaño?\n",
        "5. Para cada municipio, ¿durante qué horas es más probable que ocurran accidentes?\n",
        "6. ¿Cuáles son las 5 principales causas de accidentes en la ciudad?\n",
        "7. ¿Qué tipos de vehículos están más involucrados en accidentes por municipio?\n",
        "8. ¿Qué tipos de vehículos están más involucrados en las muertes?"
      ]
    },
    {
      "cell_type": "markdown",
      "metadata": {
        "id": "EUQ87B7eLH3A"
      },
      "source": [
        "## Obteniendo los datos relevantes"
      ]
    },
    {
      "cell_type": "markdown",
      "metadata": {
        "id": "7mCznSZoLH3B"
      },
      "source": [
        "El cliente ha solicitado un análisis de la relación accidentes-área de los distritos. Los datos del municipio se almacenan en un archivo JSON en la carpeta ```datos```."
      ]
    },
    {
      "cell_type": "markdown",
      "metadata": {
        "id": "c474iJoMLH3C"
      },
      "source": [
        "### Pregunta \n",
        "\n",
        "Utilice la función ```json.load()``` para cargar el archivo ```borough_data.json``` como diccionario."
      ]
    },
    {
      "cell_type": "markdown",
      "metadata": {
        "id": "zf5HODN7LH3F"
      },
      "source": [
        "**Respuesta.** "
      ]
    },
    {
      "cell_type": "code",
      "metadata": {
        "colab": {
          "base_uri": "https://localhost:8080/"
        },
        "id": "_d6L30imLH3F",
        "outputId": "cb93bfd7-81a9-466c-cb18-e611f0c04395"
      },
      "source": [
        "from google.colab import drive\n",
        "# drive.mount('https://drive.google.com/file/d/18eMlXjgzacrcGVwyboDjNgGB_dJ-pQHU/edit')\n",
        "drive.mount('/content/drive')"
      ],
      "execution_count": 3,
      "outputs": [
        {
          "output_type": "stream",
          "name": "stdout",
          "text": [
            "Mounted at /content/drive\n"
          ]
        }
      ]
    },
    {
      "cell_type": "code",
      "metadata": {
        "colab": {
          "base_uri": "https://localhost:8080/"
        },
        "id": "eg7hxJsfNs9y",
        "outputId": "c91b2213-6931-4d19-90fe-ccd8dfd27286"
      },
      "source": [
        "import os\n",
        "os.chdir(\"/content/drive/MyDrive\")\n",
        "with open('borough_data.json') as f:\n",
        "    borough_data=json.load(f)\n",
        "    \n",
        "borough_data"
      ],
      "execution_count": 4,
      "outputs": [
        {
          "output_type": "execute_result",
          "data": {
            "text/plain": [
              "{'BRONX': {'area': 42.1, 'name': 'the bronx', 'population': 1471160.0},\n",
              " 'BROOKLYN': {'area': 70.82, 'name': 'brooklyn', 'population': 2648771.0},\n",
              " 'MANHATTAN': {'area': 22.83, 'name': 'manhattan', 'population': 1664727.0},\n",
              " 'QUEENS': {'area': 108.53, 'name': 'queens', 'population': 2358582.0},\n",
              " 'STATEN ISLAND': {'area': 58.37,\n",
              "  'name': 'staten island',\n",
              "  'population': 479458.0}}"
            ]
          },
          "metadata": {},
          "execution_count": 4
        }
      ]
    },
    {
      "cell_type": "markdown",
      "metadata": {
        "id": "sMLJxlx2LH3H"
      },
      "source": [
        "### Pregunta \n",
        "De manera similar, use la función pandas ```read_csv()``` para cargar el archivo ```accidentes.csv``` como un DataFrame. Nombra este DataFrame ```df```.\n"
      ]
    },
    {
      "cell_type": "markdown",
      "metadata": {
        "id": "-zYY2iMULH3H"
      },
      "source": [
        "**Respuesta.** "
      ]
    },
    {
      "cell_type": "code",
      "metadata": {
        "colab": {
          "base_uri": "https://localhost:8080/",
          "height": 801
        },
        "id": "21zp3AxdLH3I",
        "outputId": "ef8fd996-3ecc-483d-bfcd-f4cf0a42cfd2"
      },
      "source": [
        "with open('accidents.csv') as f:\n",
        "    df=pd.read_csv(f, delimiter=';')\n",
        "\n",
        "df"
      ],
      "execution_count": 5,
      "outputs": [
        {
          "output_type": "execute_result",
          "data": {
            "text/html": [
              "<div>\n",
              "<style scoped>\n",
              "    .dataframe tbody tr th:only-of-type {\n",
              "        vertical-align: middle;\n",
              "    }\n",
              "\n",
              "    .dataframe tbody tr th {\n",
              "        vertical-align: top;\n",
              "    }\n",
              "\n",
              "    .dataframe thead th {\n",
              "        text-align: right;\n",
              "    }\n",
              "</style>\n",
              "<table border=\"1\" class=\"dataframe\">\n",
              "  <thead>\n",
              "    <tr style=\"text-align: right;\">\n",
              "      <th></th>\n",
              "      <th>DATE</th>\n",
              "      <th>TIME</th>\n",
              "      <th>BOROUGH</th>\n",
              "      <th>ZIP CODE</th>\n",
              "      <th>LATITUDE</th>\n",
              "      <th>LONGITUDE</th>\n",
              "      <th>ON STREET NAME</th>\n",
              "      <th>NUMBER OF PEDESTRIANS INJURED</th>\n",
              "      <th>NUMBER OF PEDESTRIANS KILLED</th>\n",
              "      <th>NUMBER OF CYCLIST INJURED</th>\n",
              "      <th>NUMBER OF CYCLIST KILLED</th>\n",
              "      <th>NUMBER OF MOTORIST INJURED</th>\n",
              "      <th>NUMBER OF MOTORIST KILLED</th>\n",
              "      <th>CONTRIBUTING FACTOR VEHICLE 1</th>\n",
              "      <th>CONTRIBUTING FACTOR VEHICLE 2</th>\n",
              "      <th>CONTRIBUTING FACTOR VEHICLE 3</th>\n",
              "      <th>CONTRIBUTING FACTOR VEHICLE 4</th>\n",
              "      <th>CONTRIBUTING FACTOR VEHICLE 5</th>\n",
              "      <th>COLLISION_ID</th>\n",
              "      <th>VEHICLE TYPE CODE 1</th>\n",
              "      <th>VEHICLE TYPE CODE 2</th>\n",
              "      <th>VEHICLE TYPE CODE 3</th>\n",
              "      <th>VEHICLE TYPE CODE 4</th>\n",
              "      <th>VEHICLE TYPE CODE 5</th>\n",
              "    </tr>\n",
              "  </thead>\n",
              "  <tbody>\n",
              "    <tr>\n",
              "      <th>0</th>\n",
              "      <td>09/26/2018</td>\n",
              "      <td>12:12</td>\n",
              "      <td>BRONX</td>\n",
              "      <td>10454.0</td>\n",
              "      <td>40.808987</td>\n",
              "      <td>-73.911316</td>\n",
              "      <td>NaN</td>\n",
              "      <td>0</td>\n",
              "      <td>0</td>\n",
              "      <td>0</td>\n",
              "      <td>0</td>\n",
              "      <td>0</td>\n",
              "      <td>0</td>\n",
              "      <td>Unspecified</td>\n",
              "      <td>NaN</td>\n",
              "      <td>NaN</td>\n",
              "      <td>NaN</td>\n",
              "      <td>NaN</td>\n",
              "      <td>3988123</td>\n",
              "      <td>Sedan</td>\n",
              "      <td>NaN</td>\n",
              "      <td>NaN</td>\n",
              "      <td>NaN</td>\n",
              "      <td>NaN</td>\n",
              "    </tr>\n",
              "    <tr>\n",
              "      <th>1</th>\n",
              "      <td>09/25/2018</td>\n",
              "      <td>16:30</td>\n",
              "      <td>BROOKLYN</td>\n",
              "      <td>11236.0</td>\n",
              "      <td>40.636005</td>\n",
              "      <td>-73.912510</td>\n",
              "      <td>FLATLANDS AVENUE</td>\n",
              "      <td>1</td>\n",
              "      <td>0</td>\n",
              "      <td>0</td>\n",
              "      <td>0</td>\n",
              "      <td>0</td>\n",
              "      <td>0</td>\n",
              "      <td>Unspecified</td>\n",
              "      <td>NaN</td>\n",
              "      <td>NaN</td>\n",
              "      <td>NaN</td>\n",
              "      <td>NaN</td>\n",
              "      <td>3987962</td>\n",
              "      <td>Sedan</td>\n",
              "      <td>NaN</td>\n",
              "      <td>NaN</td>\n",
              "      <td>NaN</td>\n",
              "      <td>NaN</td>\n",
              "    </tr>\n",
              "    <tr>\n",
              "      <th>2</th>\n",
              "      <td>08/22/2019</td>\n",
              "      <td>19:30</td>\n",
              "      <td>QUEENS</td>\n",
              "      <td>11101.0</td>\n",
              "      <td>40.755490</td>\n",
              "      <td>-73.939530</td>\n",
              "      <td>NaN</td>\n",
              "      <td>0</td>\n",
              "      <td>0</td>\n",
              "      <td>0</td>\n",
              "      <td>0</td>\n",
              "      <td>0</td>\n",
              "      <td>0</td>\n",
              "      <td>Unspecified</td>\n",
              "      <td>NaN</td>\n",
              "      <td>NaN</td>\n",
              "      <td>NaN</td>\n",
              "      <td>NaN</td>\n",
              "      <td>4193132</td>\n",
              "      <td>Sedan</td>\n",
              "      <td>NaN</td>\n",
              "      <td>NaN</td>\n",
              "      <td>NaN</td>\n",
              "      <td>NaN</td>\n",
              "    </tr>\n",
              "    <tr>\n",
              "      <th>3</th>\n",
              "      <td>09/23/2018</td>\n",
              "      <td>13:10</td>\n",
              "      <td>QUEENS</td>\n",
              "      <td>11367.0</td>\n",
              "      <td>NaN</td>\n",
              "      <td>NaN</td>\n",
              "      <td>MAIN STREET</td>\n",
              "      <td>0</td>\n",
              "      <td>0</td>\n",
              "      <td>1</td>\n",
              "      <td>0</td>\n",
              "      <td>0</td>\n",
              "      <td>0</td>\n",
              "      <td>Driver Inattention/Distraction</td>\n",
              "      <td>Unspecified</td>\n",
              "      <td>NaN</td>\n",
              "      <td>NaN</td>\n",
              "      <td>NaN</td>\n",
              "      <td>3985962</td>\n",
              "      <td>Bike</td>\n",
              "      <td>Station Wagon/Sport Utility Vehicle</td>\n",
              "      <td>NaN</td>\n",
              "      <td>NaN</td>\n",
              "      <td>NaN</td>\n",
              "    </tr>\n",
              "    <tr>\n",
              "      <th>4</th>\n",
              "      <td>08/20/2019</td>\n",
              "      <td>22:40</td>\n",
              "      <td>BRONX</td>\n",
              "      <td>10468.0</td>\n",
              "      <td>40.868336</td>\n",
              "      <td>-73.901270</td>\n",
              "      <td>NaN</td>\n",
              "      <td>0</td>\n",
              "      <td>0</td>\n",
              "      <td>0</td>\n",
              "      <td>0</td>\n",
              "      <td>1</td>\n",
              "      <td>0</td>\n",
              "      <td>View Obstructed/Limited</td>\n",
              "      <td>Unspecified</td>\n",
              "      <td>NaN</td>\n",
              "      <td>NaN</td>\n",
              "      <td>NaN</td>\n",
              "      <td>4192111</td>\n",
              "      <td>Sedan</td>\n",
              "      <td>Sedan</td>\n",
              "      <td>NaN</td>\n",
              "      <td>NaN</td>\n",
              "      <td>NaN</td>\n",
              "    </tr>\n",
              "    <tr>\n",
              "      <th>...</th>\n",
              "      <td>...</td>\n",
              "      <td>...</td>\n",
              "      <td>...</td>\n",
              "      <td>...</td>\n",
              "      <td>...</td>\n",
              "      <td>...</td>\n",
              "      <td>...</td>\n",
              "      <td>...</td>\n",
              "      <td>...</td>\n",
              "      <td>...</td>\n",
              "      <td>...</td>\n",
              "      <td>...</td>\n",
              "      <td>...</td>\n",
              "      <td>...</td>\n",
              "      <td>...</td>\n",
              "      <td>...</td>\n",
              "      <td>...</td>\n",
              "      <td>...</td>\n",
              "      <td>...</td>\n",
              "      <td>...</td>\n",
              "      <td>...</td>\n",
              "      <td>...</td>\n",
              "      <td>...</td>\n",
              "      <td>...</td>\n",
              "    </tr>\n",
              "    <tr>\n",
              "      <th>238517</th>\n",
              "      <td>01/20/2018</td>\n",
              "      <td>15:00</td>\n",
              "      <td>QUEENS</td>\n",
              "      <td>11436.0</td>\n",
              "      <td>40.685356</td>\n",
              "      <td>-73.797230</td>\n",
              "      <td>LINDEN BOULEVARD</td>\n",
              "      <td>0</td>\n",
              "      <td>0</td>\n",
              "      <td>0</td>\n",
              "      <td>0</td>\n",
              "      <td>0</td>\n",
              "      <td>0</td>\n",
              "      <td>Driver Inattention/Distraction</td>\n",
              "      <td>Unspecified</td>\n",
              "      <td>NaN</td>\n",
              "      <td>NaN</td>\n",
              "      <td>NaN</td>\n",
              "      <td>3832275</td>\n",
              "      <td>SPORT UTILITY / STATION WAGON</td>\n",
              "      <td>PASSENGER VEHICLE</td>\n",
              "      <td>NaN</td>\n",
              "      <td>NaN</td>\n",
              "      <td>NaN</td>\n",
              "    </tr>\n",
              "    <tr>\n",
              "      <th>238518</th>\n",
              "      <td>01/04/2018</td>\n",
              "      <td>14:00</td>\n",
              "      <td>BRONX</td>\n",
              "      <td>10452.0</td>\n",
              "      <td>40.845180</td>\n",
              "      <td>-73.914170</td>\n",
              "      <td>JEROME AVENUE</td>\n",
              "      <td>0</td>\n",
              "      <td>0</td>\n",
              "      <td>0</td>\n",
              "      <td>0</td>\n",
              "      <td>0</td>\n",
              "      <td>0</td>\n",
              "      <td>Pavement Slippery</td>\n",
              "      <td>NaN</td>\n",
              "      <td>NaN</td>\n",
              "      <td>NaN</td>\n",
              "      <td>NaN</td>\n",
              "      <td>3822315</td>\n",
              "      <td>SPORT UTILITY / STATION WAGON</td>\n",
              "      <td>NaN</td>\n",
              "      <td>NaN</td>\n",
              "      <td>NaN</td>\n",
              "      <td>NaN</td>\n",
              "    </tr>\n",
              "    <tr>\n",
              "      <th>238519</th>\n",
              "      <td>01/20/2018</td>\n",
              "      <td>13:05</td>\n",
              "      <td>BRONX</td>\n",
              "      <td>10462.0</td>\n",
              "      <td>40.831210</td>\n",
              "      <td>-73.850876</td>\n",
              "      <td>CASTLE HILL AVENUE</td>\n",
              "      <td>0</td>\n",
              "      <td>0</td>\n",
              "      <td>0</td>\n",
              "      <td>0</td>\n",
              "      <td>0</td>\n",
              "      <td>0</td>\n",
              "      <td>Unsafe Lane Changing</td>\n",
              "      <td>Unspecified</td>\n",
              "      <td>NaN</td>\n",
              "      <td>NaN</td>\n",
              "      <td>NaN</td>\n",
              "      <td>3832513</td>\n",
              "      <td>PASSENGER VEHICLE</td>\n",
              "      <td>SPORT UTILITY / STATION WAGON</td>\n",
              "      <td>NaN</td>\n",
              "      <td>NaN</td>\n",
              "      <td>NaN</td>\n",
              "    </tr>\n",
              "    <tr>\n",
              "      <th>238520</th>\n",
              "      <td>01/29/2018</td>\n",
              "      <td>17:45</td>\n",
              "      <td>QUEENS</td>\n",
              "      <td>11377.0</td>\n",
              "      <td>40.757250</td>\n",
              "      <td>-73.904854</td>\n",
              "      <td>31 AVENUE</td>\n",
              "      <td>0</td>\n",
              "      <td>0</td>\n",
              "      <td>0</td>\n",
              "      <td>0</td>\n",
              "      <td>2</td>\n",
              "      <td>0</td>\n",
              "      <td>Failure to Yield Right-of-Way</td>\n",
              "      <td>Unspecified</td>\n",
              "      <td>NaN</td>\n",
              "      <td>NaN</td>\n",
              "      <td>NaN</td>\n",
              "      <td>3837608</td>\n",
              "      <td>SPORT UTILITY / STATION WAGON</td>\n",
              "      <td>PASSENGER VEHICLE</td>\n",
              "      <td>NaN</td>\n",
              "      <td>NaN</td>\n",
              "      <td>NaN</td>\n",
              "    </tr>\n",
              "    <tr>\n",
              "      <th>238521</th>\n",
              "      <td>01/23/2018</td>\n",
              "      <td>16:38</td>\n",
              "      <td>BROOKLYN</td>\n",
              "      <td>11211.0</td>\n",
              "      <td>40.710197</td>\n",
              "      <td>-73.958430</td>\n",
              "      <td>HAVEMEYER STREET</td>\n",
              "      <td>0</td>\n",
              "      <td>0</td>\n",
              "      <td>0</td>\n",
              "      <td>0</td>\n",
              "      <td>0</td>\n",
              "      <td>0</td>\n",
              "      <td>Following Too Closely</td>\n",
              "      <td>Passing or Lane Usage Improper</td>\n",
              "      <td>NaN</td>\n",
              "      <td>NaN</td>\n",
              "      <td>NaN</td>\n",
              "      <td>3833631</td>\n",
              "      <td>SPORT UTILITY / STATION WAGON</td>\n",
              "      <td>SPORT UTILITY / STATION WAGON</td>\n",
              "      <td>NaN</td>\n",
              "      <td>NaN</td>\n",
              "      <td>NaN</td>\n",
              "    </tr>\n",
              "  </tbody>\n",
              "</table>\n",
              "<p>238522 rows × 24 columns</p>\n",
              "</div>"
            ],
            "text/plain": [
              "              DATE   TIME  ... VEHICLE TYPE CODE 4  VEHICLE TYPE CODE 5\n",
              "0       09/26/2018  12:12  ...                 NaN                  NaN\n",
              "1       09/25/2018  16:30  ...                 NaN                  NaN\n",
              "2       08/22/2019  19:30  ...                 NaN                  NaN\n",
              "3       09/23/2018  13:10  ...                 NaN                  NaN\n",
              "4       08/20/2019  22:40  ...                 NaN                  NaN\n",
              "...            ...    ...  ...                 ...                  ...\n",
              "238517  01/20/2018  15:00  ...                 NaN                  NaN\n",
              "238518  01/04/2018  14:00  ...                 NaN                  NaN\n",
              "238519  01/20/2018  13:05  ...                 NaN                  NaN\n",
              "238520  01/29/2018  17:45  ...                 NaN                  NaN\n",
              "238521  01/23/2018  16:38  ...                 NaN                  NaN\n",
              "\n",
              "[238522 rows x 24 columns]"
            ]
          },
          "metadata": {},
          "execution_count": 5
        }
      ]
    },
    {
      "cell_type": "markdown",
      "metadata": {
        "id": "WKJrBpV2LH3I"
      },
      "source": [
        "## Overview de la data"
      ]
    },
    {
      "cell_type": "markdown",
      "metadata": {
        "id": "4djd3GlnLH3I"
      },
      "source": [
        "Analizemos las columnas presentes en el data frame"
      ]
    },
    {
      "cell_type": "code",
      "metadata": {
        "scrolled": true,
        "colab": {
          "base_uri": "https://localhost:8080/"
        },
        "id": "-OJ5iqh1LH3J",
        "outputId": "93f71fe7-ecbf-4140-d732-d362d161a137"
      },
      "source": [
        "df.columns"
      ],
      "execution_count": 6,
      "outputs": [
        {
          "output_type": "execute_result",
          "data": {
            "text/plain": [
              "Index(['DATE', 'TIME', 'BOROUGH', 'ZIP CODE', 'LATITUDE', 'LONGITUDE',\n",
              "       'ON STREET NAME', 'NUMBER OF PEDESTRIANS INJURED',\n",
              "       'NUMBER OF PEDESTRIANS KILLED', 'NUMBER OF CYCLIST INJURED',\n",
              "       'NUMBER OF CYCLIST KILLED', 'NUMBER OF MOTORIST INJURED',\n",
              "       'NUMBER OF MOTORIST KILLED', 'CONTRIBUTING FACTOR VEHICLE 1',\n",
              "       'CONTRIBUTING FACTOR VEHICLE 2', 'CONTRIBUTING FACTOR VEHICLE 3',\n",
              "       'CONTRIBUTING FACTOR VEHICLE 4', 'CONTRIBUTING FACTOR VEHICLE 5',\n",
              "       'COLLISION_ID', 'VEHICLE TYPE CODE 1', 'VEHICLE TYPE CODE 2',\n",
              "       'VEHICLE TYPE CODE 3', 'VEHICLE TYPE CODE 4', 'VEHICLE TYPE CODE 5'],\n",
              "      dtype='object')"
            ]
          },
          "metadata": {},
          "execution_count": 6
        }
      ]
    },
    {
      "cell_type": "markdown",
      "metadata": {
        "id": "Q7rf-sqNLH3J"
      },
      "source": [
        "Tenemos las siguientes columnas\n",
        "\n",
        "1. **BOROUGH**: el municipio en el que ocurrió el accidente\n",
        "2. **COLLISION_ID**: un identificador único para esta colisión\n",
        "3. **CONTRIBUTING FACTOR VEHICLE (1, 2, 3, 4, 5)**: Motivos del accidente\n",
        "4. **CROSS STREET NAME**: Calle transversal más cercana al lugar del accidente\n",
        "5. **DATE**: Fecha del accidente\n",
        "6. **TIME**: Hora del accidente\n",
        "7. **LATITUDE**: Latitud del accidente\n",
        "8. **LONGITUDE**: Longitud del accidente\n",
        "9. **NUMBER OF (CYCLISTS, MOTORISTS, PEDESTRIANS) INJURED**: Lesión por categoría\n",
        "10. **NUMBER OF (CYCLISTS, MOTORISTS, PEDESTRIANS) DEATHS**: Categoría muerte sabia\n",
        "11. **ON STREET NAME**: Calle donde ocurrió el accidente\n",
        "13. **VEHICLE TYPE CODE(1, 2, 3, 4, 5)**: Tipos de vehículos involucrados en el accidente\n",
        "14. **ZIP CODE**: código postal del lugar del accidente"
      ]
    },
    {
      "cell_type": "markdown",
      "metadata": {
        "id": "eo6VdGfwLH3K"
      },
      "source": [
        "### Ejercicio 1\n",
        "\n",
        "Desde 2014, la ciudad de Nueva York ha estado implementando un plan de seguridad vial llamado [Vision Zero](https://www1.nyc.gov/content/visionzero/pages/). Su objetivo es reducir el número de muertes por accidentes de tránsito a *cero* para fines de 2024. El plan está creando nuevas y mejorando las medidas de seguridad actuales, algunas de ellas incluyen:\n",
        "\n",
        "- [ ] Detección de peatones automatizada\n",
        "- [ ] Auditorías de seguridad vial en lugares de alto riesgo\n",
        "- [ ] Ampliación de la red de carriles bici\n",
        "- [ ] Iniciativas específicas de educación y sensibilización\n",
        "- [ ] Creación de islas de refugio peatonal\n",
        "- [ ] Lanzamiento del programa integrado de reductor de velocidad basado en datos (topes y amortiguadores de velocidad)\n",
        "\n",
        "¿Cuáles de estas iniciativas podrían beneficiarse directamente de un análisis de los datos proporcionados? Marque todo lo que corresponda.\n",
        "\n",
        "**Nota:** Puede crear marcas de verificación haciendo doble clic en esta celda y agregando una ```[x]``` en las líneas correspondientes."
      ]
    },
    {
      "cell_type": "markdown",
      "metadata": {
        "id": "UZNp1sVMLH3L"
      },
      "source": [
        "**Respuesta.**\n",
        "\n",
        "- [ ] Detecciòn de peatones automatizada\n",
        "\n",
        "\n",
        "- [X] Auditorías de seguridadvial en lugares de alto riesgo\n",
        "\n",
        "- [ ] Ampliación de la red de carriles bici\n",
        "\n",
        "- [X] Iniciativas especificas de educación y sensibilización\n",
        "\n",
        "- [ ] Creación de islas de refugio peatonal\n",
        "\n",
        "- [ ] Lanzamiento del programa integrado de reductor de velocidad en datos (topes y amortiguadores de velocidad)\n"
      ]
    },
    {
      "cell_type": "markdown",
      "metadata": {
        "id": "eVCSeq-j1uJN"
      },
      "source": [
        "**Auditoría de la Seguridad Vial** para cuantificar el riesgo en las diferentes vías para  los usuarios .Con este estudio se pretende hacer un diagnóstico de los factores que tienen mayor incidencia en la seguridad de los usuarios en la vía, como son la cultura ciudadana, el uso y ubicación de los dispositivos de control, el estado de la malla vial y la señalización.\n",
        "\n",
        "**Iniciativas especificas de educación y sensibilización**\n",
        "La motivación, la prudencia y la misma educación en las personas, son puntos claves y factores predominantes en la consecución de bajar las tasas de accidentalidad y mortalidad.La educación de las personas desde sus estudios básicos, en los institutos y planteles educativos en lo relacionado con Seguridad Vial, es un punto clave que aportaría de manera masiva al desarrollo del proyecto.\n"
      ]
    },
    {
      "cell_type": "markdown",
      "metadata": {
        "id": "b12De1T2LH3M"
      },
      "source": [
        "Sigamos adelante y respondamos a cada una de las preguntas del cliente."
      ]
    },
    {
      "cell_type": "markdown",
      "metadata": {
        "id": "UTHU-ao_LH3M"
      },
      "source": [
        "## Respondiendo las preguntas del cliente "
      ]
    },
    {
      "cell_type": "markdown",
      "metadata": {
        "id": "XOTz31j6LH3M"
      },
      "source": [
        "### Ejercicio 2 \n",
        "\n",
        "Agrupe los datos disponibles mensualmente y genere un line plot de accidentes a lo largo del tiempo. ¿Ha aumentado el número de accidentes durante el último año y medio?\n",
        "\n",
        "**Sugerencia**: Puede encontrar útiles las funciones de pandas ```to_datetime ()``` y ```dt.to_period ()```."
      ]
    },
    {
      "cell_type": "markdown",
      "metadata": {
        "id": "dmjun348LH3N"
      },
      "source": [
        "**Respuesta.** "
      ]
    },
    {
      "cell_type": "code",
      "metadata": {
        "colab": {
          "base_uri": "https://localhost:8080/",
          "height": 433
        },
        "id": "MeXEPGFmLH3N",
        "outputId": "bd8d5b79-cb6f-4455-cdb6-945fa21e12d7"
      },
      "source": [
        "df['DATE']=pd.to_datetime(df['DATE'])\n",
        "# monthly_accidents = df.groupby(df['DATE']).dt.to_period('M').size()\n",
        "plt.figure(figsize=(10,6))\n",
        "monthly_accidents = df.groupby(df['DATE'].dt.to_period('M')).size()\n",
        "monthly_accidents.plot.line()\n",
        "plt.xlabel('Fecha')\n",
        "plt.ylabel('Frecuencia')\n",
        "plt.title('Evolucion de Accidentes NYC')\n"
      ],
      "execution_count": 29,
      "outputs": [
        {
          "output_type": "execute_result",
          "data": {
            "text/plain": [
              "Text(0.5, 1.0, 'Evolucion de Accidentes NYC')"
            ]
          },
          "metadata": {},
          "execution_count": 29
        },
        {
          "output_type": "display_data",
          "data": {
            "image/png": "[encoded data removed]",
            "text/plain": [
              "<Figure size 720x432 with 1 Axes>"
            ]
          },
          "metadata": {
            "needs_background": "light"
          }
        }
      ]
    },
    {
      "cell_type": "markdown",
      "metadata": {
        "id": "KlFlKCeNLH3N"
      },
      "source": [
        ""
      ]
    },
    {
      "cell_type": "markdown",
      "metadata": {
        "id": "owT2s2j5LH3N"
      },
      "source": [
        "### Ejercicio 3\n",
        "\n",
        "De la gráfica anterior, ¿qué meses parecen tener el menor número de accidentes? ¿Cuáles crees que son las razones detrás de esto?"
      ]
    },
    {
      "cell_type": "markdown",
      "metadata": {
        "id": "nwijVPnGymo4"
      },
      "source": [
        "De acuerdo a los datos reflejados en la grafica ,se observa  que el comportamiento de ocurrencia de accidentes de trancito durante los meses de **febrero**  en los años  2018 y 2019 son los meses que han descendido ,debido que en esa epoca del año se encuentran en invierno. lo que disminuye las personas que transitan y el flujo vehicular .\n",
        "\n",
        "\n",
        "\n",
        "\n",
        "\n",
        "\n",
        "\n"
      ]
    },
    {
      "cell_type": "markdown",
      "metadata": {
        "id": "Qkm96bT-LH3O"
      },
      "source": [
        "**Respuesta.** \n"
      ]
    },
    {
      "cell_type": "markdown",
      "metadata": {
        "id": "7DHEEtSfLH3O"
      },
      "source": [
        "### Ejercicio 4 \n",
        "¿Cómo varía el número de accidentes a lo largo de un solo día? Cree una nueva columna `HOUR` basada en los datos de la columna `TIME`, luego trace un gráfico de barras de la distribución por hora a lo largo del día.\n",
        "\n",
        "**Sugerencia:** Puede encontrar útil la función ```dt.hour```."
      ]
    },
    {
      "cell_type": "markdown",
      "metadata": {
        "id": "tPYfdXx5LH3O"
      },
      "source": [
        "**Respuesta.**"
      ]
    },
    {
      "cell_type": "markdown",
      "metadata": {
        "id": "NAks5sIVLH3P"
      },
      "source": [
        ""
      ]
    },
    {
      "cell_type": "code",
      "metadata": {
        "id": "97jIY9A5uyCs",
        "colab": {
          "base_uri": "https://localhost:8080/",
          "height": 531
        },
        "outputId": "1874b1b8-74e4-46d2-bd79-ce24b25fe290"
      },
      "source": [
        "#filtro de numero de accidentes ocurridos en el dia \n",
        "sns.set_theme(style='darkgrid')\n",
        "df['HOUR']=pd.to_datetime (df['TIME']).dt.hour\n",
        "plt.figure(figsize=(14,8))\n",
        "resultado=df.groupby('HOUR').size()\n",
        "plt.title(\"Cantidad de Accidentes por hora en NYC\",fontsize=16)\n",
        "plt.xlabel(\"HOUR\",fontsize=13, labelpad=15)\n",
        "plt.ylabel(\"TIME\",fontsize=13, labelpad=15)\n",
        "plt.bar(resultado.index,resultado.values,label='Accidentes por Hora',edgecolor='cyan')\n",
        "plt.legend()\n",
        "plt.show()\n",
        "\n"
      ],
      "execution_count": 30,
      "outputs": [
        {
          "output_type": "display_data",
          "data": {
            "image/png": "[encoded data removed]",
            "text/plain": [
              "<Figure size 1008x576 with 1 Axes>"
            ]
          },
          "metadata": {}
        }
      ]
    },
    {
      "cell_type": "markdown",
      "metadata": {
        "id": "BUN1JbmHLH3P"
      },
      "source": [
        "\n",
        "\n",
        "\n",
        "### Ejercicio 5 \n",
        "\n",
        "En la pregunta anterior hemos agregado el número de accidentes por hora sin tener en cuenta la fecha y el lugar en que ocurrieron. ¿Qué crítica le daría a este enfoque?"
      ]
    },
    {
      "cell_type": "markdown",
      "metadata": {
        "id": "9eZiY0aA7PcP"
      },
      "source": [
        "las variables como la **fecha ,el lugar y la hora** son variables muy importantes  ya que la** hora** es un indicador que me permite reconocer a que hora hay  mayor riesgo de que se ocasione un accidente , El **lugar** es muy importante ya que esta variable permite preveer cuales generan una mayor incidencia de accidentabilidad y  la  **fecha** como una variable para determinar la estacion del año o que festividades  generan que se llegue a ser mas propensos a colisiones que pueden generar alertas y preveer futuros accidentes .con el proposito de que se puedan aplicar mas acciones preventivas con el fin de disminuir los indices altos de accidentebalidad ."
      ]
    },
    {
      "cell_type": "markdown",
      "metadata": {
        "id": "caBmO5K8LH3P"
      },
      "source": [
        "### Ejercicio 6 \n",
        "\n",
        "¿Cómo varía el número de accidentes en una sola semana? Trace un gráfico de barras basado en el recuento de accidentes por día de la semana.\n",
        "\n",
        "**Sugerencia:** Puede encontrar útil la función ```dt.weekday```."
      ]
    },
    {
      "cell_type": "markdown",
      "metadata": {
        "id": "34ZZgnEtLH3Q"
      },
      "source": [
        "**Respuesta.**"
      ]
    },
    {
      "cell_type": "code",
      "metadata": {
        "colab": {
          "base_uri": "https://localhost:8080/",
          "height": 528
        },
        "id": "hRYPFTKZs5sf",
        "outputId": "10efd459-8d73-4b95-c12a-53c9ff6ddefb"
      },
      "source": [
        "#filtro de numero de accidentes ocurridos en el dia \n",
        "\n",
        "df['SEMANA']=pd.to_datetime(df['DATE']).dt.weekday\n",
        "sns.set_theme(style='darkgrid')\n",
        "plt.figure(figsize=(10,8))\n",
        "resultado=df.groupby('SEMANA').size()\n",
        "plt.bar(resultado.index,resultado.values,label='Accidentes en la semana',edgecolor=['cyan'])\n",
        "plt.title(\"Accidentes ocurridos en la semana \",fontsize=16)\n",
        "plt.xlabel(\"DATE\",fontsize=13, labelpad=12)\n",
        "plt.ylabel(\"SEMANA\",fontsize=13, labelpad=12)\n",
        "plt.legend()\n",
        "plt.show()\n"
      ],
      "execution_count": null,
      "outputs": [
        {
          "output_type": "display_data",
          "data": {
            "image/png": "[encoded data removed]",
            "text/plain": [
              "<Figure size 720x576 with 1 Axes>"
            ]
          },
          "metadata": {}
        }
      ]
    },
    {
      "cell_type": "markdown",
      "metadata": {
        "id": "3shkY0q4LH3Q"
      },
      "source": [
        ""
      ]
    },
    {
      "cell_type": "markdown",
      "metadata": {
        "id": "oRy8FFAuLH3Q"
      },
      "source": [
        "### Ejercicio 7\n",
        "\n",
        "Trace una gráfica de barras del número total de accidentes en cada municipio, así como uno de los accidentes por milla cuadrada por municipio. ¿Qué puedes concluir?\n",
        "\n",
        "**Sugerencia:** Es posible que desee actualizar algunas de las claves en el diccionario del municipio para que coincidan con los nombres en el marco de datos."
      ]
    },
    {
      "cell_type": "markdown",
      "metadata": {
        "id": "Rvb0MfJfLH3Q"
      },
      "source": [
        "**Respuesta.**"
      ]
    },
    {
      "cell_type": "code",
      "metadata": {
        "colab": {
          "base_uri": "https://localhost:8080/",
          "height": 502
        },
        "id": "rt11LEfvSDJR",
        "outputId": "f9190498-973c-4b9e-f378-e7dfe78aa45a"
      },
      "source": [
        "sns.set_theme(style='darkgrid')\n",
        "plt.figure(figsize=(10,8))\n",
        "resultado= df.groupby('BOROUGH').size()\n",
        "ciudades = list(resultado.index)\n",
        "total = list(resultado.values)\n",
        "for value in total:\n",
        "  borough_data[ciudades[total.index(value)]]['total']=value\n",
        "plt.bar(borough_data.keys(),[x['total']/x['area'] for x in borough_data.values()])"
      ],
      "execution_count": 31,
      "outputs": [
        {
          "output_type": "execute_result",
          "data": {
            "text/plain": [
              "<BarContainer object of 5 artists>"
            ]
          },
          "metadata": {},
          "execution_count": 31
        },
        {
          "output_type": "display_data",
          "data": {
            "image/png": "[encoded data removed]",
            "text/plain": [
              "<Figure size 720x576 with 1 Axes>"
            ]
          },
          "metadata": {}
        }
      ]
    },
    {
      "cell_type": "markdown",
      "metadata": {
        "id": "vCH2FvX0LH3R"
      },
      "source": [
        ""
      ]
    },
    {
      "cell_type": "markdown",
      "metadata": {
        "id": "kK6bf2DILH3R"
      },
      "source": [
        "### Ejercicio 8 \n",
        "\n",
        "¿Qué horas tienen más accidentes en cada municipio? Trace un gráfico de barras para cada municipio que muestre el número de accidentes por cada hora del día.\n",
        "\n",
        "**Sugerencia:** Puede usar ```sns.FacetGrid``` para crear una cuadrícula de parcelas con los datos por hora de cada municipio."
      ]
    },
    {
      "cell_type": "markdown",
      "metadata": {
        "id": "3oDPf4DQLH3R"
      },
      "source": [
        "**Respuesta.**"
      ]
    },
    {
      "cell_type": "code",
      "metadata": {
        "id": "MwTXqYenLH3R",
        "colab": {
          "base_uri": "https://localhost:8080/",
          "height": 256
        },
        "outputId": "270b5e68-08fb-47c9-d706-1c7af42d1ac5"
      },
      "source": [
        "sns.set_theme(style='darkgrid')\n",
        "plt.figure(figsize=(15,8))\n",
        "g = sns.FacetGrid(df, col=\"BOROUGH\")\n",
        "g.map(plt.hist, \"HOUR\")"
      ],
      "execution_count": 33,
      "outputs": [
        {
          "output_type": "execute_result",
          "data": {
            "text/plain": [
              "<seaborn.axisgrid.FacetGrid at 0x7fe2553cccd0>"
            ]
          },
          "metadata": {},
          "execution_count": 33
        },
        {
          "output_type": "display_data",
          "data": {
            "text/plain": [
              "<Figure size 1080x576 with 0 Axes>"
            ]
          },
          "metadata": {}
        },
        {
          "output_type": "display_data",
          "data": {
            "image/png": "[encoded data removed]",
            "text/plain": [
              "<Figure size 1080x216 with 5 Axes>"
            ]
          },
          "metadata": {}
        }
      ]
    },
    {
      "cell_type": "markdown",
      "metadata": {
        "id": "JsFiCpj6LH3S"
      },
      "source": [
        "**¿Es mayor el número de accidentes en diferentes momentos en diferentes distritos? ¿Deberíamos concentrarnos en diferentes momentos para cada municipio?**"
      ]
    },
    {
      "cell_type": "markdown",
      "metadata": {
        "id": "tuteuyr7LH3S"
      },
      "source": [
        ""
      ]
    },
    {
      "cell_type": "markdown",
      "metadata": {
        "id": "FoaBAscFwk-T"
      },
      "source": [
        ""
      ]
    },
    {
      "cell_type": "markdown",
      "metadata": {
        "id": "NT29MDpiLH3S"
      },
      "source": [
        "### Ejercicio 9 \n",
        "\n",
        "¿Qué factores provocan la mayoría de los accidentes? Evite contar dos veces los factores que contribuyen a un solo accidente.\n",
        "\n",
        "**Sugerencia:** Una forma de lidiar con las repeticiones es concatenar las columnas correspondientes conservando sus índices, puede hacerlo con las funciones ```pd.concat()``` y ```reset_index()```. Luego, use un ```group_by``` apropiado para contar el número de repeticiones de factores contribuidos por accidente."
      ]
    },
    {
      "cell_type": "markdown",
      "metadata": {
        "id": "q5FB8fXELH3S"
      },
      "source": [
        "**Respuesta**.\n"
      ]
    },
    {
      "cell_type": "code",
      "metadata": {
        "colab": {
          "base_uri": "https://localhost:8080/",
          "height": 422
        },
        "id": "bk3-DY4yul1W",
        "outputId": "6e185e2f-3e72-4f76-b637-148b0b599dc8"
      },
      "source": [
        "test=df.groupby(['CONTRIBUTING FACTOR VEHICLE 1','CONTRIBUTING FACTOR VEHICLE 2','CONTRIBUTING FACTOR VEHICLE 3','CONTRIBUTING FACTOR VEHICLE 4','CONTRIBUTING FACTOR VEHICLE 5'], as_index = False)\n",
        "test.size()"
      ],
      "execution_count": null,
      "outputs": [
        {
          "output_type": "execute_result",
          "data": {
            "text/html": [
              "<div>\n",
              "<style scoped>\n",
              "    .dataframe tbody tr th:only-of-type {\n",
              "        vertical-align: middle;\n",
              "    }\n",
              "\n",
              "    .dataframe tbody tr th {\n",
              "        vertical-align: top;\n",
              "    }\n",
              "\n",
              "    .dataframe thead th {\n",
              "        text-align: right;\n",
              "    }\n",
              "</style>\n",
              "<table border=\"1\" class=\"dataframe\">\n",
              "  <thead>\n",
              "    <tr style=\"text-align: right;\">\n",
              "      <th></th>\n",
              "      <th>CONTRIBUTING FACTOR VEHICLE 1</th>\n",
              "      <th>CONTRIBUTING FACTOR VEHICLE 2</th>\n",
              "      <th>CONTRIBUTING FACTOR VEHICLE 3</th>\n",
              "      <th>CONTRIBUTING FACTOR VEHICLE 4</th>\n",
              "      <th>CONTRIBUTING FACTOR VEHICLE 5</th>\n",
              "      <th>size</th>\n",
              "    </tr>\n",
              "  </thead>\n",
              "  <tbody>\n",
              "    <tr>\n",
              "      <th>0</th>\n",
              "      <td>Accelerator Defective</td>\n",
              "      <td>Unspecified</td>\n",
              "      <td>Unspecified</td>\n",
              "      <td>Unspecified</td>\n",
              "      <td>Unspecified</td>\n",
              "      <td>4</td>\n",
              "    </tr>\n",
              "    <tr>\n",
              "      <th>1</th>\n",
              "      <td>Aggressive Driving/Road Rage</td>\n",
              "      <td>Following Too Closely</td>\n",
              "      <td>Unspecified</td>\n",
              "      <td>Unspecified</td>\n",
              "      <td>Unspecified</td>\n",
              "      <td>1</td>\n",
              "    </tr>\n",
              "    <tr>\n",
              "      <th>2</th>\n",
              "      <td>Aggressive Driving/Road Rage</td>\n",
              "      <td>Unspecified</td>\n",
              "      <td>Unspecified</td>\n",
              "      <td>Unspecified</td>\n",
              "      <td>Unspecified</td>\n",
              "      <td>19</td>\n",
              "    </tr>\n",
              "    <tr>\n",
              "      <th>3</th>\n",
              "      <td>Alcohol Involvement</td>\n",
              "      <td>Alcohol Involvement</td>\n",
              "      <td>Oversized Vehicle</td>\n",
              "      <td>Unspecified</td>\n",
              "      <td>Unspecified</td>\n",
              "      <td>1</td>\n",
              "    </tr>\n",
              "    <tr>\n",
              "      <th>4</th>\n",
              "      <td>Alcohol Involvement</td>\n",
              "      <td>Alcohol Involvement</td>\n",
              "      <td>Unspecified</td>\n",
              "      <td>Unspecified</td>\n",
              "      <td>Unspecified</td>\n",
              "      <td>1</td>\n",
              "    </tr>\n",
              "    <tr>\n",
              "      <th>...</th>\n",
              "      <td>...</td>\n",
              "      <td>...</td>\n",
              "      <td>...</td>\n",
              "      <td>...</td>\n",
              "      <td>...</td>\n",
              "      <td>...</td>\n",
              "    </tr>\n",
              "    <tr>\n",
              "      <th>103</th>\n",
              "      <td>Unsafe Speed</td>\n",
              "      <td>Unsafe Speed</td>\n",
              "      <td>Unspecified</td>\n",
              "      <td>Unspecified</td>\n",
              "      <td>Unspecified</td>\n",
              "      <td>3</td>\n",
              "    </tr>\n",
              "    <tr>\n",
              "      <th>104</th>\n",
              "      <td>Unsafe Speed</td>\n",
              "      <td>Unspecified</td>\n",
              "      <td>Unspecified</td>\n",
              "      <td>Unspecified</td>\n",
              "      <td>Unspecified</td>\n",
              "      <td>90</td>\n",
              "    </tr>\n",
              "    <tr>\n",
              "      <th>105</th>\n",
              "      <td>Unsafe Speed</td>\n",
              "      <td>View Obstructed/Limited</td>\n",
              "      <td>Unspecified</td>\n",
              "      <td>Unspecified</td>\n",
              "      <td>Unspecified</td>\n",
              "      <td>1</td>\n",
              "    </tr>\n",
              "    <tr>\n",
              "      <th>106</th>\n",
              "      <td>Unspecified</td>\n",
              "      <td>Unspecified</td>\n",
              "      <td>Unspecified</td>\n",
              "      <td>Unspecified</td>\n",
              "      <td>Unspecified</td>\n",
              "      <td>85</td>\n",
              "    </tr>\n",
              "    <tr>\n",
              "      <th>107</th>\n",
              "      <td>View Obstructed/Limited</td>\n",
              "      <td>Unspecified</td>\n",
              "      <td>Unspecified</td>\n",
              "      <td>Unspecified</td>\n",
              "      <td>Unspecified</td>\n",
              "      <td>1</td>\n",
              "    </tr>\n",
              "  </tbody>\n",
              "</table>\n",
              "<p>108 rows × 6 columns</p>\n",
              "</div>"
            ],
            "text/plain": [
              "    CONTRIBUTING FACTOR VEHICLE 1  ... size\n",
              "0           Accelerator Defective  ...    4\n",
              "1    Aggressive Driving/Road Rage  ...    1\n",
              "2    Aggressive Driving/Road Rage  ...   19\n",
              "3             Alcohol Involvement  ...    1\n",
              "4             Alcohol Involvement  ...    1\n",
              "..                            ...  ...  ...\n",
              "103                  Unsafe Speed  ...    3\n",
              "104                  Unsafe Speed  ...   90\n",
              "105                  Unsafe Speed  ...    1\n",
              "106                   Unspecified  ...   85\n",
              "107       View Obstructed/Limited  ...    1\n",
              "\n",
              "[108 rows x 6 columns]"
            ]
          },
          "metadata": {},
          "execution_count": 127
        }
      ]
    },
    {
      "cell_type": "markdown",
      "metadata": {
        "id": "vqkemmI2LH3S"
      },
      "source": [
        "### Ejercicio 10 \n",
        "\n",
        "¿Qué tipos de vehículos están más involucrados en accidentes por municipio? Evite contar dos veces el tipo de vehículos presentes en un solo accidente.\n",
        "\n",
        "**Sugerencia:** Puede aplicar un enfoque similar al utilizado en la pregunta anterior."
      ]
    },
    {
      "cell_type": "markdown",
      "metadata": {
        "id": "zhndpLi9LH3S"
      },
      "source": [
        "**Respuesta.** "
      ]
    },
    {
      "cell_type": "code",
      "metadata": {
        "id": "AyXyVJBKLH3S",
        "colab": {
          "base_uri": "https://localhost:8080/",
          "height": 422
        },
        "outputId": "94a21b64-d011-45f8-d137-bbda2421aeae"
      },
      "source": [
        "vehiculo=df.groupby(['VEHICLE TYPE CODE 1','VEHICLE TYPE CODE 2','VEHICLE TYPE CODE 3','VEHICLE TYPE CODE 4','VEHICLE TYPE CODE 5'], as_index = False)\n",
        "vehiculo.size()"
      ],
      "execution_count": null,
      "outputs": [
        {
          "output_type": "execute_result",
          "data": {
            "text/html": [
              "<div>\n",
              "<style scoped>\n",
              "    .dataframe tbody tr th:only-of-type {\n",
              "        vertical-align: middle;\n",
              "    }\n",
              "\n",
              "    .dataframe tbody tr th {\n",
              "        vertical-align: top;\n",
              "    }\n",
              "\n",
              "    .dataframe thead th {\n",
              "        text-align: right;\n",
              "    }\n",
              "</style>\n",
              "<table border=\"1\" class=\"dataframe\">\n",
              "  <thead>\n",
              "    <tr style=\"text-align: right;\">\n",
              "      <th></th>\n",
              "      <th>VEHICLE TYPE CODE 1</th>\n",
              "      <th>VEHICLE TYPE CODE 2</th>\n",
              "      <th>VEHICLE TYPE CODE 3</th>\n",
              "      <th>VEHICLE TYPE CODE 4</th>\n",
              "      <th>VEHICLE TYPE CODE 5</th>\n",
              "      <th>size</th>\n",
              "    </tr>\n",
              "  </thead>\n",
              "  <tbody>\n",
              "    <tr>\n",
              "      <th>0</th>\n",
              "      <td>Ambulance</td>\n",
              "      <td>Bus</td>\n",
              "      <td>Sedan</td>\n",
              "      <td>Station Wagon/Sport Utility Vehicle</td>\n",
              "      <td>Station Wagon/Sport Utility Vehicle</td>\n",
              "      <td>1</td>\n",
              "    </tr>\n",
              "    <tr>\n",
              "      <th>1</th>\n",
              "      <td>Ambulance</td>\n",
              "      <td>Station Wagon/Sport Utility Vehicle</td>\n",
              "      <td>Station Wagon/Sport Utility Vehicle</td>\n",
              "      <td>Station Wagon/Sport Utility Vehicle</td>\n",
              "      <td>Box Truck</td>\n",
              "      <td>1</td>\n",
              "    </tr>\n",
              "    <tr>\n",
              "      <th>2</th>\n",
              "      <td>BU</td>\n",
              "      <td>PASSENGER VEHICLE</td>\n",
              "      <td>SPORT UTILITY / STATION WAGON</td>\n",
              "      <td>PASSENGER VEHICLE</td>\n",
              "      <td>PASSENGER VEHICLE</td>\n",
              "      <td>1</td>\n",
              "    </tr>\n",
              "    <tr>\n",
              "      <th>3</th>\n",
              "      <td>Box Truck</td>\n",
              "      <td>Pick-up Truck</td>\n",
              "      <td>Sedan</td>\n",
              "      <td>Sedan</td>\n",
              "      <td>Station Wagon/Sport Utility Vehicle</td>\n",
              "      <td>1</td>\n",
              "    </tr>\n",
              "    <tr>\n",
              "      <th>4</th>\n",
              "      <td>Box Truck</td>\n",
              "      <td>Sedan</td>\n",
              "      <td>PK</td>\n",
              "      <td>Sedan</td>\n",
              "      <td>Sedan</td>\n",
              "      <td>1</td>\n",
              "    </tr>\n",
              "    <tr>\n",
              "      <th>...</th>\n",
              "      <td>...</td>\n",
              "      <td>...</td>\n",
              "      <td>...</td>\n",
              "      <td>...</td>\n",
              "      <td>...</td>\n",
              "      <td>...</td>\n",
              "    </tr>\n",
              "    <tr>\n",
              "      <th>265</th>\n",
              "      <td>Van</td>\n",
              "      <td>Sedan</td>\n",
              "      <td>Taxi</td>\n",
              "      <td>Sedan</td>\n",
              "      <td>Tractor Truck Diesel</td>\n",
              "      <td>1</td>\n",
              "    </tr>\n",
              "    <tr>\n",
              "      <th>266</th>\n",
              "      <td>Van</td>\n",
              "      <td>Station Wagon/Sport Utility Vehicle</td>\n",
              "      <td>Sedan</td>\n",
              "      <td>Sedan</td>\n",
              "      <td>Sedan</td>\n",
              "      <td>1</td>\n",
              "    </tr>\n",
              "    <tr>\n",
              "      <th>267</th>\n",
              "      <td>bus</td>\n",
              "      <td>Sedan</td>\n",
              "      <td>Sedan</td>\n",
              "      <td>Station Wagon/Sport Utility Vehicle</td>\n",
              "      <td>Sedan</td>\n",
              "      <td>1</td>\n",
              "    </tr>\n",
              "    <tr>\n",
              "      <th>268</th>\n",
              "      <td>tract</td>\n",
              "      <td>Station Wagon/Sport Utility Vehicle</td>\n",
              "      <td>Sedan</td>\n",
              "      <td>Station Wagon/Sport Utility Vehicle</td>\n",
              "      <td>Sedan</td>\n",
              "      <td>1</td>\n",
              "    </tr>\n",
              "    <tr>\n",
              "      <th>269</th>\n",
              "      <td>van</td>\n",
              "      <td>Station Wagon/Sport Utility Vehicle</td>\n",
              "      <td>Sedan</td>\n",
              "      <td>Sedan</td>\n",
              "      <td>Station Wagon/Sport Utility Vehicle</td>\n",
              "      <td>1</td>\n",
              "    </tr>\n",
              "  </tbody>\n",
              "</table>\n",
              "<p>270 rows × 6 columns</p>\n",
              "</div>"
            ],
            "text/plain": [
              "    VEHICLE TYPE CODE 1  ... size\n",
              "0             Ambulance  ...    1\n",
              "1             Ambulance  ...    1\n",
              "2                    BU  ...    1\n",
              "3             Box Truck  ...    1\n",
              "4             Box Truck  ...    1\n",
              "..                  ...  ...  ...\n",
              "265                 Van  ...    1\n",
              "266                 Van  ...    1\n",
              "267                 bus  ...    1\n",
              "268               tract  ...    1\n",
              "269                 van  ...    1\n",
              "\n",
              "[270 rows x 6 columns]"
            ]
          },
          "metadata": {},
          "execution_count": 136
        }
      ]
    },
    {
      "cell_type": "markdown",
      "metadata": {
        "id": "rfThjysALH3T"
      },
      "source": [
        ""
      ]
    },
    {
      "cell_type": "markdown",
      "metadata": {
        "id": "vSxjb97fLH3T"
      },
      "source": [
        "### Ejercicio 11 \n",
        "\n",
        "En 2018 para una [entrevista](https://www.nytimes.com/2019/01/01/nyregion/traffic-deaths-decrease-nyc.html) con The New York Times, el alcalde de Blasio de Nueva York declaró que *'Vision Zero está funcionando claramente'*. Ese año, el número de muertes en accidentes de tráfico en Nueva York se redujo a un histórico 202. Sin embargo, según lo informado por [am New York Metro](https://www.amny.com/news/vision-zero-de-blasio- 1-30707464 /), el número de víctimas mortales ha aumentado un 30% en el primer trimestre de 2019 en comparación con el año anterior y el número de peatones y ciclistas heridos no ha experimentado ninguna mejora.\n",
        "\n",
        "¿Cómo utilizaría los datos proporcionados para comprender qué salió mal en el primer trimestre de 2019?\n",
        "\n",
        "\n",
        "> - [ ] Considere los accidentes del primer trimestre de 2019. Luego, busque las causas más comunes de accidentes en los que estuvieron involucrados peatones y ciclistas. Dé una recomendación basada únicamente en esta información.\n",
        "\n",
        "> - [ ] Cree un par de mapas de calor de los accidentes que involucraron a peatones y ciclistas lesionados / muertos en el primer trimestre de 2018 y 2019. Compare estos dos para ver si hay algún cambio en la concentración de accidentes. En áreas críticas, estudie el tipo de factores involucrados en los accidentes. Dé una recomendación para visitar estas áreas para estudiar más el problema.   \n",
        "\n",
        "> - [ ] Los datos proporcionados son insuficientes para mejorar nuestra comprensión de la situación.\n",
        "\n",
        "> - [ ] Ninguna de las anteriores. Haría lo siguiente: *aquí tu respuesta recomendada*."
      ]
    },
    {
      "cell_type": "markdown",
      "metadata": {
        "id": "PELcmiVXLH3T"
      },
      "source": [
        "**Respuesta.**\n"
      ]
    },
    {
      "cell_type": "code",
      "metadata": {
        "id": "qFnxVmGGLH3T"
      },
      "source": [
        ""
      ],
      "execution_count": null,
      "outputs": []
    },
    {
      "cell_type": "markdown",
      "metadata": {
        "id": "MG630yC1LH3T"
      },
      "source": [
        "### Ejercicio 12 \n",
        "\n",
        "Calcula el número de muertes provocadas por cada tipo de vehículo. Trace un gráfico de barras para los 5 vehículos principales. ¿Qué vehículos están involucrados con mayor frecuencia en las muertes y cuánto más que los demás?\n",
        "\n",
        "**Por ejemplo,** si dos personas murieron en un accidente en el que estuvieron involucrados 5 vehículos: 4 son VEHÍCULOS DE PASAJEROS y 1 es un VAGÓN DEPORTIVO / ESTACIÓN. Luego, agregaríamos dos muertes a cada tipo de VEHÍCULO DE PASAJEROS y VAGÓN DE ESTACIÓN / SERVICIO DEPORTIVO.\n",
        "\n",
        "**Sugerencia:** Es posible que desee crear una nueva columna con el número total de muertes en el accidente. Para eso, puede encontrar útil la función ```.to_numpy()```. Luego, proceda como los ejercicios anteriores para evitar contabilizar dos veces el tipo de vehículos."
      ]
    },
    {
      "cell_type": "markdown",
      "metadata": {
        "id": "I5eiLQ0SLH3T"
      },
      "source": [
        "**Repsuesta.**"
      ]
    },
    {
      "cell_type": "code",
      "metadata": {
        "id": "dIok_ZzmLH3T"
      },
      "source": [
        ""
      ],
      "execution_count": null,
      "outputs": []
    },
    {
      "cell_type": "markdown",
      "metadata": {
        "id": "zc4djBtpLH3U"
      },
      "source": [
        ""
      ]
    },
    {
      "cell_type": "code",
      "metadata": {
        "id": "uJ0bMTCcLH3U"
      },
      "source": [
        ""
      ],
      "execution_count": null,
      "outputs": []
    },
    {
      "cell_type": "markdown",
      "metadata": {
        "id": "M2lI7uskLH3U"
      },
      "source": [
        ""
      ]
    }
  ]
}