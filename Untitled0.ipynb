{
  "nbformat": 4,
  "nbformat_minor": 0,
  "metadata": {
    "colab": {
      "name": "Untitled0.ipynb",
      "provenance": [],
      "collapsed_sections": [],
      "authorship_tag": "ABX9TyPGfAfsdvFR304Og8A3Rxhc",
      "include_colab_link": true
    },
    "kernelspec": {
      "display_name": "Python 3",
      "name": "python3"
    },
    "language_info": {
      "name": "python"
    }
  },
  "cells": [
    {
      "cell_type": "markdown",
      "metadata": {
        "id": "view-in-github",
        "colab_type": "text"
      },
      "source": [
        "<a href=\"https://colab.research.google.com/github/MelisaManiosCuellar/vezar/blob/master/Untitled0.ipynb\" target=\"_parent\"><img src=\"https://colab.research.google.com/assets/colab-badge.svg\" alt=\"Open In Colab\"/></a>"
      ]
    },
    {
      "cell_type": "code",
      "metadata": {
        "colab": {
          "background_save": true
        },
        "id": "6QG3Vilc3z4G"
      },
      "source": [
        "pip install numpy"
      ],
      "execution_count": null,
      "outputs": []
    },
    {
      "cell_type": "code",
      "metadata": {
        "colab": {
          "background_save": true
        },
        "id": "WVosHsaH4Hjc"
      },
      "source": [
        "pip install geopandas"
      ],
      "execution_count": null,
      "outputs": []
    },
    {
      "cell_type": "markdown",
      "metadata": {
        "id": "RpDlQOMC7PCE"
      },
      "source": [
        "1.Numeros Palindromos "
      ]
    },
    {
      "cell_type": "code",
      "metadata": {
        "id": "1FHXCvFQ3wPd"
      },
      "source": [
        "import numpy as np\n",
        "\n",
        "def invertirNumero():\n",
        "  numero=palindromo[::-1]\n",
        "  if numero==palindromo:\n",
        "    print(\"El Numero Es Palindromo\")\n",
        "  else:\n",
        "    print(\"El Numero No Es Palindromo\")\n",
        "\n",
        "while True:\n",
        "  palindromo = input(\"Ingrese Un Numero: \")\n",
        "  try:\n",
        "    tmp = int(palindromo)\n",
        "    if tmp<=0:\n",
        "      print(\"El Numero debe ser mayor a 0\")\n",
        "    elif tmp<11:\n",
        "      print(\"El Numero No Es Palindromo\")\n",
        "    else:\n",
        "      invertirNumero()\n",
        "      break\n",
        "  except:\n",
        "    print(\"El valor ingresado no es un numero, intente de nuevo\")"
      ],
      "execution_count": null,
      "outputs": []
    },
    {
      "cell_type": "markdown",
      "metadata": {
        "id": "hhWk_RMB7NHD"
      },
      "source": [
        "**Numeros primos:**\n",
        "Escriba una función que reciba como entrada un número y determine si es o no un numero primo."
      ]
    },
    {
      "cell_type": "code",
      "metadata": {
        "id": "2H3NvSybrBjt"
      },
      "source": [
        "import numpy as np\n",
        "\n",
        "def esPrimo(num):\n",
        "    for n in range(2, num):\n",
        "        if num % n == 0:\n",
        "            print(\"No es primo\")\n",
        "            return\n",
        "    print(\"Es primo\")\n",
        "    return\n",
        "\n",
        "while True:\n",
        "  primo = input(\"Ingrese Un Numero: \")\n",
        "  try:\n",
        "    tmp = int(primo)\n",
        "    if tmp>1:\n",
        "      esPrimo(tmp)\n",
        "    else:\n",
        "      print(\"No es primo\")\n",
        "    break\n",
        "  except:\n",
        "    print(\"El valor ingresado no es un numero, intente de nuevo\")"
      ],
      "execution_count": null,
      "outputs": []
    },
    {
      "cell_type": "markdown",
      "metadata": {
        "id": "FKTrK0m57zM_"
      },
      "source": [
        "**Numeros primos 2: **\n",
        "Escriba una función que devuelva una lista de numeros primos con base a la cantidad que el usuario le solicite, Ejemplo si el usuario ingresa 3 debe retornar los 3 primeros numeros primos.\n"
      ]
    },
    {
      "cell_type": "code",
      "metadata": {
        "id": "BW-bWwtw8VGf"
      },
      "source": [
        "primos=[2, 3, 5, 7, 11, 13, 17, 19, 23, 29, 31, 37, 41, 43, 47, 53, 59, 61, 67, 71, 73, 79, 83, 89, 97, 101, 103, 107, 109, 113, 127, 131, 137, 139, 149, 151, 157, 163, 167, 173, 179, 181, 191, 193, 197, 199, 211, 223, 227, 229, 233, 239, 241, 251, 257, 263, 269, 271, 277, 281, 283, 293, 307, 311, 313, 317, 331, 337, 347, 349, 353, 359, 367, 373, 379, 383, 389, 397, 401, 409, 419, 421, 431, 433, 439, 443, 449, 457, 461, 463, 467, 479, 487, 491, 499, 503, 509, 521, 523, 541, 547, 557, 563, 569, 571, 577, 587, 593, 599, 601, 607, 613, 617, 619, 631, 641, 643, 647, 653, 659, 661, 673, 677, 683, 691, 701, 709, 719, 727, 733, 739, 743, 751, 757, 761, 769, 773, 787, 797, 809, 811, 821, 823, 827, 829, 839, 853, 857, 859, 863, 877, 881, 883, 887, 907, 911, 919, 929, 937, 941, 947, 953, 967, 971, 977, 983, 991, 997]\n",
        "\n",
        "def ingresarNumero(pregunta):\n",
        "  while True:\n",
        "    num = input(pregunta)\n",
        "    try:\n",
        "      tmp = int(num)\n",
        "      return tmp\n",
        "    except:\n",
        "      print(\"El valor ingresado no es un numero, intente de nuevo\")\n",
        "\n",
        "print(\"Rango de cantidad permitido de 1-168\")\n",
        "cantidad = ingresarNumero(\"Ingrese La Cantidad A Consultar: \")\n",
        "if cantidad>0 and cantidad<=168:\n",
        "  for x in range(0, cantidad):\n",
        "    print(primos[x]) \n",
        "elif cantidad>168:\n",
        "  print(\"La cantidad debe ser menor a 168\")\n",
        "else:\n",
        "  print(\"La cantidad debe ser mayor a 0\")\n"
      ],
      "execution_count": null,
      "outputs": []
    },
    {
      "cell_type": "markdown",
      "metadata": {
        "id": "pBIiTirI8Wkt"
      },
      "source": [
        " Numeros primos 3:\n",
        "El primo de Mersenne es un numero primo de la forma 2 𝑝 − 1, una de las propiedades de los primos de Mersenne es que p debe ser también un número primo, escriba una función que imprima la cantidad de numeros que el usuario solicite, Ejemplo: si el usuario ingreso 3 los primeros primos de Mersenne deberían ser 3, 7 y 31. "
      ]
    },
    {
      "cell_type": "code",
      "metadata": {
        "id": "4hN1bOYmCS8h"
      },
      "source": [
        "primosMersenne=[3,7,31,127,8191,131071,524287,2147483647,2305843009213693951,'618970019…449562111','162259276…010288127','170141183…884105727','686479766…115057151','531137992…031728127','104079321…168729087','147597991…697771007','446087557…132836351','259117086…909315071','190797007…350484991','285542542…608580607','478220278…225754111','346088282…789463551','281411201…696392191','431542479…968041471','448679166…511882751','402874115…779264511','854509824…011228671','536927995…433438207','521928313…465515007','512740276…730061311','746093103…815528447','174135906…544677887','129498125…500142591','412245773…089366527','814717564…451315711','623340076…729201151','127411683…024694271','437075744…924193791','924947738…256259071','125976895…855682047','299410429…733969407','122164630…577077247','315416475…652943871','124575026…053967871','202254406…308220927','169873516…562314751','316470269…697152511','581887266…724285951','300376418…086436351','467333183…762179071','148894445…217902591']\n",
        "\n",
        "def ingresarNumero(pregunta):\n",
        "  while True:\n",
        "    num = input(pregunta)\n",
        "    try:\n",
        "      tmp = int(num)\n",
        "      return tmp\n",
        "    except:\n",
        "      print(\"El valor ingresado no es un numero, intente de nuevo\")\n",
        "\n",
        "print(\"Rango de cantidad permitido de 1-51\")\n",
        "cantidad = ingresarNumero(\"Ingrese La Cantidad A Consultar: \")\n",
        "if cantidad>0 and cantidad<=51:\n",
        "  for x in range(0, cantidad):\n",
        "    print(primosMersenne[x]) \n",
        "elif cantidad>51:\n",
        "  print(\"La cantidad debe ser menor a 51\")\n",
        "else:\n",
        "  print(\"La cantidad debe ser mayor a 0\")\n"
      ],
      "execution_count": null,
      "outputs": []
    },
    {
      "cell_type": "markdown",
      "metadata": {
        "id": "gIKZkysA82hE"
      },
      "source": [
        "Máximo común divisor:\n",
        "Escriba una función que reciba dos numeros y retorne el cálculo de su máximo común divisor."
      ]
    },
    {
      "cell_type": "code",
      "metadata": {
        "id": "XE8q1TMsF3WH"
      },
      "source": [
        "from math import gcd  \n",
        "\n",
        "def ingresarNumero(pregunta):\n",
        "  while True:\n",
        "    num = input(pregunta)\n",
        "    try:\n",
        "      tmp = int(num)\n",
        "      return tmp\n",
        "    except:\n",
        "      print(\"El valor ingresado no es un numero, intente de nuevo\")\n",
        "\n",
        "numeroUno = ingresarNumero(\"Ingrese el primer numero: \")\n",
        "numeroDos = ingresarNumero(\"Ingrese el segundo numero: \")\n",
        "gcd(numeroUno,numeroDos)"
      ],
      "execution_count": null,
      "outputs": []
    },
    {
      "cell_type": "markdown",
      "metadata": {
        "id": "oME3yFFq87nO"
      },
      "source": [
        "**Numeros romanos:**\n",
        "Escriba una función que reciba un numero y retorne como resultado el numero romano de dicho \n",
        "número."
      ]
    },
    {
      "cell_type": "code",
      "metadata": {
        "colab": {
          "background_save": true
        },
        "id": "aqpfBJGw4-yo"
      },
      "source": [
        "import math\n",
        "Unidad=[\"\", \"I\", \"II\", \"III\", \"IV\", \"V\", \"VI\", \"VII\", \"VIII\", \"IX\"]\n",
        "Decena=[\"\", \"X\", \"XX\", \"XXX\", \"XL\", \"L\", \"LX\", \"LXX\", \"LXXX\", \"XC\"]\n",
        "Centena=[\"\", \"C\", \"CC\", \"CCC\", \"CD\", \"D\", \"DC\", \"DCC\", \"DCCC\", \"CM\"]\n",
        "N=int(input(\"Ingresa numero entero\\n\"))\n",
        "u= N % 10\n",
        "d=int(math.floor(N/10))%10\n",
        "c=int(math.floor(N/100))\n",
        "if(N>=100):\n",
        " print(Centena[c]+Decena[d]+Unidad[u])\n",
        "else:\n",
        " if(N>=10):\n",
        "  print(Decena[d]+Unidad[u])\n",
        " else:\n",
        "  print(Unidad[N])"
      ],
      "execution_count": null,
      "outputs": []
    },
    {
      "cell_type": "code",
      "metadata": {
        "id": "mN3V55r9YtJD"
      },
      "source": [
        "from collections import OrderedDict\n",
        "\n",
        "def write_roman(num):\n",
        "\n",
        "    roman = OrderedDict()\n",
        "    roman[1000] = \"M\"\n",
        "    roman[900] = \"CM\"\n",
        "    roman[500] = \"D\"\n",
        "    roman[400] = \"CD\"\n",
        "    roman[100] = \"C\"\n",
        "    roman[90] = \"XC\"\n",
        "    roman[50] = \"L\"\n",
        "    roman[40] = \"XL\"\n",
        "    roman[10] = \"X\"\n",
        "    roman[9] = \"IX\"\n",
        "    roman[5] = \"V\"\n",
        "    roman[4] = \"IV\"\n",
        "    roman[1] = \"I\"\n",
        "\n",
        "    def roman_num(num):\n",
        "        for r in roman.keys():\n",
        "            x, y = divmod(num, r)\n",
        "            yield roman[r] * x\n",
        "            num -= (r * x)\n",
        "            if num <= 0:\n",
        "                break\n",
        "\n",
        "    return \"\".join([a for a in roman_num(num)])\n",
        "\n",
        "    num = 5\n",
        "print write_roman(num)\n",
        "\n"
      ],
      "execution_count": null,
      "outputs": []
    },
    {
      "cell_type": "markdown",
      "metadata": {
        "id": "C-5k6ci-7K7r"
      },
      "source": [
        ""
      ]
    }
  ]
}