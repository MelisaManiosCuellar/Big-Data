{
  "nbformat": 4,
  "nbformat_minor": 0,
  "metadata": {
    "colab": {
      "name": "Taller_Diplomado_1Oct (1).ipynb",
      "provenance": [],
      "collapsed_sections": [],
      "include_colab_link": true
    },
    "kernelspec": {
      "name": "python3",
      "display_name": "Python 3"
    },
    "language_info": {
      "name": "python"
    }
  },
  "cells": [
    {
      "cell_type": "markdown",
      "metadata": {
        "id": "view-in-github",
        "colab_type": "text"
      },
      "source": [
        "<a href=\"https://colab.research.google.com/github/MelisaManiosCuellar/Big-Data/blob/master/Taller_Diplomado_1Oct_(1).ipynb\" target=\"_parent\"><img src=\"https://colab.research.google.com/assets/colab-badge.svg\" alt=\"Open In Colab\"/></a>"
      ]
    },
    {
      "cell_type": "markdown",
      "metadata": {
        "id": "JBEOrsmEH-jp"
      },
      "source": [
        "# 1. Conectarse al drive"
      ]
    },
    {
      "cell_type": "code",
      "metadata": {
        "colab": {
          "base_uri": "https://localhost:8080/"
        },
        "id": "vljZ51sfHpWu",
        "outputId": "aa30ef6b-11a1-429b-b574-8a633f363309"
      },
      "source": [
        "from google.colab import drive\n",
        "import os\n",
        "drive.mount('/content/gdrive')\n",
        "# Establecer ruta de acceso en drive\n",
        "import os\n",
        "print(os.getcwd())\n",
        "os.chdir(\"/content/gdrive/My Drive\")"
      ],
      "execution_count": null,
      "outputs": [
        {
          "output_type": "stream",
          "name": "stdout",
          "text": [
            "Mounted at /content/gdrive\n",
            "/content\n"
          ]
        }
      ]
    },
    {
      "cell_type": "code",
      "metadata": {
        "colab": {
          "base_uri": "https://localhost:8080/"
        },
        "id": "UG59Vn-tH0G9",
        "outputId": "edbe2e77-dade-4dee-bfc3-313a75f00236"
      },
      "source": [
        "%cd '/content/gdrive/MyDrive/Taller_Diplomado_1Oct'"
      ],
      "execution_count": null,
      "outputs": [
        {
          "output_type": "stream",
          "name": "stdout",
          "text": [
            "/content/gdrive/MyDrive/Taller_Diplomado_1Oct\n"
          ]
        }
      ]
    },
    {
      "cell_type": "markdown",
      "metadata": {
        "id": "A_HzVkfMISKa"
      },
      "source": [
        "## 1.1 Cargar paquetes"
      ]
    },
    {
      "cell_type": "code",
      "metadata": {
        "id": "fq_AClHCIQ5r",
        "colab": {
          "base_uri": "https://localhost:8080/"
        },
        "outputId": "b37095da-4517-4c05-8fcd-e5f9782107ff"
      },
      "source": [
        "import pandas as pd\n",
        "from   scipy import stats\n",
        "import numpy as np\n",
        "import matplotlib.pyplot as plt\n",
        "import seaborn as sns\n",
        "import statsmodels.formula.api as sm\n",
        "from sklearn.linear_model import LinearRegression\n",
        "from sklearn import svm\n",
        "from sklearn.model_selection import GridSearchCV\n",
        "from prettytable import PrettyTable\n",
        "from sklearn.metrics import accuracy_score, recall_score\n",
        "from sklearn import metrics\n"
      ],
      "execution_count": null,
      "outputs": [
        {
          "output_type": "stream",
          "name": "stderr",
          "text": [
            "/usr/local/lib/python3.7/dist-packages/statsmodels/tools/_testing.py:19: FutureWarning: pandas.util.testing is deprecated. Use the functions in the public API at pandas.testing instead.\n",
            "  import pandas.util.testing as tm\n"
          ]
        }
      ]
    },
    {
      "cell_type": "markdown",
      "metadata": {
        "id": "9l7e1FZoIDkJ"
      },
      "source": [
        "# 2. Cargar los datos (Regresion)"
      ]
    },
    {
      "cell_type": "code",
      "metadata": {
        "colab": {
          "base_uri": "https://localhost:8080/",
          "height": 202
        },
        "id": "2P94Vh8QIKcp",
        "outputId": "d7629a35-1fd2-40ff-b842-96fa33c8a1f9"
      },
      "source": [
        "data_boston= pd.read_csv('Boston.csv',sep=',')\n",
        "data_boston= data_boston.drop(columns=['Unnamed: 0'])\n",
        "data_boston.head()"
      ],
      "execution_count": null,
      "outputs": [
        {
          "output_type": "execute_result",
          "data": {
            "text/html": [
              "<div>\n",
              "<style scoped>\n",
              "    .dataframe tbody tr th:only-of-type {\n",
              "        vertical-align: middle;\n",
              "    }\n",
              "\n",
              "    .dataframe tbody tr th {\n",
              "        vertical-align: top;\n",
              "    }\n",
              "\n",
              "    .dataframe thead th {\n",
              "        text-align: right;\n",
              "    }\n",
              "</style>\n",
              "<table border=\"1\" class=\"dataframe\">\n",
              "  <thead>\n",
              "    <tr style=\"text-align: right;\">\n",
              "      <th></th>\n",
              "      <th>crim</th>\n",
              "      <th>zn</th>\n",
              "      <th>indus</th>\n",
              "      <th>chas</th>\n",
              "      <th>nox</th>\n",
              "      <th>rm</th>\n",
              "      <th>age</th>\n",
              "      <th>dis</th>\n",
              "      <th>rad</th>\n",
              "      <th>tax</th>\n",
              "      <th>ptratio</th>\n",
              "      <th>black</th>\n",
              "      <th>lstat</th>\n",
              "      <th>medv</th>\n",
              "    </tr>\n",
              "  </thead>\n",
              "  <tbody>\n",
              "    <tr>\n",
              "      <th>0</th>\n",
              "      <td>0.00632</td>\n",
              "      <td>18.0</td>\n",
              "      <td>2.31</td>\n",
              "      <td>0</td>\n",
              "      <td>0.538</td>\n",
              "      <td>6.575</td>\n",
              "      <td>65.2</td>\n",
              "      <td>4.0900</td>\n",
              "      <td>1</td>\n",
              "      <td>296</td>\n",
              "      <td>15.3</td>\n",
              "      <td>396.90</td>\n",
              "      <td>4.98</td>\n",
              "      <td>24.0</td>\n",
              "    </tr>\n",
              "    <tr>\n",
              "      <th>1</th>\n",
              "      <td>0.02731</td>\n",
              "      <td>0.0</td>\n",
              "      <td>7.07</td>\n",
              "      <td>0</td>\n",
              "      <td>0.469</td>\n",
              "      <td>6.421</td>\n",
              "      <td>78.9</td>\n",
              "      <td>4.9671</td>\n",
              "      <td>2</td>\n",
              "      <td>242</td>\n",
              "      <td>17.8</td>\n",
              "      <td>396.90</td>\n",
              "      <td>9.14</td>\n",
              "      <td>21.6</td>\n",
              "    </tr>\n",
              "    <tr>\n",
              "      <th>2</th>\n",
              "      <td>0.02729</td>\n",
              "      <td>0.0</td>\n",
              "      <td>7.07</td>\n",
              "      <td>0</td>\n",
              "      <td>0.469</td>\n",
              "      <td>7.185</td>\n",
              "      <td>61.1</td>\n",
              "      <td>4.9671</td>\n",
              "      <td>2</td>\n",
              "      <td>242</td>\n",
              "      <td>17.8</td>\n",
              "      <td>392.83</td>\n",
              "      <td>4.03</td>\n",
              "      <td>34.7</td>\n",
              "    </tr>\n",
              "    <tr>\n",
              "      <th>3</th>\n",
              "      <td>0.03237</td>\n",
              "      <td>0.0</td>\n",
              "      <td>2.18</td>\n",
              "      <td>0</td>\n",
              "      <td>0.458</td>\n",
              "      <td>6.998</td>\n",
              "      <td>45.8</td>\n",
              "      <td>6.0622</td>\n",
              "      <td>3</td>\n",
              "      <td>222</td>\n",
              "      <td>18.7</td>\n",
              "      <td>394.63</td>\n",
              "      <td>2.94</td>\n",
              "      <td>33.4</td>\n",
              "    </tr>\n",
              "    <tr>\n",
              "      <th>4</th>\n",
              "      <td>0.06905</td>\n",
              "      <td>0.0</td>\n",
              "      <td>2.18</td>\n",
              "      <td>0</td>\n",
              "      <td>0.458</td>\n",
              "      <td>7.147</td>\n",
              "      <td>54.2</td>\n",
              "      <td>6.0622</td>\n",
              "      <td>3</td>\n",
              "      <td>222</td>\n",
              "      <td>18.7</td>\n",
              "      <td>396.90</td>\n",
              "      <td>5.33</td>\n",
              "      <td>36.2</td>\n",
              "    </tr>\n",
              "  </tbody>\n",
              "</table>\n",
              "</div>"
            ],
            "text/plain": [
              "      crim    zn  indus  chas    nox  ...  tax  ptratio   black  lstat  medv\n",
              "0  0.00632  18.0   2.31     0  0.538  ...  296     15.3  396.90   4.98  24.0\n",
              "1  0.02731   0.0   7.07     0  0.469  ...  242     17.8  396.90   9.14  21.6\n",
              "2  0.02729   0.0   7.07     0  0.469  ...  242     17.8  392.83   4.03  34.7\n",
              "3  0.03237   0.0   2.18     0  0.458  ...  222     18.7  394.63   2.94  33.4\n",
              "4  0.06905   0.0   2.18     0  0.458  ...  222     18.7  396.90   5.33  36.2\n",
              "\n",
              "[5 rows x 14 columns]"
            ]
          },
          "metadata": {},
          "execution_count": 4
        }
      ]
    },
    {
      "cell_type": "code",
      "metadata": {
        "colab": {
          "base_uri": "https://localhost:8080/"
        },
        "id": "YNTlHwlIK4TI",
        "outputId": "e81dfe3d-40a3-49e0-c2b3-7189df2ba3ef"
      },
      "source": [
        "data_boston.shape"
      ],
      "execution_count": null,
      "outputs": [
        {
          "output_type": "execute_result",
          "data": {
            "text/plain": [
              "(506, 14)"
            ]
          },
          "metadata": {},
          "execution_count": 7
        }
      ]
    },
    {
      "cell_type": "markdown",
      "metadata": {
        "id": "GeHFubMDIizg"
      },
      "source": [
        "**Notacion**\n",
        "\n",
        "**CRIM** - per capita crime rate by town\n",
        "\n",
        "**ZN** - proportion of residential land zoned for lots over 25,000 sq.ft.\n",
        "\n",
        "**INDUS** - proportion of non-retail business acres per town.\n",
        "\n",
        "**CHAS** - Charles River dummy variable (1 if tract bounds river; 0 otherwise)\n",
        "\n",
        "**NOX** - nitric oxides concentration (parts per 10 million)\n",
        "\n",
        "**RM** - average number of rooms per dwelling\n",
        "\n",
        "**AGE** - proportion of owner-occupied units built prior to 1940\n",
        "\n",
        "**DIS** - weighted distances to five Boston employment centres\n",
        "\n",
        "**RAD** - index of accessibility to radial highways\n",
        "\n",
        "**TAX** - full-value property-tax rate per $10,000\n",
        "\n",
        "**PTRATIO** - pupil-teacher ratio by town\n",
        "\n",
        "**B** - 1000(Bk - 0.63)^2 where Bk is the proportion of blacks by town\n",
        "\n",
        "**LSTAT** - % lower status of the population\n",
        "\n",
        "**MEDV** - Median value of owner-occupied homes in $1000's"
      ]
    },
    {
      "cell_type": "markdown",
      "metadata": {
        "id": "_5F_ckAbI26n"
      },
      "source": [
        "# Grafico general (Analisis descriptivo)"
      ]
    },
    {
      "cell_type": "code",
      "metadata": {
        "colab": {
          "base_uri": "https://localhost:8080/",
          "height": 422
        },
        "id": "2mPwaNz9I5HW",
        "outputId": "f550d5e2-20c1-407e-be6a-9c3b165b99f9"
      },
      "source": [
        "import seaborn as sns\n",
        "plt.figure(figsize=(10,6))\n",
        "sns.scatterplot(x=data_boston.lstat,y=data_boston.medv)\n",
        "plt.xlabel('lstat (Porcentaje poblacion en riesgo)')\n",
        "plt.ylabel('medv')\n",
        "plt.title('Relacion medv vs lstat')"
      ],
      "execution_count": null,
      "outputs": [
        {
          "output_type": "execute_result",
          "data": {
            "text/plain": [
              "Text(0.5, 1.0, 'Relacion medv vs lstat')"
            ]
          },
          "metadata": {},
          "execution_count": 5
        },
        {
          "output_type": "display_data",
          "data": {
            "image/png": "[encoded data removed]",
            "text/plain": [
              "<Figure size 720x432 with 1 Axes>"
            ]
          },
          "metadata": {
            "needs_background": "light"
          }
        }
      ]
    },
    {
      "cell_type": "markdown",
      "metadata": {
        "id": "XINLQROLKrnI"
      },
      "source": [
        "**Interpretacion** .................. Yo pienso ...."
      ]
    },
    {
      "cell_type": "code",
      "metadata": {
        "colab": {
          "base_uri": "https://localhost:8080/",
          "height": 422
        },
        "id": "b5ZMkscwKIp6",
        "outputId": "08f88962-d72c-44ab-c4fa-64c4d7462e33"
      },
      "source": [
        "import seaborn as sns\n",
        "plt.figure(figsize=(10,6))\n",
        "sns.boxplot(x=data_boston.chas,y=data_boston.medv)\n",
        "plt.xlabel('Cercania al rio')\n",
        "plt.ylabel('medv')\n",
        "plt.title('Relacion medv vs cercania a rios')"
      ],
      "execution_count": null,
      "outputs": [
        {
          "output_type": "execute_result",
          "data": {
            "text/plain": [
              "Text(0.5, 1.0, 'Relacion medv vs cercania a rios')"
            ]
          },
          "metadata": {},
          "execution_count": 12
        },
        {
          "output_type": "display_data",
          "data": {
            "image/png": "[encoded data removed]",
            "text/plain": [
              "<Figure size 720x432 with 1 Axes>"
            ]
          },
          "metadata": {
            "needs_background": "light"
          }
        }
      ]
    },
    {
      "cell_type": "markdown",
      "metadata": {
        "id": "SfNLuW9MKyNz"
      },
      "source": [
        "**Interpretacion**........."
      ]
    },
    {
      "cell_type": "code",
      "metadata": {
        "colab": {
          "base_uri": "https://localhost:8080/",
          "height": 294
        },
        "id": "nuyZfxy2JxsJ",
        "outputId": "be3b0f6a-56cc-4646-e342-c3c6a71214e0"
      },
      "source": [
        "data_boston.describe()"
      ],
      "execution_count": null,
      "outputs": [
        {
          "output_type": "execute_result",
          "data": {
            "text/html": [
              "<div>\n",
              "<style scoped>\n",
              "    .dataframe tbody tr th:only-of-type {\n",
              "        vertical-align: middle;\n",
              "    }\n",
              "\n",
              "    .dataframe tbody tr th {\n",
              "        vertical-align: top;\n",
              "    }\n",
              "\n",
              "    .dataframe thead th {\n",
              "        text-align: right;\n",
              "    }\n",
              "</style>\n",
              "<table border=\"1\" class=\"dataframe\">\n",
              "  <thead>\n",
              "    <tr style=\"text-align: right;\">\n",
              "      <th></th>\n",
              "      <th>crim</th>\n",
              "      <th>zn</th>\n",
              "      <th>indus</th>\n",
              "      <th>chas</th>\n",
              "      <th>nox</th>\n",
              "      <th>rm</th>\n",
              "      <th>age</th>\n",
              "      <th>dis</th>\n",
              "      <th>rad</th>\n",
              "      <th>tax</th>\n",
              "      <th>ptratio</th>\n",
              "      <th>black</th>\n",
              "      <th>lstat</th>\n",
              "      <th>medv</th>\n",
              "    </tr>\n",
              "  </thead>\n",
              "  <tbody>\n",
              "    <tr>\n",
              "      <th>count</th>\n",
              "      <td>506.000000</td>\n",
              "      <td>506.000000</td>\n",
              "      <td>506.000000</td>\n",
              "      <td>506.000000</td>\n",
              "      <td>506.000000</td>\n",
              "      <td>506.000000</td>\n",
              "      <td>506.000000</td>\n",
              "      <td>506.000000</td>\n",
              "      <td>506.000000</td>\n",
              "      <td>506.000000</td>\n",
              "      <td>506.000000</td>\n",
              "      <td>506.000000</td>\n",
              "      <td>506.000000</td>\n",
              "      <td>506.000000</td>\n",
              "    </tr>\n",
              "    <tr>\n",
              "      <th>mean</th>\n",
              "      <td>3.613524</td>\n",
              "      <td>11.363636</td>\n",
              "      <td>11.136779</td>\n",
              "      <td>0.069170</td>\n",
              "      <td>0.554695</td>\n",
              "      <td>6.284634</td>\n",
              "      <td>68.574901</td>\n",
              "      <td>3.795043</td>\n",
              "      <td>9.549407</td>\n",
              "      <td>408.237154</td>\n",
              "      <td>18.455534</td>\n",
              "      <td>356.674032</td>\n",
              "      <td>12.653063</td>\n",
              "      <td>22.532806</td>\n",
              "    </tr>\n",
              "    <tr>\n",
              "      <th>std</th>\n",
              "      <td>8.601545</td>\n",
              "      <td>23.322453</td>\n",
              "      <td>6.860353</td>\n",
              "      <td>0.253994</td>\n",
              "      <td>0.115878</td>\n",
              "      <td>0.702617</td>\n",
              "      <td>28.148861</td>\n",
              "      <td>2.105710</td>\n",
              "      <td>8.707259</td>\n",
              "      <td>168.537116</td>\n",
              "      <td>2.164946</td>\n",
              "      <td>91.294864</td>\n",
              "      <td>7.141062</td>\n",
              "      <td>9.197104</td>\n",
              "    </tr>\n",
              "    <tr>\n",
              "      <th>min</th>\n",
              "      <td>0.006320</td>\n",
              "      <td>0.000000</td>\n",
              "      <td>0.460000</td>\n",
              "      <td>0.000000</td>\n",
              "      <td>0.385000</td>\n",
              "      <td>3.561000</td>\n",
              "      <td>2.900000</td>\n",
              "      <td>1.129600</td>\n",
              "      <td>1.000000</td>\n",
              "      <td>187.000000</td>\n",
              "      <td>12.600000</td>\n",
              "      <td>0.320000</td>\n",
              "      <td>1.730000</td>\n",
              "      <td>5.000000</td>\n",
              "    </tr>\n",
              "    <tr>\n",
              "      <th>25%</th>\n",
              "      <td>0.082045</td>\n",
              "      <td>0.000000</td>\n",
              "      <td>5.190000</td>\n",
              "      <td>0.000000</td>\n",
              "      <td>0.449000</td>\n",
              "      <td>5.885500</td>\n",
              "      <td>45.025000</td>\n",
              "      <td>2.100175</td>\n",
              "      <td>4.000000</td>\n",
              "      <td>279.000000</td>\n",
              "      <td>17.400000</td>\n",
              "      <td>375.377500</td>\n",
              "      <td>6.950000</td>\n",
              "      <td>17.025000</td>\n",
              "    </tr>\n",
              "    <tr>\n",
              "      <th>50%</th>\n",
              "      <td>0.256510</td>\n",
              "      <td>0.000000</td>\n",
              "      <td>9.690000</td>\n",
              "      <td>0.000000</td>\n",
              "      <td>0.538000</td>\n",
              "      <td>6.208500</td>\n",
              "      <td>77.500000</td>\n",
              "      <td>3.207450</td>\n",
              "      <td>5.000000</td>\n",
              "      <td>330.000000</td>\n",
              "      <td>19.050000</td>\n",
              "      <td>391.440000</td>\n",
              "      <td>11.360000</td>\n",
              "      <td>21.200000</td>\n",
              "    </tr>\n",
              "    <tr>\n",
              "      <th>75%</th>\n",
              "      <td>3.677082</td>\n",
              "      <td>12.500000</td>\n",
              "      <td>18.100000</td>\n",
              "      <td>0.000000</td>\n",
              "      <td>0.624000</td>\n",
              "      <td>6.623500</td>\n",
              "      <td>94.075000</td>\n",
              "      <td>5.188425</td>\n",
              "      <td>24.000000</td>\n",
              "      <td>666.000000</td>\n",
              "      <td>20.200000</td>\n",
              "      <td>396.225000</td>\n",
              "      <td>16.955000</td>\n",
              "      <td>25.000000</td>\n",
              "    </tr>\n",
              "    <tr>\n",
              "      <th>max</th>\n",
              "      <td>88.976200</td>\n",
              "      <td>100.000000</td>\n",
              "      <td>27.740000</td>\n",
              "      <td>1.000000</td>\n",
              "      <td>0.871000</td>\n",
              "      <td>8.780000</td>\n",
              "      <td>100.000000</td>\n",
              "      <td>12.126500</td>\n",
              "      <td>24.000000</td>\n",
              "      <td>711.000000</td>\n",
              "      <td>22.000000</td>\n",
              "      <td>396.900000</td>\n",
              "      <td>37.970000</td>\n",
              "      <td>50.000000</td>\n",
              "    </tr>\n",
              "  </tbody>\n",
              "</table>\n",
              "</div>"
            ],
            "text/plain": [
              "             crim          zn       indus  ...       black       lstat        medv\n",
              "count  506.000000  506.000000  506.000000  ...  506.000000  506.000000  506.000000\n",
              "mean     3.613524   11.363636   11.136779  ...  356.674032   12.653063   22.532806\n",
              "std      8.601545   23.322453    6.860353  ...   91.294864    7.141062    9.197104\n",
              "min      0.006320    0.000000    0.460000  ...    0.320000    1.730000    5.000000\n",
              "25%      0.082045    0.000000    5.190000  ...  375.377500    6.950000   17.025000\n",
              "50%      0.256510    0.000000    9.690000  ...  391.440000   11.360000   21.200000\n",
              "75%      3.677082   12.500000   18.100000  ...  396.225000   16.955000   25.000000\n",
              "max     88.976200  100.000000   27.740000  ...  396.900000   37.970000   50.000000\n",
              "\n",
              "[8 rows x 14 columns]"
            ]
          },
          "metadata": {},
          "execution_count": 9
        }
      ]
    },
    {
      "cell_type": "markdown",
      "metadata": {
        "id": "YnFoVlt5KbjQ"
      },
      "source": [
        "# 3. Definir la matriz de diseño (X) y el vector respuesta (y)"
      ]
    },
    {
      "cell_type": "code",
      "metadata": {
        "id": "EDKfoN13LOFG"
      },
      "source": [
        "X=data_boston.drop(columns=['medv']) # Variables independientes\n",
        "y=data_boston['medv'] # Variable medv"
      ],
      "execution_count": null,
      "outputs": []
    },
    {
      "cell_type": "markdown",
      "metadata": {
        "id": "j9hM8hA8LwcT"
      },
      "source": [
        "# 4. Definir muestra de entrenamiento y test"
      ]
    },
    {
      "cell_type": "code",
      "metadata": {
        "id": "2-QWnafIMB7R"
      },
      "source": [
        "from sklearn.model_selection import train_test_split\n",
        "X_train, X_test, y_train, y_test = train_test_split(X, y, test_size=0.25, random_state=42,shuffle=True)"
      ],
      "execution_count": null,
      "outputs": []
    },
    {
      "cell_type": "markdown",
      "metadata": {
        "id": "Dz_MNAy8MX3s"
      },
      "source": [
        "# 5. Entrenar modelo (prepararse para el partido)"
      ]
    },
    {
      "cell_type": "code",
      "metadata": {
        "colab": {
          "base_uri": "https://localhost:8080/"
        },
        "id": "F3wjTLZ1MiHi",
        "outputId": "6b082112-a111-4b21-91e3-22ca7d8a80a1"
      },
      "source": [
        "regressor = LinearRegression() # Regresion\n",
        "regressor.fit(X_train, y_train) # Ajustar el modelo a los datos"
      ],
      "execution_count": null,
      "outputs": [
        {
          "output_type": "execute_result",
          "data": {
            "text/plain": [
              "LinearRegression(copy_X=True, fit_intercept=True, n_jobs=None, normalize=False)"
            ]
          },
          "metadata": {},
          "execution_count": 17
        }
      ]
    },
    {
      "cell_type": "markdown",
      "metadata": {
        "id": "qoH7i_txNEWv"
      },
      "source": [
        "# 6. Analizar coeficientes"
      ]
    },
    {
      "cell_type": "code",
      "metadata": {
        "colab": {
          "base_uri": "https://localhost:8080/"
        },
        "id": "gKdMSrBWNHP8",
        "outputId": "221152fd-7d5b-4d60-994c-1ea5dc79269a"
      },
      "source": [
        "#Recuperamos la intersección\n",
        "print(regressor.intercept_)"
      ],
      "execution_count": null,
      "outputs": [
        {
          "output_type": "stream",
          "name": "stdout",
          "text": [
            "29.83642016383861\n"
          ]
        }
      ]
    },
    {
      "cell_type": "code",
      "metadata": {
        "colab": {
          "base_uri": "https://localhost:8080/"
        },
        "id": "GCONlh5fNHP-",
        "outputId": "7665df60-cbfb-4b35-8358-9eb52e768231"
      },
      "source": [
        "# Coeficientes de regresion (pendientes)\n",
        "print(regressor.coef_)"
      ],
      "execution_count": null,
      "outputs": [
        {
          "output_type": "stream",
          "name": "stdout",
          "text": [
            "[-1.28322638e-01  2.95517751e-02  4.88590934e-02  2.77350326e+00\n",
            " -1.62388292e+01  4.36875476e+00 -9.24808158e-03 -1.40086668e+00\n",
            "  2.57761243e-01 -9.95694820e-03 -9.23122944e-01  1.31854199e-02\n",
            " -5.17639519e-01]\n"
          ]
        }
      ]
    },
    {
      "cell_type": "code",
      "metadata": {
        "colab": {
          "base_uri": "https://localhost:8080/",
          "height": 447
        },
        "id": "A2z2HYrcNHP_",
        "outputId": "0f79dfce-cca1-48a2-fcc5-4dd31cf100ae"
      },
      "source": [
        "data_boston_x= data_boston.drop(columns=['medv'])\n",
        "data_boston_x.columns\n",
        "df=pd.DataFrame(regressor.coef_, data_boston_x.columns, columns=['Coeficientes'])\n",
        "df"
      ],
      "execution_count": null,
      "outputs": [
        {
          "output_type": "execute_result",
          "data": {
            "text/html": [
              "<div>\n",
              "<style scoped>\n",
              "    .dataframe tbody tr th:only-of-type {\n",
              "        vertical-align: middle;\n",
              "    }\n",
              "\n",
              "    .dataframe tbody tr th {\n",
              "        vertical-align: top;\n",
              "    }\n",
              "\n",
              "    .dataframe thead th {\n",
              "        text-align: right;\n",
              "    }\n",
              "</style>\n",
              "<table border=\"1\" class=\"dataframe\">\n",
              "  <thead>\n",
              "    <tr style=\"text-align: right;\">\n",
              "      <th></th>\n",
              "      <th>Coeficientes</th>\n",
              "    </tr>\n",
              "  </thead>\n",
              "  <tbody>\n",
              "    <tr>\n",
              "      <th>crim</th>\n",
              "      <td>-0.128323</td>\n",
              "    </tr>\n",
              "    <tr>\n",
              "      <th>zn</th>\n",
              "      <td>0.029552</td>\n",
              "    </tr>\n",
              "    <tr>\n",
              "      <th>indus</th>\n",
              "      <td>0.048859</td>\n",
              "    </tr>\n",
              "    <tr>\n",
              "      <th>chas</th>\n",
              "      <td>2.773503</td>\n",
              "    </tr>\n",
              "    <tr>\n",
              "      <th>nox</th>\n",
              "      <td>-16.238829</td>\n",
              "    </tr>\n",
              "    <tr>\n",
              "      <th>rm</th>\n",
              "      <td>4.368755</td>\n",
              "    </tr>\n",
              "    <tr>\n",
              "      <th>age</th>\n",
              "      <td>-0.009248</td>\n",
              "    </tr>\n",
              "    <tr>\n",
              "      <th>dis</th>\n",
              "      <td>-1.400867</td>\n",
              "    </tr>\n",
              "    <tr>\n",
              "      <th>rad</th>\n",
              "      <td>0.257761</td>\n",
              "    </tr>\n",
              "    <tr>\n",
              "      <th>tax</th>\n",
              "      <td>-0.009957</td>\n",
              "    </tr>\n",
              "    <tr>\n",
              "      <th>ptratio</th>\n",
              "      <td>-0.923123</td>\n",
              "    </tr>\n",
              "    <tr>\n",
              "      <th>black</th>\n",
              "      <td>0.013185</td>\n",
              "    </tr>\n",
              "    <tr>\n",
              "      <th>lstat</th>\n",
              "      <td>-0.517640</td>\n",
              "    </tr>\n",
              "  </tbody>\n",
              "</table>\n",
              "</div>"
            ],
            "text/plain": [
              "         Coeficientes\n",
              "crim        -0.128323\n",
              "zn           0.029552\n",
              "indus        0.048859\n",
              "chas         2.773503\n",
              "nox        -16.238829\n",
              "rm           4.368755\n",
              "age         -0.009248\n",
              "dis         -1.400867\n",
              "rad          0.257761\n",
              "tax         -0.009957\n",
              "ptratio     -0.923123\n",
              "black        0.013185\n",
              "lstat       -0.517640"
            ]
          },
          "metadata": {},
          "execution_count": 20
        }
      ]
    },
    {
      "cell_type": "markdown",
      "metadata": {
        "id": "5nGUq4soOM7R"
      },
      "source": [
        "**rm** por cada unidad que aumente rm el valor de medv incrementa en 4.36 (4360 $) unidades \n",
        "\n",
        "**nox** por cada unidad que aumente nox el valor de medv disminuye en 16.23 unidades\n"
      ]
    },
    {
      "cell_type": "markdown",
      "metadata": {
        "id": "0bcXZCEMPCMC"
      },
      "source": [
        "# 7. Validar los resultados"
      ]
    },
    {
      "cell_type": "code",
      "metadata": {
        "id": "6aDEFMWTMFny"
      },
      "source": [
        "y_pred= regressor.predict(X_test)"
      ],
      "execution_count": null,
      "outputs": []
    },
    {
      "cell_type": "code",
      "metadata": {
        "colab": {
          "base_uri": "https://localhost:8080/"
        },
        "id": "mKBkoB8RPMxM",
        "outputId": "c5dc83ea-1719-497a-f80e-13e701b9ef6d"
      },
      "source": [
        "y_test"
      ],
      "execution_count": null,
      "outputs": [
        {
          "output_type": "execute_result",
          "data": {
            "text/plain": [
              "173    23.6\n",
              "274    32.4\n",
              "491    13.6\n",
              "72     22.8\n",
              "452    16.1\n",
              "       ... \n",
              "418     8.8\n",
              "117    19.2\n",
              "42     25.3\n",
              "322    20.4\n",
              "347    23.1\n",
              "Name: medv, Length: 127, dtype: float64"
            ]
          },
          "metadata": {},
          "execution_count": 22
        }
      ]
    },
    {
      "cell_type": "code",
      "metadata": {
        "colab": {
          "base_uri": "https://localhost:8080/"
        },
        "id": "Xzn4kkqwMFqa",
        "outputId": "5d6b61a9-ef15-482c-8621-95a29c4163ce"
      },
      "source": [
        "from sklearn.metrics import r2_score\n",
        "r2_score(y_test, y_pred)# El modelo captura el 70% de la variabilidad"
      ],
      "execution_count": null,
      "outputs": [
        {
          "output_type": "execute_result",
          "data": {
            "text/plain": [
              "0.6844267283527106"
            ]
          },
          "metadata": {},
          "execution_count": 23
        }
      ]
    },
    {
      "cell_type": "markdown",
      "metadata": {
        "id": "Pzj-TezPVDkV"
      },
      "source": [
        "$\\color{red}{\\text{Tarea parte 1: Regresion}}$\n",
        "\n",
        "**Hacer esto mismo con Wine.csv (y= proline, x=todas las demas)**\n",
        "\n",
        "1) Alcohol\n",
        "\n",
        "2) Malic acid\n",
        "\n",
        "3) Ash\n",
        "\n",
        "4) Alcalinity of ash\n",
        "\n",
        "5) Magnesium\n",
        "\n",
        "6) Total phenols\n",
        "\n",
        "7) Flavanoids\n",
        "\n",
        "8) Nonflavanoid phenols\n",
        "\n",
        "9) Proanthocyanins\n",
        "\n",
        "10)Color intensity\n",
        "\n",
        "11)Hue\n",
        "\n",
        "12)OD280/OD315 of diluted wines\n",
        "\n",
        "13)Proline"
      ]
    },
    {
      "cell_type": "code",
      "metadata": {
        "id": "NQIq6_ejfPpA",
        "colab": {
          "base_uri": "https://localhost:8080/",
          "height": 202
        },
        "outputId": "0e3f7486-b94b-4377-816d-3cce90b22d1b"
      },
      "source": [
        "data_wine= pd.read_csv('wine.csv',sep=',')\n",
        "data_wine.head()\n"
      ],
      "execution_count": null,
      "outputs": [
        {
          "output_type": "execute_result",
          "data": {
            "text/html": [
              "<div>\n",
              "<style scoped>\n",
              "    .dataframe tbody tr th:only-of-type {\n",
              "        vertical-align: middle;\n",
              "    }\n",
              "\n",
              "    .dataframe tbody tr th {\n",
              "        vertical-align: top;\n",
              "    }\n",
              "\n",
              "    .dataframe thead th {\n",
              "        text-align: right;\n",
              "    }\n",
              "</style>\n",
              "<table border=\"1\" class=\"dataframe\">\n",
              "  <thead>\n",
              "    <tr style=\"text-align: right;\">\n",
              "      <th></th>\n",
              "      <th>Wine</th>\n",
              "      <th>Alcohol</th>\n",
              "      <th>Malic.acid</th>\n",
              "      <th>Ash</th>\n",
              "      <th>Acl</th>\n",
              "      <th>Mg</th>\n",
              "      <th>Phenols</th>\n",
              "      <th>Flavanoids</th>\n",
              "      <th>Nonflavanoid.phenols</th>\n",
              "      <th>Proanth</th>\n",
              "      <th>Color.int</th>\n",
              "      <th>Hue</th>\n",
              "      <th>OD</th>\n",
              "      <th>Proline</th>\n",
              "    </tr>\n",
              "  </thead>\n",
              "  <tbody>\n",
              "    <tr>\n",
              "      <th>0</th>\n",
              "      <td>1</td>\n",
              "      <td>14.23</td>\n",
              "      <td>1.71</td>\n",
              "      <td>2.43</td>\n",
              "      <td>15.6</td>\n",
              "      <td>127</td>\n",
              "      <td>2.80</td>\n",
              "      <td>3.06</td>\n",
              "      <td>0.28</td>\n",
              "      <td>2.29</td>\n",
              "      <td>5.64</td>\n",
              "      <td>1.04</td>\n",
              "      <td>3.92</td>\n",
              "      <td>1065</td>\n",
              "    </tr>\n",
              "    <tr>\n",
              "      <th>1</th>\n",
              "      <td>1</td>\n",
              "      <td>13.20</td>\n",
              "      <td>1.78</td>\n",
              "      <td>2.14</td>\n",
              "      <td>11.2</td>\n",
              "      <td>100</td>\n",
              "      <td>2.65</td>\n",
              "      <td>2.76</td>\n",
              "      <td>0.26</td>\n",
              "      <td>1.28</td>\n",
              "      <td>4.38</td>\n",
              "      <td>1.05</td>\n",
              "      <td>3.40</td>\n",
              "      <td>1050</td>\n",
              "    </tr>\n",
              "    <tr>\n",
              "      <th>2</th>\n",
              "      <td>1</td>\n",
              "      <td>13.16</td>\n",
              "      <td>2.36</td>\n",
              "      <td>2.67</td>\n",
              "      <td>18.6</td>\n",
              "      <td>101</td>\n",
              "      <td>2.80</td>\n",
              "      <td>3.24</td>\n",
              "      <td>0.30</td>\n",
              "      <td>2.81</td>\n",
              "      <td>5.68</td>\n",
              "      <td>1.03</td>\n",
              "      <td>3.17</td>\n",
              "      <td>1185</td>\n",
              "    </tr>\n",
              "    <tr>\n",
              "      <th>3</th>\n",
              "      <td>1</td>\n",
              "      <td>14.37</td>\n",
              "      <td>1.95</td>\n",
              "      <td>2.50</td>\n",
              "      <td>16.8</td>\n",
              "      <td>113</td>\n",
              "      <td>3.85</td>\n",
              "      <td>3.49</td>\n",
              "      <td>0.24</td>\n",
              "      <td>2.18</td>\n",
              "      <td>7.80</td>\n",
              "      <td>0.86</td>\n",
              "      <td>3.45</td>\n",
              "      <td>1480</td>\n",
              "    </tr>\n",
              "    <tr>\n",
              "      <th>4</th>\n",
              "      <td>1</td>\n",
              "      <td>13.24</td>\n",
              "      <td>2.59</td>\n",
              "      <td>2.87</td>\n",
              "      <td>21.0</td>\n",
              "      <td>118</td>\n",
              "      <td>2.80</td>\n",
              "      <td>2.69</td>\n",
              "      <td>0.39</td>\n",
              "      <td>1.82</td>\n",
              "      <td>4.32</td>\n",
              "      <td>1.04</td>\n",
              "      <td>2.93</td>\n",
              "      <td>735</td>\n",
              "    </tr>\n",
              "  </tbody>\n",
              "</table>\n",
              "</div>"
            ],
            "text/plain": [
              "   Wine  Alcohol  Malic.acid   Ash  ...  Color.int   Hue    OD  Proline\n",
              "0     1    14.23        1.71  2.43  ...       5.64  1.04  3.92     1065\n",
              "1     1    13.20        1.78  2.14  ...       4.38  1.05  3.40     1050\n",
              "2     1    13.16        2.36  2.67  ...       5.68  1.03  3.17     1185\n",
              "3     1    14.37        1.95  2.50  ...       7.80  0.86  3.45     1480\n",
              "4     1    13.24        2.59  2.87  ...       4.32  1.04  2.93      735\n",
              "\n",
              "[5 rows x 14 columns]"
            ]
          },
          "metadata": {},
          "execution_count": 4
        }
      ]
    },
    {
      "cell_type": "code",
      "metadata": {
        "colab": {
          "base_uri": "https://localhost:8080/"
        },
        "id": "9EZz00tfrk-n",
        "outputId": "b68592d9-78b4-41fc-e87d-409b9477f742"
      },
      "source": [
        "data_wine.shape"
      ],
      "execution_count": null,
      "outputs": [
        {
          "output_type": "execute_result",
          "data": {
            "text/plain": [
              "(178, 14)"
            ]
          },
          "metadata": {},
          "execution_count": 5
        }
      ]
    },
    {
      "cell_type": "code",
      "metadata": {
        "colab": {
          "base_uri": "https://localhost:8080/"
        },
        "id": "Xzf1RTETxPJL",
        "outputId": "95c1380c-7707-4fe0-e2b4-c3a95a5e5d4a"
      },
      "source": [
        "attributes = data_wine.columns\n",
        "features = attributes[1:]\n",
        "classification = attributes[0]\n",
        "print(\"The attributes in the dataframe are:\\n\", attributes)"
      ],
      "execution_count": null,
      "outputs": [
        {
          "output_type": "stream",
          "name": "stdout",
          "text": [
            "The attributes in the dataframe are:\n",
            " Index(['Wine', 'Alcohol', 'Malic.acid', 'Ash', 'Acl', 'Mg', 'Phenols',\n",
            "       'Flavanoids', 'Nonflavanoid.phenols', 'Proanth', 'Color.int', 'Hue',\n",
            "       'OD', 'Proline'],\n",
            "      dtype='object')\n"
          ]
        }
      ]
    },
    {
      "cell_type": "code",
      "metadata": {
        "colab": {
          "base_uri": "https://localhost:8080/",
          "height": 314
        },
        "id": "5zHrv6dJ3wZl",
        "outputId": "19140994-0520-4721-cc16-4c2659334fe1"
      },
      "source": [
        "data_wine.describe()"
      ],
      "execution_count": null,
      "outputs": [
        {
          "output_type": "execute_result",
          "data": {
            "text/html": [
              "<div>\n",
              "<style scoped>\n",
              "    .dataframe tbody tr th:only-of-type {\n",
              "        vertical-align: middle;\n",
              "    }\n",
              "\n",
              "    .dataframe tbody tr th {\n",
              "        vertical-align: top;\n",
              "    }\n",
              "\n",
              "    .dataframe thead th {\n",
              "        text-align: right;\n",
              "    }\n",
              "</style>\n",
              "<table border=\"1\" class=\"dataframe\">\n",
              "  <thead>\n",
              "    <tr style=\"text-align: right;\">\n",
              "      <th></th>\n",
              "      <th>Wine</th>\n",
              "      <th>Alcohol</th>\n",
              "      <th>Malic.acid</th>\n",
              "      <th>Ash</th>\n",
              "      <th>Acl</th>\n",
              "      <th>Mg</th>\n",
              "      <th>Phenols</th>\n",
              "      <th>Flavanoids</th>\n",
              "      <th>Nonflavanoid.phenols</th>\n",
              "      <th>Proanth</th>\n",
              "      <th>Color.int</th>\n",
              "      <th>Hue</th>\n",
              "      <th>OD</th>\n",
              "      <th>Proline</th>\n",
              "    </tr>\n",
              "  </thead>\n",
              "  <tbody>\n",
              "    <tr>\n",
              "      <th>count</th>\n",
              "      <td>178.000000</td>\n",
              "      <td>178.000000</td>\n",
              "      <td>178.000000</td>\n",
              "      <td>178.000000</td>\n",
              "      <td>178.000000</td>\n",
              "      <td>178.000000</td>\n",
              "      <td>178.000000</td>\n",
              "      <td>178.000000</td>\n",
              "      <td>178.000000</td>\n",
              "      <td>178.000000</td>\n",
              "      <td>178.000000</td>\n",
              "      <td>178.000000</td>\n",
              "      <td>178.000000</td>\n",
              "      <td>178.000000</td>\n",
              "    </tr>\n",
              "    <tr>\n",
              "      <th>mean</th>\n",
              "      <td>1.938202</td>\n",
              "      <td>13.000618</td>\n",
              "      <td>2.336348</td>\n",
              "      <td>2.366517</td>\n",
              "      <td>19.494944</td>\n",
              "      <td>99.741573</td>\n",
              "      <td>2.295112</td>\n",
              "      <td>2.029270</td>\n",
              "      <td>0.361854</td>\n",
              "      <td>1.590899</td>\n",
              "      <td>5.058090</td>\n",
              "      <td>0.957449</td>\n",
              "      <td>2.611685</td>\n",
              "      <td>746.893258</td>\n",
              "    </tr>\n",
              "    <tr>\n",
              "      <th>std</th>\n",
              "      <td>0.775035</td>\n",
              "      <td>0.811827</td>\n",
              "      <td>1.117146</td>\n",
              "      <td>0.274344</td>\n",
              "      <td>3.339564</td>\n",
              "      <td>14.282484</td>\n",
              "      <td>0.625851</td>\n",
              "      <td>0.998859</td>\n",
              "      <td>0.124453</td>\n",
              "      <td>0.572359</td>\n",
              "      <td>2.318286</td>\n",
              "      <td>0.228572</td>\n",
              "      <td>0.709990</td>\n",
              "      <td>314.907474</td>\n",
              "    </tr>\n",
              "    <tr>\n",
              "      <th>min</th>\n",
              "      <td>1.000000</td>\n",
              "      <td>11.030000</td>\n",
              "      <td>0.740000</td>\n",
              "      <td>1.360000</td>\n",
              "      <td>10.600000</td>\n",
              "      <td>70.000000</td>\n",
              "      <td>0.980000</td>\n",
              "      <td>0.340000</td>\n",
              "      <td>0.130000</td>\n",
              "      <td>0.410000</td>\n",
              "      <td>1.280000</td>\n",
              "      <td>0.480000</td>\n",
              "      <td>1.270000</td>\n",
              "      <td>278.000000</td>\n",
              "    </tr>\n",
              "    <tr>\n",
              "      <th>25%</th>\n",
              "      <td>1.000000</td>\n",
              "      <td>12.362500</td>\n",
              "      <td>1.602500</td>\n",
              "      <td>2.210000</td>\n",
              "      <td>17.200000</td>\n",
              "      <td>88.000000</td>\n",
              "      <td>1.742500</td>\n",
              "      <td>1.205000</td>\n",
              "      <td>0.270000</td>\n",
              "      <td>1.250000</td>\n",
              "      <td>3.220000</td>\n",
              "      <td>0.782500</td>\n",
              "      <td>1.937500</td>\n",
              "      <td>500.500000</td>\n",
              "    </tr>\n",
              "    <tr>\n",
              "      <th>50%</th>\n",
              "      <td>2.000000</td>\n",
              "      <td>13.050000</td>\n",
              "      <td>1.865000</td>\n",
              "      <td>2.360000</td>\n",
              "      <td>19.500000</td>\n",
              "      <td>98.000000</td>\n",
              "      <td>2.355000</td>\n",
              "      <td>2.135000</td>\n",
              "      <td>0.340000</td>\n",
              "      <td>1.555000</td>\n",
              "      <td>4.690000</td>\n",
              "      <td>0.965000</td>\n",
              "      <td>2.780000</td>\n",
              "      <td>673.500000</td>\n",
              "    </tr>\n",
              "    <tr>\n",
              "      <th>75%</th>\n",
              "      <td>3.000000</td>\n",
              "      <td>13.677500</td>\n",
              "      <td>3.082500</td>\n",
              "      <td>2.557500</td>\n",
              "      <td>21.500000</td>\n",
              "      <td>107.000000</td>\n",
              "      <td>2.800000</td>\n",
              "      <td>2.875000</td>\n",
              "      <td>0.437500</td>\n",
              "      <td>1.950000</td>\n",
              "      <td>6.200000</td>\n",
              "      <td>1.120000</td>\n",
              "      <td>3.170000</td>\n",
              "      <td>985.000000</td>\n",
              "    </tr>\n",
              "    <tr>\n",
              "      <th>max</th>\n",
              "      <td>3.000000</td>\n",
              "      <td>14.830000</td>\n",
              "      <td>5.800000</td>\n",
              "      <td>3.230000</td>\n",
              "      <td>30.000000</td>\n",
              "      <td>162.000000</td>\n",
              "      <td>3.880000</td>\n",
              "      <td>5.080000</td>\n",
              "      <td>0.660000</td>\n",
              "      <td>3.580000</td>\n",
              "      <td>13.000000</td>\n",
              "      <td>1.710000</td>\n",
              "      <td>4.000000</td>\n",
              "      <td>1680.000000</td>\n",
              "    </tr>\n",
              "  </tbody>\n",
              "</table>\n",
              "</div>"
            ],
            "text/plain": [
              "             Wine     Alcohol  Malic.acid  ...         Hue          OD      Proline\n",
              "count  178.000000  178.000000  178.000000  ...  178.000000  178.000000   178.000000\n",
              "mean     1.938202   13.000618    2.336348  ...    0.957449    2.611685   746.893258\n",
              "std      0.775035    0.811827    1.117146  ...    0.228572    0.709990   314.907474\n",
              "min      1.000000   11.030000    0.740000  ...    0.480000    1.270000   278.000000\n",
              "25%      1.000000   12.362500    1.602500  ...    0.782500    1.937500   500.500000\n",
              "50%      2.000000   13.050000    1.865000  ...    0.965000    2.780000   673.500000\n",
              "75%      3.000000   13.677500    3.082500  ...    1.120000    3.170000   985.000000\n",
              "max      3.000000   14.830000    5.800000  ...    1.710000    4.000000  1680.000000\n",
              "\n",
              "[8 rows x 14 columns]"
            ]
          },
          "metadata": {},
          "execution_count": 7
        }
      ]
    },
    {
      "cell_type": "code",
      "metadata": {
        "colab": {
          "base_uri": "https://localhost:8080/",
          "height": 410
        },
        "id": "nnZfqMxl0r1q",
        "outputId": "9c3c4849-f2ed-46dd-8179-1694aabbfec0"
      },
      "source": [
        "hist_quality = data_wine['Alcohol']\n",
        "sns.set_theme(style='darkgrid')\n",
        "plt.figure(figsize=(10,6))\n",
        "plt.hist(hist_quality, 10,facecolor=\"lightblue\")\n",
        "plt.xlabel('Alcohol')\n",
        "plt.ylabel('Count')\n",
        "plt.title('Alcohol Content Distribution')\n",
        "plt.grid(True)\n",
        "plt.show()\n"
      ],
      "execution_count": null,
      "outputs": [
        {
          "output_type": "display_data",
          "data": {
            "image/png": "[encoded data removed]",
            "text/plain": [
              "<Figure size 720x432 with 1 Axes>"
            ]
          },
          "metadata": {}
        }
      ]
    },
    {
      "cell_type": "code",
      "metadata": {
        "colab": {
          "base_uri": "https://localhost:8080/",
          "height": 315
        },
        "id": "2kj3PuzFA3Yc",
        "outputId": "bccca161-00bc-48ea-a536-dbf1c8749aca"
      },
      "source": [
        "area_counts = data_wine['Wine'].value_counts()\n",
        "explode = (0, 0.1, 0)\n",
        "area_counts.plot(kind='pie',startangle=90,autopct='%1.1f%%', shadow=True, figsize=(4,4), radius=1.5)\n",
        "plt.title(\"Wine\")"
      ],
      "execution_count": null,
      "outputs": [
        {
          "output_type": "execute_result",
          "data": {
            "text/plain": [
              "Text(0.5, 1.0, 'Wine')"
            ]
          },
          "metadata": {},
          "execution_count": 28
        },
        {
          "output_type": "display_data",
          "data": {
            "image/png": "[encoded data removed]",
            "text/plain": [
              "<Figure size 288x288 with 1 Axes>"
            ]
          },
          "metadata": {}
        }
      ]
    },
    {
      "cell_type": "code",
      "metadata": {
        "colab": {
          "base_uri": "https://localhost:8080/",
          "height": 316
        },
        "id": "OH4oIrtzN3OX",
        "outputId": "9d9a4586-8de4-4d3c-d01b-51883f11c18d"
      },
      "source": [
        "import seaborn as sns\n",
        "import matplotlib.pyplot as plt\n",
        "plt.figure(figsize=(25,10))\n",
        "plt.subplot(3,4,1)\n",
        "sns.scatterplot(x=data_wine.Proline, y=data_wine.Alcohol)\n",
        "\n",
        "plt.suptitle('Relaciones entre la Prolina y Alcohol')"
      ],
      "execution_count": null,
      "outputs": [
        {
          "output_type": "execute_result",
          "data": {
            "text/plain": [
              "Text(0.5, 0.98, 'Relaciones entre la Prolina y Alcohol')"
            ]
          },
          "metadata": {},
          "execution_count": 20
        },
        {
          "output_type": "display_data",
          "data": {
            "image/png": "[encoded data removed]",
            "text/plain": [
              "<Figure size 1800x720 with 1 Axes>"
            ]
          },
          "metadata": {}
        }
      ]
    },
    {
      "cell_type": "code",
      "metadata": {
        "colab": {
          "base_uri": "https://localhost:8080/",
          "height": 410
        },
        "id": "qSm9NyC25WSi",
        "outputId": "22fbfc56-3af6-4820-b60f-0e68401d3388"
      },
      "source": [
        "hist_fixed = data_wine['Phenols']\n",
        "sns.set_theme(style='darkgrid')\n",
        "plt.figure(figsize=(10,6))\n",
        "plt.hist(hist_fixed, 10,facecolor='blue')\n",
        "plt.xlabel('Phenols')\n",
        "plt.ylabel('Count')\n",
        "plt.title('Phenols Distribution')\n",
        "plt.grid(True)\n",
        "plt.show()"
      ],
      "execution_count": null,
      "outputs": [
        {
          "output_type": "display_data",
          "data": {
            "image/png": "[encoded data removed]",
            "text/plain": [
              "<Figure size 720x432 with 1 Axes>"
            ]
          },
          "metadata": {}
        }
      ]
    },
    {
      "cell_type": "code",
      "metadata": {
        "colab": {
          "base_uri": "https://localhost:8080/",
          "height": 410
        },
        "id": "HYa2hs3E3sFL",
        "outputId": "c33c0d22-06d3-467e-f9d4-e5bbc770f6ca"
      },
      "source": [
        "hist_volatile =data_wine['Color.int']\n",
        "plt.figure(figsize=(10,6))\n",
        "plt.hist(hist_volatile, 10,facecolor='red')\n",
        "plt.xlabel('Color')\n",
        "plt.ylabel('Count')\n",
        "plt.title('Color Distribution')\n",
        "plt.grid(True)\n",
        "plt.show()\n"
      ],
      "execution_count": null,
      "outputs": [
        {
          "output_type": "display_data",
          "data": {
            "image/png": "[encoded data removed]",
            "text/plain": [
              "<Figure size 720x432 with 1 Axes>"
            ]
          },
          "metadata": {}
        }
      ]
    },
    {
      "cell_type": "markdown",
      "metadata": {
        "id": "YVB0OWXbKUEM"
      },
      "source": [
        "# Definir la matriz de diseño (X) y el vector respuesta (y)"
      ]
    },
    {
      "cell_type": "code",
      "metadata": {
        "id": "4yiIYwtnKc8C"
      },
      "source": [
        "X=data_wine.iloc[:,:-1].values # Tomar todas las columnas excepto la ultima\n",
        "y= data_wine.iloc[:,-1].values # Tomar el vector respuesta (ultima columna)"
      ],
      "execution_count": null,
      "outputs": []
    },
    {
      "cell_type": "code",
      "metadata": {
        "colab": {
          "base_uri": "https://localhost:8080/"
        },
        "id": "84G9URZSKi-o",
        "outputId": "66b652c8-f5c6-405d-ff91-26d8909bedb6"
      },
      "source": [
        "print(X.shape)\n",
        "print(y.shape)"
      ],
      "execution_count": null,
      "outputs": [
        {
          "output_type": "stream",
          "name": "stdout",
          "text": [
            "(178, 13)\n",
            "(178,)\n"
          ]
        }
      ]
    },
    {
      "cell_type": "markdown",
      "metadata": {
        "id": "RuBinZKDMt-p"
      },
      "source": [
        "# Normalizamos los datos, usando Standard Scaler"
      ]
    },
    {
      "cell_type": "code",
      "metadata": {
        "colab": {
          "base_uri": "https://localhost:8080/"
        },
        "id": "LwEB-UY_MwbC",
        "outputId": "c0549148-057a-4ac7-efd0-d27f9ca3e285"
      },
      "source": [
        "from sklearn.preprocessing import StandardScaler\n",
        "X_n= StandardScaler().fit_transform(X)\n",
        "X_n"
      ],
      "execution_count": null,
      "outputs": [
        {
          "output_type": "execute_result",
          "data": {
            "text/plain": [
              "array([[-1.21394365,  1.51861254, -0.5622498 , ...,  0.25171685,\n",
              "         0.36217728,  1.84791957],\n",
              "       [-1.21394365,  0.24628963, -0.49941338, ..., -0.29332133,\n",
              "         0.40605066,  1.1134493 ],\n",
              "       [-1.21394365,  0.19687903,  0.02123125, ...,  0.26901965,\n",
              "         0.31830389,  0.78858745],\n",
              "       ...,\n",
              "       [ 1.37386437,  0.33275817,  1.74474449, ...,  2.22423597,\n",
              "        -1.61212515, -1.48544548],\n",
              "       [ 1.37386437,  0.20923168,  0.22769377, ...,  1.83492299,\n",
              "        -1.56825176, -1.40069891],\n",
              "       [ 1.37386437,  1.39508604,  1.58316512, ...,  1.79166599,\n",
              "        -1.52437837, -1.42894777]])"
            ]
          },
          "metadata": {},
          "execution_count": 22
        }
      ]
    },
    {
      "cell_type": "code",
      "metadata": {
        "colab": {
          "base_uri": "https://localhost:8080/"
        },
        "id": "e4e7SdHeM7el",
        "outputId": "646bbc83-a06c-4437-97cc-644bbed22b5a"
      },
      "source": [
        "y_1= np.transpose(np.array([y])) # Llevar a un vector vertical porque estaba como un vector horizontal\n",
        "y_1.shape"
      ],
      "execution_count": null,
      "outputs": [
        {
          "output_type": "execute_result",
          "data": {
            "text/plain": [
              "(178, 1)"
            ]
          },
          "metadata": {},
          "execution_count": 23
        }
      ]
    },
    {
      "cell_type": "code",
      "metadata": {
        "id": "lL7OdPzANCiB",
        "colab": {
          "base_uri": "https://localhost:8080/"
        },
        "outputId": "08b191e7-e78d-4415-bf25-166db384fae3"
      },
      "source": [
        "y_n= StandardScaler().fit_transform(y_1) # Estandarizacion al vector y\n",
        "y_n"
      ],
      "execution_count": null,
      "outputs": [
        {
          "output_type": "execute_result",
          "data": {
            "text/plain": [
              "array([[ 1.01300893],\n",
              "       [ 0.96524152],\n",
              "       [ 1.39514818],\n",
              "       [ 2.33457383],\n",
              "       [-0.03787401],\n",
              "       [ 2.23903902],\n",
              "       [ 1.72952002],\n",
              "       [ 1.74544249],\n",
              "       [ 0.94931905],\n",
              "       [ 0.94931905],\n",
              "       [ 2.43010864],\n",
              "       [ 1.69767508],\n",
              "       [ 1.82505483],\n",
              "       [ 1.28369089],\n",
              "       [ 2.54793491],\n",
              "       [ 1.79320989],\n",
              "       [ 1.69767508],\n",
              "       [ 1.22000102],\n",
              "       [ 2.97147258],\n",
              "       [ 0.3124203 ],\n",
              "       [ 0.10542821],\n",
              "       [ 0.07358327],\n",
              "       [ 0.91747411],\n",
              "       [ 0.85378424],\n",
              "       [ 0.3124203 ],\n",
              "       [ 0.2646529 ],\n",
              "       [ 1.42699311],\n",
              "       [ 1.71359755],\n",
              "       [ 0.53533487],\n",
              "       [ 0.91747411],\n",
              "       [ 1.71359755],\n",
              "       [ 2.44603111],\n",
              "       [ 0.7741719 ],\n",
              "       [ 1.55437286],\n",
              "       [ 1.10854374],\n",
              "       [ 0.55125733],\n",
              "       [ 0.42387759],\n",
              "       [ 1.14038868],\n",
              "       [ 0.86970671],\n",
              "       [ 0.04173834],\n",
              "       [ 0.15319562],\n",
              "       [ 0.91747411],\n",
              "       [ 1.10854374],\n",
              "       [-0.21302116],\n",
              "       [ 0.43980005],\n",
              "       [ 1.06077633],\n",
              "       [ 1.01300893],\n",
              "       [ 0.75824943],\n",
              "       [ 0.99708646],\n",
              "       [ 1.63398521],\n",
              "       [ 1.28369089],\n",
              "       [ 1.64990767],\n",
              "       [ 1.41107064],\n",
              "       [ 2.00020199],\n",
              "       [ 0.99708646],\n",
              "       [ 1.18815608],\n",
              "       [ 0.71048202],\n",
              "       [ 1.66583014],\n",
              "       [ 1.71359755],\n",
              "       [-0.72254016],\n",
              "       [-0.21302116],\n",
              "       [-0.94545472],\n",
              "       [-0.37224585],\n",
              "       [-1.04098953],\n",
              "       [-1.24798163],\n",
              "       [-0.21939015],\n",
              "       [-0.77986105],\n",
              "       [-0.7543851 ],\n",
              "       [ 0.0098934 ],\n",
              "       [-0.0920104 ],\n",
              "       [ 0.39203265],\n",
              "       [-1.07283447],\n",
              "       [-0.87539586],\n",
              "       [ 0.75824943],\n",
              "       [ 0.44298455],\n",
              "       [-1.01551358],\n",
              "       [-1.13015536],\n",
              "       [-0.78623004],\n",
              "       [ 0.0098934 ],\n",
              "       [-0.9040563 ],\n",
              "       [-1.49318765],\n",
              "       [-0.10474838],\n",
              "       [-0.37224585],\n",
              "       [-0.73846263],\n",
              "       [-0.72254016],\n",
              "       [-0.94545472],\n",
              "       [-0.8021525 ],\n",
              "       [-0.58879142],\n",
              "       [-0.21302116],\n",
              "       [-0.38816832],\n",
              "       [-0.84991991],\n",
              "       [-0.94545472],\n",
              "       [-0.8021525 ],\n",
              "       [-1.45497372],\n",
              "       [-1.27982657],\n",
              "       [ 0.60539373],\n",
              "       [-0.38816832],\n",
              "       [-1.01551358],\n",
              "       [-0.27671104],\n",
              "       [-1.08557245],\n",
              "       [-0.11748635],\n",
              "       [-0.58879142],\n",
              "       [-0.98366865],\n",
              "       [-1.056912  ],\n",
              "       [-0.23849711],\n",
              "       [-1.37536138],\n",
              "       [-0.7543851 ],\n",
              "       [-0.82444396],\n",
              "       [-1.38491486],\n",
              "       [-0.21302116],\n",
              "       [-0.58879142],\n",
              "       [-1.34351644],\n",
              "       [-0.44548921],\n",
              "       [-0.99640662],\n",
              "       [-1.15244682],\n",
              "       [-1.08238795],\n",
              "       [-0.8021525 ],\n",
              "       [-1.27982657],\n",
              "       [-1.19384523],\n",
              "       [-0.58242244],\n",
              "       [-0.38816832],\n",
              "       [-0.89768732],\n",
              "       [-1.21613669],\n",
              "       [-1.16836928],\n",
              "       [-1.16836928],\n",
              "       [-1.17473827],\n",
              "       [-1.25753511],\n",
              "       [-0.89450282],\n",
              "       [-1.28938005],\n",
              "       [-0.53147054],\n",
              "       [-0.37224585],\n",
              "       [-0.69069522],\n",
              "       [-0.59516041],\n",
              "       [-0.46778066],\n",
              "       [-0.30855597],\n",
              "       [-0.16525376],\n",
              "       [-0.08564141],\n",
              "       [-0.73846263],\n",
              "       [-0.53147054],\n",
              "       [-0.4996256 ],\n",
              "       [-0.46778066],\n",
              "       [ 0.10542821],\n",
              "       [-0.72254016],\n",
              "       [-0.62700535],\n",
              "       [ 0.34426524],\n",
              "       [ 0.2646529 ],\n",
              "       [-1.056912  ],\n",
              "       [-0.38816832],\n",
              "       [-0.30855597],\n",
              "       [-0.62700535],\n",
              "       [-0.78623004],\n",
              "       [-0.84991991],\n",
              "       [-1.02506707],\n",
              "       [-0.22894363],\n",
              "       [-0.34040091],\n",
              "       [-0.06971894],\n",
              "       [-0.84991991],\n",
              "       [ 0.42387759],\n",
              "       [-0.27671104],\n",
              "       [-0.40409079],\n",
              "       [-0.72254016],\n",
              "       [-0.21302116],\n",
              "       [-0.56331547],\n",
              "       [-0.22894363],\n",
              "       [-0.42001326],\n",
              "       [-0.72254016],\n",
              "       [-0.16525376],\n",
              "       [-0.19709869],\n",
              "       [ 0.0098934 ],\n",
              "       [-0.37224585],\n",
              "       [-0.7543851 ],\n",
              "       [-0.88176485],\n",
              "       [-0.27671104],\n",
              "       [-0.02195154],\n",
              "       [ 0.0098934 ],\n",
              "       [ 0.28057537],\n",
              "       [ 0.29649784],\n",
              "       [-0.59516041]])"
            ]
          },
          "metadata": {},
          "execution_count": 28
        }
      ]
    },
    {
      "cell_type": "markdown",
      "metadata": {
        "id": "6JdGrY1BNV78"
      },
      "source": [
        "# Separamos en entranamiento y test"
      ]
    },
    {
      "cell_type": "code",
      "metadata": {
        "id": "GHLn1zXNNFju"
      },
      "source": [
        "X_train, X_test, y_train, y_test = train_test_split(X_n, y_n, test_size=0.25, random_state=42,shuffle=True)"
      ],
      "execution_count": null,
      "outputs": []
    },
    {
      "cell_type": "markdown",
      "metadata": {
        "id": "ijjgLopgNeF_"
      },
      "source": [
        "# Entrenamos el modelo"
      ]
    },
    {
      "cell_type": "code",
      "metadata": {
        "colab": {
          "base_uri": "https://localhost:8080/"
        },
        "id": "4k9t6Q-nNay2",
        "outputId": "cb61cc8a-5eaa-44ba-f888-72a4b5347f7f"
      },
      "source": [
        "regressor = LinearRegression()\n",
        "regressor.fit(X_train, y_train)"
      ],
      "execution_count": null,
      "outputs": [
        {
          "output_type": "execute_result",
          "data": {
            "text/plain": [
              "LinearRegression(copy_X=True, fit_intercept=True, n_jobs=None, normalize=False)"
            ]
          },
          "metadata": {},
          "execution_count": 31
        }
      ]
    },
    {
      "cell_type": "markdown",
      "metadata": {
        "id": "4Oqw2j4hN2En"
      },
      "source": [
        "# Analizamos los coeficientes"
      ]
    },
    {
      "cell_type": "code",
      "metadata": {
        "colab": {
          "base_uri": "https://localhost:8080/"
        },
        "id": "fyANlrVHN3gB",
        "outputId": "7adf27ac-1ce7-4100-fc05-0afa353c5d99"
      },
      "source": [
        "#Recuperamos la intersección\n",
        "print(regressor.intercept_)"
      ],
      "execution_count": null,
      "outputs": [
        {
          "output_type": "stream",
          "name": "stdout",
          "text": [
            "[-0.00232517]\n"
          ]
        }
      ]
    },
    {
      "cell_type": "code",
      "metadata": {
        "colab": {
          "base_uri": "https://localhost:8080/"
        },
        "id": "APR-UnjPN7my",
        "outputId": "ff05d9cf-83b4-4f10-c80a-fe9745674157"
      },
      "source": [
        "print(regressor.coef_)"
      ],
      "execution_count": null,
      "outputs": [
        {
          "output_type": "stream",
          "name": "stdout",
          "text": [
            "[[-0.75990723  0.15293898 -0.07397694  0.12222498 -0.08544996  0.08093001\n",
            "   0.1573841  -0.42133872 -0.04912347  0.07940309  0.36741515  0.03440944\n",
            "  -0.07374578]]\n"
          ]
        }
      ]
    },
    {
      "cell_type": "code",
      "metadata": {
        "colab": {
          "base_uri": "https://localhost:8080/"
        },
        "id": "UGdug1TJOC5x",
        "outputId": "5ff841e6-307b-4b19-d42c-35efe6a9d79f"
      },
      "source": [
        "regressor.coef_[0]"
      ],
      "execution_count": null,
      "outputs": [
        {
          "output_type": "execute_result",
          "data": {
            "text/plain": [
              "array([-0.75990723,  0.15293898, -0.07397694,  0.12222498, -0.08544996,\n",
              "        0.08093001,  0.1573841 , -0.42133872, -0.04912347,  0.07940309,\n",
              "        0.36741515,  0.03440944, -0.07374578])"
            ]
          },
          "metadata": {},
          "execution_count": 63
        }
      ]
    },
    {
      "cell_type": "code",
      "metadata": {
        "colab": {
          "base_uri": "https://localhost:8080/"
        },
        "id": "ur2cOzArO6-N",
        "outputId": "1a9c1301-17e5-4c1f-dd71-331ad13aa33c"
      },
      "source": [
        "data_wine_x= data_wine.drop(columns=['Proline'])\n",
        "data_wine_x.columns"
      ],
      "execution_count": null,
      "outputs": [
        {
          "output_type": "execute_result",
          "data": {
            "text/plain": [
              "Index(['Wine', 'Alcohol', 'Malic.acid', 'Ash', 'Acl', 'Mg', 'Phenols',\n",
              "       'Flavanoids', 'Nonflavanoid.phenols', 'Proanth', 'Color.int', 'Hue',\n",
              "       'OD'],\n",
              "      dtype='object')"
            ]
          },
          "metadata": {},
          "execution_count": 64
        }
      ]
    },
    {
      "cell_type": "markdown",
      "metadata": {
        "id": "ywgNk-kLDrOl"
      },
      "source": [
        "# vectores de media y desviacion estandar"
      ]
    },
    {
      "cell_type": "code",
      "metadata": {
        "colab": {
          "base_uri": "https://localhost:8080/"
        },
        "id": "7x5-LmLJDqLE",
        "outputId": "57bd8d00-fe7b-45fe-8a99-f0364bb48c10"
      },
      "source": [
        "np.mean(data_wine_x,axis=0)"
      ],
      "execution_count": null,
      "outputs": [
        {
          "output_type": "execute_result",
          "data": {
            "text/plain": [
              "Wine                     1.938202\n",
              "Alcohol                 13.000618\n",
              "Malic.acid               2.336348\n",
              "Ash                      2.366517\n",
              "Acl                     19.494944\n",
              "Mg                      99.741573\n",
              "Phenols                  2.295112\n",
              "Flavanoids               2.029270\n",
              "Nonflavanoid.phenols     0.361854\n",
              "Proanth                  1.590899\n",
              "Color.int                5.058090\n",
              "Hue                      0.957449\n",
              "OD                       2.611685\n",
              "dtype: float64"
            ]
          },
          "metadata": {},
          "execution_count": 65
        }
      ]
    },
    {
      "cell_type": "code",
      "metadata": {
        "colab": {
          "base_uri": "https://localhost:8080/"
        },
        "id": "S3gL8KytD1-Z",
        "outputId": "16044481-ec2b-4588-ee83-4d71fd810b11"
      },
      "source": [
        "np.std(data_wine_x,axis=0)"
      ],
      "execution_count": null,
      "outputs": [
        {
          "output_type": "execute_result",
          "data": {
            "text/plain": [
              "Wine                     0.772855\n",
              "Alcohol                  0.809543\n",
              "Malic.acid               1.114004\n",
              "Ash                      0.273572\n",
              "Acl                      3.330170\n",
              "Mg                      14.242308\n",
              "Phenols                  0.624091\n",
              "Flavanoids               0.996049\n",
              "Nonflavanoid.phenols     0.124103\n",
              "Proanth                  0.570749\n",
              "Color.int                2.311765\n",
              "Hue                      0.227929\n",
              "OD                       0.707993\n",
              "dtype: float64"
            ]
          },
          "metadata": {},
          "execution_count": 66
        }
      ]
    },
    {
      "cell_type": "code",
      "metadata": {
        "colab": {
          "base_uri": "https://localhost:8080/",
          "height": 457
        },
        "id": "zRPd5I4yD-fd",
        "outputId": "46379122-f4f0-4757-c243-fbe3a7d9cbb9"
      },
      "source": [
        "df=pd.DataFrame(regressor.coef_[0], data_wine_x.columns, columns=['Coeficiente'])\n",
        "df['Medias']=np.mean(data_wine_x,axis=0)\n",
        "df['Desviacion']=np.std(data_wine_x,axis=0)\n",
        "df['Coef_final']=df.Medias + (df.Coeficiente*df.Desviacion) # Calculo del coeficiente sin normalizar\n",
        "df"
      ],
      "execution_count": null,
      "outputs": [
        {
          "output_type": "execute_result",
          "data": {
            "text/html": [
              "<div>\n",
              "<style scoped>\n",
              "    .dataframe tbody tr th:only-of-type {\n",
              "        vertical-align: middle;\n",
              "    }\n",
              "\n",
              "    .dataframe tbody tr th {\n",
              "        vertical-align: top;\n",
              "    }\n",
              "\n",
              "    .dataframe thead th {\n",
              "        text-align: right;\n",
              "    }\n",
              "</style>\n",
              "<table border=\"1\" class=\"dataframe\">\n",
              "  <thead>\n",
              "    <tr style=\"text-align: right;\">\n",
              "      <th></th>\n",
              "      <th>Coeficiente</th>\n",
              "      <th>Medias</th>\n",
              "      <th>Desviacion</th>\n",
              "      <th>Coef_final</th>\n",
              "    </tr>\n",
              "  </thead>\n",
              "  <tbody>\n",
              "    <tr>\n",
              "      <th>Wine</th>\n",
              "      <td>-0.759907</td>\n",
              "      <td>1.938202</td>\n",
              "      <td>0.772855</td>\n",
              "      <td>1.350904</td>\n",
              "    </tr>\n",
              "    <tr>\n",
              "      <th>Alcohol</th>\n",
              "      <td>0.152939</td>\n",
              "      <td>13.000618</td>\n",
              "      <td>0.809543</td>\n",
              "      <td>13.124429</td>\n",
              "    </tr>\n",
              "    <tr>\n",
              "      <th>Malic.acid</th>\n",
              "      <td>-0.073977</td>\n",
              "      <td>2.336348</td>\n",
              "      <td>1.114004</td>\n",
              "      <td>2.253938</td>\n",
              "    </tr>\n",
              "    <tr>\n",
              "      <th>Ash</th>\n",
              "      <td>0.122225</td>\n",
              "      <td>2.366517</td>\n",
              "      <td>0.273572</td>\n",
              "      <td>2.399954</td>\n",
              "    </tr>\n",
              "    <tr>\n",
              "      <th>Acl</th>\n",
              "      <td>-0.085450</td>\n",
              "      <td>19.494944</td>\n",
              "      <td>3.330170</td>\n",
              "      <td>19.210381</td>\n",
              "    </tr>\n",
              "    <tr>\n",
              "      <th>Mg</th>\n",
              "      <td>0.080930</td>\n",
              "      <td>99.741573</td>\n",
              "      <td>14.242308</td>\n",
              "      <td>100.894203</td>\n",
              "    </tr>\n",
              "    <tr>\n",
              "      <th>Phenols</th>\n",
              "      <td>0.157384</td>\n",
              "      <td>2.295112</td>\n",
              "      <td>0.624091</td>\n",
              "      <td>2.393334</td>\n",
              "    </tr>\n",
              "    <tr>\n",
              "      <th>Flavanoids</th>\n",
              "      <td>-0.421339</td>\n",
              "      <td>2.029270</td>\n",
              "      <td>0.996049</td>\n",
              "      <td>1.609596</td>\n",
              "    </tr>\n",
              "    <tr>\n",
              "      <th>Nonflavanoid.phenols</th>\n",
              "      <td>-0.049123</td>\n",
              "      <td>0.361854</td>\n",
              "      <td>0.124103</td>\n",
              "      <td>0.355758</td>\n",
              "    </tr>\n",
              "    <tr>\n",
              "      <th>Proanth</th>\n",
              "      <td>0.079403</td>\n",
              "      <td>1.590899</td>\n",
              "      <td>0.570749</td>\n",
              "      <td>1.636218</td>\n",
              "    </tr>\n",
              "    <tr>\n",
              "      <th>Color.int</th>\n",
              "      <td>0.367415</td>\n",
              "      <td>5.058090</td>\n",
              "      <td>2.311765</td>\n",
              "      <td>5.907467</td>\n",
              "    </tr>\n",
              "    <tr>\n",
              "      <th>Hue</th>\n",
              "      <td>0.034409</td>\n",
              "      <td>0.957449</td>\n",
              "      <td>0.227929</td>\n",
              "      <td>0.965292</td>\n",
              "    </tr>\n",
              "    <tr>\n",
              "      <th>OD</th>\n",
              "      <td>-0.073746</td>\n",
              "      <td>2.611685</td>\n",
              "      <td>0.707993</td>\n",
              "      <td>2.559474</td>\n",
              "    </tr>\n",
              "  </tbody>\n",
              "</table>\n",
              "</div>"
            ],
            "text/plain": [
              "                      Coeficiente     Medias  Desviacion  Coef_final\n",
              "Wine                    -0.759907   1.938202    0.772855    1.350904\n",
              "Alcohol                  0.152939  13.000618    0.809543   13.124429\n",
              "Malic.acid              -0.073977   2.336348    1.114004    2.253938\n",
              "Ash                      0.122225   2.366517    0.273572    2.399954\n",
              "Acl                     -0.085450  19.494944    3.330170   19.210381\n",
              "Mg                       0.080930  99.741573   14.242308  100.894203\n",
              "Phenols                  0.157384   2.295112    0.624091    2.393334\n",
              "Flavanoids              -0.421339   2.029270    0.996049    1.609596\n",
              "Nonflavanoid.phenols    -0.049123   0.361854    0.124103    0.355758\n",
              "Proanth                  0.079403   1.590899    0.570749    1.636218\n",
              "Color.int                0.367415   5.058090    2.311765    5.907467\n",
              "Hue                      0.034409   0.957449    0.227929    0.965292\n",
              "OD                      -0.073746   2.611685    0.707993    2.559474"
            ]
          },
          "metadata": {},
          "execution_count": 67
        }
      ]
    },
    {
      "cell_type": "markdown",
      "metadata": {
        "id": "cHy2ISN6E75H"
      },
      "source": [
        "# Calculamos las predicciones"
      ]
    },
    {
      "cell_type": "code",
      "metadata": {
        "id": "BuPZLiYqE52W"
      },
      "source": [
        "y_prediccion = regressor.predict(X_test)\n",
        "y_prediccion"
      ],
      "execution_count": null,
      "outputs": []
    },
    {
      "cell_type": "code",
      "metadata": {
        "colab": {
          "base_uri": "https://localhost:8080/"
        },
        "id": "EHg8NDBdFwzt",
        "outputId": "76c1102f-4a01-435d-e869-f732f12909f7"
      },
      "source": [
        "print('Mean Absolute Error:', metrics.mean_absolute_error(y_test, y_pred))\n",
        "print('Mean Squared Error:', metrics.mean_squared_error(y_test, y_pred))\n",
        "print('Root Mean Squared Error:', np.sqrt(metrics.mean_squared_error(y_test, y_pred)))"
      ],
      "execution_count": null,
      "outputs": [
        {
          "output_type": "stream",
          "name": "stdout",
          "text": [
            "Mean Absolute Error: 0.4740948075813741\n",
            "Mean Squared Error: 0.34272344148046824\n",
            "Root Mean Squared Error: 0.5854258633511746\n"
          ]
        }
      ]
    },
    {
      "cell_type": "code",
      "metadata": {
        "colab": {
          "base_uri": "https://localhost:8080/"
        },
        "id": "TQIww6T9F1ue",
        "outputId": "2f1371d5-9cbd-44c3-f1fd-8506eca65b57"
      },
      "source": [
        "media_y= np.mean(data_wine.Proline)\n",
        "desviacion_y= np.mean(data_wine.Proline)\n",
        "desviacion_y"
      ],
      "execution_count": null,
      "outputs": [
        {
          "output_type": "execute_result",
          "data": {
            "text/plain": [
              "746.8932584269663"
            ]
          },
          "metadata": {},
          "execution_count": 80
        }
      ]
    },
    {
      "cell_type": "code",
      "metadata": {
        "colab": {
          "base_uri": "https://localhost:8080/",
          "height": 1000
        },
        "id": "N78KE9HJF-c_",
        "outputId": "b656a759-c110-4b1d-df2e-091f0dfeacdd"
      },
      "source": [
        "data_n= pd.DataFrame(X_test, columns=data_wine_x.columns)\n",
        "data_n['y_prediccion']=y_prediccion\n",
        "data_n['y_prediccion_final']=(y_prediccion*desviacion_y)+media_y\n",
        "data_n\n"
      ],
      "execution_count": null,
      "outputs": [
        {
          "output_type": "execute_result",
          "data": {
            "text/html": [
              "<div>\n",
              "<style scoped>\n",
              "    .dataframe tbody tr th:only-of-type {\n",
              "        vertical-align: middle;\n",
              "    }\n",
              "\n",
              "    .dataframe tbody tr th {\n",
              "        vertical-align: top;\n",
              "    }\n",
              "\n",
              "    .dataframe thead th {\n",
              "        text-align: right;\n",
              "    }\n",
              "</style>\n",
              "<table border=\"1\" class=\"dataframe\">\n",
              "  <thead>\n",
              "    <tr style=\"text-align: right;\">\n",
              "      <th></th>\n",
              "      <th>Wine</th>\n",
              "      <th>Alcohol</th>\n",
              "      <th>Malic.acid</th>\n",
              "      <th>Ash</th>\n",
              "      <th>Acl</th>\n",
              "      <th>Mg</th>\n",
              "      <th>Phenols</th>\n",
              "      <th>Flavanoids</th>\n",
              "      <th>Nonflavanoid.phenols</th>\n",
              "      <th>Proanth</th>\n",
              "      <th>Color.int</th>\n",
              "      <th>Hue</th>\n",
              "      <th>OD</th>\n",
              "      <th>y_prediccion</th>\n",
              "      <th>y_prediccion_final</th>\n",
              "    </tr>\n",
              "  </thead>\n",
              "  <tbody>\n",
              "    <tr>\n",
              "      <th>0</th>\n",
              "      <td>-1.213944</td>\n",
              "      <td>0.789806</td>\n",
              "      <td>0.685502</td>\n",
              "      <td>0.707247</td>\n",
              "      <td>-1.289707</td>\n",
              "      <td>1.141558</td>\n",
              "      <td>0.648764</td>\n",
              "      <td>1.004700</td>\n",
              "      <td>-1.545922</td>\n",
              "      <td>0.121071</td>\n",
              "      <td>0.018129</td>\n",
              "      <td>0.011190</td>\n",
              "      <td>1.056952</td>\n",
              "      <td>0.972716</td>\n",
              "      <td>1473.408311</td>\n",
              "    </tr>\n",
              "    <tr>\n",
              "      <th>1</th>\n",
              "      <td>-1.213944</td>\n",
              "      <td>1.493907</td>\n",
              "      <td>1.529305</td>\n",
              "      <td>0.268606</td>\n",
              "      <td>-0.178653</td>\n",
              "      <td>0.790492</td>\n",
              "      <td>0.889114</td>\n",
              "      <td>0.623193</td>\n",
              "      <td>-0.498407</td>\n",
              "      <td>-0.597284</td>\n",
              "      <td>0.078689</td>\n",
              "      <td>-0.383670</td>\n",
              "      <td>1.014578</td>\n",
              "      <td>0.942877</td>\n",
              "      <td>1451.121518</td>\n",
              "    </tr>\n",
              "    <tr>\n",
              "      <th>2</th>\n",
              "      <td>1.373864</td>\n",
              "      <td>-0.087232</td>\n",
              "      <td>0.425180</td>\n",
              "      <td>1.218995</td>\n",
              "      <td>0.451946</td>\n",
              "      <td>-0.262708</td>\n",
              "      <td>-1.209940</td>\n",
              "      <td>-1.535336</td>\n",
              "      <td>1.354888</td>\n",
              "      <td>-1.473326</td>\n",
              "      <td>-0.198156</td>\n",
              "      <td>-0.822404</td>\n",
              "      <td>-0.426113</td>\n",
              "      <td>-0.798770</td>\n",
              "      <td>150.297579</td>\n",
              "    </tr>\n",
              "    <tr>\n",
              "      <th>3</th>\n",
              "      <td>-1.213944</td>\n",
              "      <td>0.900980</td>\n",
              "      <td>-0.750759</td>\n",
              "      <td>1.218995</td>\n",
              "      <td>0.902373</td>\n",
              "      <td>0.088358</td>\n",
              "      <td>1.129464</td>\n",
              "      <td>1.225573</td>\n",
              "      <td>-0.578985</td>\n",
              "      <td>1.382572</td>\n",
              "      <td>0.277671</td>\n",
              "      <td>1.020278</td>\n",
              "      <td>0.138864</td>\n",
              "      <td>1.119016</td>\n",
              "      <td>1582.678492</td>\n",
              "    </tr>\n",
              "    <tr>\n",
              "      <th>4</th>\n",
              "      <td>0.079960</td>\n",
              "      <td>-0.778980</td>\n",
              "      <td>-1.046988</td>\n",
              "      <td>-1.632171</td>\n",
              "      <td>0.031547</td>\n",
              "      <td>-1.526548</td>\n",
              "      <td>-0.296611</td>\n",
              "      <td>-0.029386</td>\n",
              "      <td>-0.740141</td>\n",
              "      <td>-0.965221</td>\n",
              "      <td>-0.163550</td>\n",
              "      <td>0.713164</td>\n",
              "      <td>1.226445</td>\n",
              "      <td>-0.631083</td>\n",
              "      <td>275.541857</td>\n",
              "    </tr>\n",
              "    <tr>\n",
              "      <th>5</th>\n",
              "      <td>-1.213944</td>\n",
              "      <td>1.605081</td>\n",
              "      <td>-0.373741</td>\n",
              "      <td>1.292101</td>\n",
              "      <td>0.151661</td>\n",
              "      <td>1.422412</td>\n",
              "      <td>0.808997</td>\n",
              "      <td>1.115136</td>\n",
              "      <td>-0.256673</td>\n",
              "      <td>0.664217</td>\n",
              "      <td>0.493956</td>\n",
              "      <td>0.493797</td>\n",
              "      <td>0.054117</td>\n",
              "      <td>1.370681</td>\n",
              "      <td>1770.645338</td>\n",
              "    </tr>\n",
              "    <tr>\n",
              "      <th>6</th>\n",
              "      <td>0.079960</td>\n",
              "      <td>-1.236028</td>\n",
              "      <td>0.981731</td>\n",
              "      <td>-1.339744</td>\n",
              "      <td>-0.148624</td>\n",
              "      <td>-0.894628</td>\n",
              "      <td>-0.472868</td>\n",
              "      <td>-0.390814</td>\n",
              "      <td>0.065639</td>\n",
              "      <td>0.489009</td>\n",
              "      <td>-1.634288</td>\n",
              "      <td>-0.120430</td>\n",
              "      <td>0.619094</td>\n",
              "      <td>-1.072617</td>\n",
              "      <td>-54.237045</td>\n",
              "    </tr>\n",
              "    <tr>\n",
              "      <th>7</th>\n",
              "      <td>1.373864</td>\n",
              "      <td>0.493343</td>\n",
              "      <td>1.412609</td>\n",
              "      <td>0.414820</td>\n",
              "      <td>1.052516</td>\n",
              "      <td>0.158572</td>\n",
              "      <td>-0.793334</td>\n",
              "      <td>-1.284344</td>\n",
              "      <td>0.549108</td>\n",
              "      <td>-0.316950</td>\n",
              "      <td>0.969783</td>\n",
              "      <td>-1.129518</td>\n",
              "      <td>-1.485445</td>\n",
              "      <td>-0.310650</td>\n",
              "      <td>514.871156</td>\n",
              "    </tr>\n",
              "    <tr>\n",
              "      <th>8</th>\n",
              "      <td>0.079960</td>\n",
              "      <td>-1.717782</td>\n",
              "      <td>-0.885409</td>\n",
              "      <td>1.218995</td>\n",
              "      <td>0.151661</td>\n",
              "      <td>-0.403135</td>\n",
              "      <td>0.712858</td>\n",
              "      <td>0.894264</td>\n",
              "      <td>-0.578985</td>\n",
              "      <td>1.575301</td>\n",
              "      <td>-1.041667</td>\n",
              "      <td>0.011190</td>\n",
              "      <td>0.915707</td>\n",
              "      <td>-0.717836</td>\n",
              "      <td>210.746401</td>\n",
              "    </tr>\n",
              "    <tr>\n",
              "      <th>9</th>\n",
              "      <td>1.373864</td>\n",
              "      <td>0.443932</td>\n",
              "      <td>0.200764</td>\n",
              "      <td>-0.060375</td>\n",
              "      <td>0.151661</td>\n",
              "      <td>-0.754202</td>\n",
              "      <td>-1.434267</td>\n",
              "      <td>-1.535336</td>\n",
              "      <td>0.065639</td>\n",
              "      <td>-1.666055</td>\n",
              "      <td>0.234414</td>\n",
              "      <td>-1.129518</td>\n",
              "      <td>-0.200123</td>\n",
              "      <td>-0.726998</td>\n",
              "      <td>203.903684</td>\n",
              "    </tr>\n",
              "    <tr>\n",
              "      <th>10</th>\n",
              "      <td>-1.213944</td>\n",
              "      <td>0.616869</td>\n",
              "      <td>-0.472483</td>\n",
              "      <td>0.890014</td>\n",
              "      <td>0.151661</td>\n",
              "      <td>-0.262708</td>\n",
              "      <td>0.376368</td>\n",
              "      <td>0.583034</td>\n",
              "      <td>-0.659563</td>\n",
              "      <td>0.121071</td>\n",
              "      <td>-0.665332</td>\n",
              "      <td>0.713164</td>\n",
              "      <td>1.706675</td>\n",
              "      <td>0.633837</td>\n",
              "      <td>1220.301627</td>\n",
              "    </tr>\n",
              "    <tr>\n",
              "      <th>11</th>\n",
              "      <td>1.373864</td>\n",
              "      <td>0.616869</td>\n",
              "      <td>0.703455</td>\n",
              "      <td>0.926567</td>\n",
              "      <td>1.352801</td>\n",
              "      <td>1.633052</td>\n",
              "      <td>-1.434267</td>\n",
              "      <td>-0.461091</td>\n",
              "      <td>-1.143031</td>\n",
              "      <td>-0.597284</td>\n",
              "      <td>1.532124</td>\n",
              "      <td>-1.612125</td>\n",
              "      <td>-1.852681</td>\n",
              "      <td>-0.252866</td>\n",
              "      <td>558.029420</td>\n",
              "    </tr>\n",
              "    <tr>\n",
              "      <th>12</th>\n",
              "      <td>-1.213944</td>\n",
              "      <td>0.505695</td>\n",
              "      <td>1.349773</td>\n",
              "      <td>-0.901103</td>\n",
              "      <td>-0.208681</td>\n",
              "      <td>-0.683988</td>\n",
              "      <td>0.248181</td>\n",
              "      <td>0.653312</td>\n",
              "      <td>-0.740141</td>\n",
              "      <td>-0.194304</td>\n",
              "      <td>-0.336578</td>\n",
              "      <td>-0.208177</td>\n",
              "      <td>0.548472</td>\n",
              "      <td>0.363437</td>\n",
              "      <td>1018.341670</td>\n",
              "    </tr>\n",
              "    <tr>\n",
              "      <th>13</th>\n",
              "      <td>0.079960</td>\n",
              "      <td>-0.284874</td>\n",
              "      <td>0.981731</td>\n",
              "      <td>-1.412851</td>\n",
              "      <td>-1.049479</td>\n",
              "      <td>-1.386122</td>\n",
              "      <td>-1.065731</td>\n",
              "      <td>-0.782361</td>\n",
              "      <td>0.549108</td>\n",
              "      <td>-1.333159</td>\n",
              "      <td>-0.717240</td>\n",
              "      <td>-1.129518</td>\n",
              "      <td>-0.694478</td>\n",
              "      <td>-0.596565</td>\n",
              "      <td>301.322691</td>\n",
              "    </tr>\n",
              "    <tr>\n",
              "      <th>14</th>\n",
              "      <td>-1.213944</td>\n",
              "      <td>0.777454</td>\n",
              "      <td>-0.472483</td>\n",
              "      <td>1.218995</td>\n",
              "      <td>-0.689137</td>\n",
              "      <td>0.860705</td>\n",
              "      <td>0.889114</td>\n",
              "      <td>0.884224</td>\n",
              "      <td>-0.498407</td>\n",
              "      <td>-0.229346</td>\n",
              "      <td>0.969783</td>\n",
              "      <td>1.415139</td>\n",
              "      <td>0.378979</td>\n",
              "      <td>1.502257</td>\n",
              "      <td>1868.918692</td>\n",
              "    </tr>\n",
              "    <tr>\n",
              "      <th>15</th>\n",
              "      <td>0.079960</td>\n",
              "      <td>-0.593691</td>\n",
              "      <td>0.084068</td>\n",
              "      <td>-0.718336</td>\n",
              "      <td>0.451946</td>\n",
              "      <td>-0.824415</td>\n",
              "      <td>0.408415</td>\n",
              "      <td>0.241685</td>\n",
              "      <td>-0.820719</td>\n",
              "      <td>-0.649846</td>\n",
              "      <td>-1.322838</td>\n",
              "      <td>-0.252050</td>\n",
              "      <td>0.237735</td>\n",
              "      <td>-0.914315</td>\n",
              "      <td>63.997888</td>\n",
              "    </tr>\n",
              "    <tr>\n",
              "      <th>16</th>\n",
              "      <td>0.079960</td>\n",
              "      <td>-1.964835</td>\n",
              "      <td>-1.432983</td>\n",
              "      <td>0.487926</td>\n",
              "      <td>0.451946</td>\n",
              "      <td>-0.824415</td>\n",
              "      <td>0.296251</td>\n",
              "      <td>-0.019346</td>\n",
              "      <td>0.468530</td>\n",
              "      <td>-0.264388</td>\n",
              "      <td>-0.855662</td>\n",
              "      <td>0.625418</td>\n",
              "      <td>-0.426113</td>\n",
              "      <td>-0.553953</td>\n",
              "      <td>333.149447</td>\n",
              "    </tr>\n",
              "    <tr>\n",
              "      <th>17</th>\n",
              "      <td>0.079960</td>\n",
              "      <td>-1.137207</td>\n",
              "      <td>-1.082894</td>\n",
              "      <td>0.524480</td>\n",
              "      <td>1.352801</td>\n",
              "      <td>-1.526548</td>\n",
              "      <td>-0.472868</td>\n",
              "      <td>-0.451052</td>\n",
              "      <td>0.307374</td>\n",
              "      <td>-0.334471</td>\n",
              "      <td>-1.236324</td>\n",
              "      <td>1.546759</td>\n",
              "      <td>0.152988</td>\n",
              "      <td>-0.670274</td>\n",
              "      <td>246.269849</td>\n",
              "    </tr>\n",
              "    <tr>\n",
              "      <th>18</th>\n",
              "      <td>-1.213944</td>\n",
              "      <td>1.061565</td>\n",
              "      <td>-0.885409</td>\n",
              "      <td>-0.352802</td>\n",
              "      <td>-1.049479</td>\n",
              "      <td>-0.122282</td>\n",
              "      <td>1.097417</td>\n",
              "      <td>1.125176</td>\n",
              "      <td>-1.143031</td>\n",
              "      <td>0.453967</td>\n",
              "      <td>0.935177</td>\n",
              "      <td>0.230557</td>\n",
              "      <td>1.325316</td>\n",
              "      <td>1.229301</td>\n",
              "      <td>1665.050161</td>\n",
              "    </tr>\n",
              "    <tr>\n",
              "      <th>19</th>\n",
              "      <td>0.079960</td>\n",
              "      <td>-1.137207</td>\n",
              "      <td>-0.849502</td>\n",
              "      <td>0.487926</td>\n",
              "      <td>0.902373</td>\n",
              "      <td>-1.105268</td>\n",
              "      <td>0.424438</td>\n",
              "      <td>0.261765</td>\n",
              "      <td>0.549108</td>\n",
              "      <td>-0.965221</td>\n",
              "      <td>-0.933525</td>\n",
              "      <td>-0.120430</td>\n",
              "      <td>0.816836</td>\n",
              "      <td>-0.835568</td>\n",
              "      <td>122.812786</td>\n",
              "    </tr>\n",
              "    <tr>\n",
              "      <th>20</th>\n",
              "      <td>-1.213944</td>\n",
              "      <td>1.469202</td>\n",
              "      <td>-0.669969</td>\n",
              "      <td>0.414820</td>\n",
              "      <td>-0.899337</td>\n",
              "      <td>0.579852</td>\n",
              "      <td>1.610163</td>\n",
              "      <td>1.908270</td>\n",
              "      <td>-0.337251</td>\n",
              "      <td>0.471488</td>\n",
              "      <td>1.575381</td>\n",
              "      <td>1.195772</td>\n",
              "      <td>0.294232</td>\n",
              "      <td>1.470554</td>\n",
              "      <td>1845.239942</td>\n",
              "    </tr>\n",
              "    <tr>\n",
              "      <th>21</th>\n",
              "      <td>0.079960</td>\n",
              "      <td>0.135116</td>\n",
              "      <td>-1.190614</td>\n",
              "      <td>-2.436346</td>\n",
              "      <td>-1.349764</td>\n",
              "      <td>-1.526548</td>\n",
              "      <td>1.097417</td>\n",
              "      <td>1.155295</td>\n",
              "      <td>-0.820719</td>\n",
              "      <td>1.207363</td>\n",
              "      <td>0.104643</td>\n",
              "      <td>0.713164</td>\n",
              "      <td>0.802712</td>\n",
              "      <td>-0.434413</td>\n",
              "      <td>422.433119</td>\n",
              "    </tr>\n",
              "    <tr>\n",
              "      <th>22</th>\n",
              "      <td>0.079960</td>\n",
              "      <td>-0.828391</td>\n",
              "      <td>-1.109824</td>\n",
              "      <td>-0.316249</td>\n",
              "      <td>-1.049479</td>\n",
              "      <td>0.088358</td>\n",
              "      <td>-0.392751</td>\n",
              "      <td>-0.942995</td>\n",
              "      <td>2.160669</td>\n",
              "      <td>-2.069034</td>\n",
              "      <td>-0.773474</td>\n",
              "      <td>1.283518</td>\n",
              "      <td>-1.330077</td>\n",
              "      <td>-0.126357</td>\n",
              "      <td>652.518009</td>\n",
              "    </tr>\n",
              "    <tr>\n",
              "      <th>23</th>\n",
              "      <td>1.373864</td>\n",
              "      <td>0.493343</td>\n",
              "      <td>2.031997</td>\n",
              "      <td>1.803849</td>\n",
              "      <td>1.653086</td>\n",
              "      <td>0.860705</td>\n",
              "      <td>-0.504914</td>\n",
              "      <td>-1.073511</td>\n",
              "      <td>-0.740141</td>\n",
              "      <td>-0.842575</td>\n",
              "      <td>1.488867</td>\n",
              "      <td>-1.261138</td>\n",
              "      <td>-0.976966</td>\n",
              "      <td>-0.054342</td>\n",
              "      <td>706.305494</td>\n",
              "    </tr>\n",
              "    <tr>\n",
              "      <th>24</th>\n",
              "      <td>1.373864</td>\n",
              "      <td>-0.284874</td>\n",
              "      <td>0.048161</td>\n",
              "      <td>-0.316249</td>\n",
              "      <td>0.001518</td>\n",
              "      <td>-0.964842</td>\n",
              "      <td>-1.450290</td>\n",
              "      <td>-1.525296</td>\n",
              "      <td>0.951998</td>\n",
              "      <td>-1.666055</td>\n",
              "      <td>2.094465</td>\n",
              "      <td>-1.699872</td>\n",
              "      <td>-1.386574</td>\n",
              "      <td>-0.161675</td>\n",
              "      <td>626.139368</td>\n",
              "    </tr>\n",
              "    <tr>\n",
              "      <th>25</th>\n",
              "      <td>1.373864</td>\n",
              "      <td>0.962743</td>\n",
              "      <td>0.380297</td>\n",
              "      <td>-0.243142</td>\n",
              "      <td>0.752231</td>\n",
              "      <td>-0.683988</td>\n",
              "      <td>-1.514383</td>\n",
              "      <td>-1.354622</td>\n",
              "      <td>0.387952</td>\n",
              "      <td>-0.982742</td>\n",
              "      <td>1.956043</td>\n",
              "      <td>-1.129518</td>\n",
              "      <td>-1.315952</td>\n",
              "      <td>-0.064394</td>\n",
              "      <td>698.797778</td>\n",
              "    </tr>\n",
              "    <tr>\n",
              "      <th>26</th>\n",
              "      <td>0.079960</td>\n",
              "      <td>-0.717217</td>\n",
              "      <td>-0.652016</td>\n",
              "      <td>-0.645229</td>\n",
              "      <td>0.902373</td>\n",
              "      <td>0.579852</td>\n",
              "      <td>-0.472868</td>\n",
              "      <td>0.060971</td>\n",
              "      <td>-0.176095</td>\n",
              "      <td>0.033467</td>\n",
              "      <td>-1.296884</td>\n",
              "      <td>0.449924</td>\n",
              "      <td>0.491974</td>\n",
              "      <td>-0.819685</td>\n",
              "      <td>134.675908</td>\n",
              "    </tr>\n",
              "    <tr>\n",
              "      <th>27</th>\n",
              "      <td>0.079960</td>\n",
              "      <td>-0.778980</td>\n",
              "      <td>-1.011081</td>\n",
              "      <td>0.707247</td>\n",
              "      <td>-0.418881</td>\n",
              "      <td>-0.122282</td>\n",
              "      <td>0.200111</td>\n",
              "      <td>0.623193</td>\n",
              "      <td>0.065639</td>\n",
              "      <td>0.856946</td>\n",
              "      <td>-0.198156</td>\n",
              "      <td>1.020278</td>\n",
              "      <td>-0.440238</td>\n",
              "      <td>-0.166581</td>\n",
              "      <td>622.475220</td>\n",
              "    </tr>\n",
              "    <tr>\n",
              "      <th>28</th>\n",
              "      <td>0.079960</td>\n",
              "      <td>-1.137207</td>\n",
              "      <td>-0.454530</td>\n",
              "      <td>-0.170035</td>\n",
              "      <td>-0.298767</td>\n",
              "      <td>-1.315908</td>\n",
              "      <td>-1.113800</td>\n",
              "      <td>-0.531369</td>\n",
              "      <td>1.274310</td>\n",
              "      <td>0.086029</td>\n",
              "      <td>-1.149810</td>\n",
              "      <td>0.537671</td>\n",
              "      <td>-0.482611</td>\n",
              "      <td>-0.680677</td>\n",
              "      <td>238.499965</td>\n",
              "    </tr>\n",
              "    <tr>\n",
              "      <th>29</th>\n",
              "      <td>-1.213944</td>\n",
              "      <td>0.690985</td>\n",
              "      <td>-0.544297</td>\n",
              "      <td>0.341713</td>\n",
              "      <td>0.301803</td>\n",
              "      <td>1.141558</td>\n",
              "      <td>1.065370</td>\n",
              "      <td>0.753708</td>\n",
              "      <td>-1.304188</td>\n",
              "      <td>1.505217</td>\n",
              "      <td>0.515585</td>\n",
              "      <td>0.098937</td>\n",
              "      <td>0.590845</td>\n",
              "      <td>1.357423</td>\n",
              "      <td>1760.743350</td>\n",
              "    </tr>\n",
              "    <tr>\n",
              "      <th>30</th>\n",
              "      <td>-1.213944</td>\n",
              "      <td>1.259207</td>\n",
              "      <td>-0.589180</td>\n",
              "      <td>-0.572122</td>\n",
              "      <td>-1.049479</td>\n",
              "      <td>-0.262708</td>\n",
              "      <td>0.568648</td>\n",
              "      <td>0.301923</td>\n",
              "      <td>-0.820719</td>\n",
              "      <td>0.681738</td>\n",
              "      <td>-0.154899</td>\n",
              "      <td>0.362177</td>\n",
              "      <td>1.381813</td>\n",
              "      <td>1.065196</td>\n",
              "      <td>1542.481138</td>\n",
              "    </tr>\n",
              "    <tr>\n",
              "      <th>31</th>\n",
              "      <td>0.079960</td>\n",
              "      <td>-0.778980</td>\n",
              "      <td>-0.634063</td>\n",
              "      <td>-0.243142</td>\n",
              "      <td>1.502943</td>\n",
              "      <td>-0.824415</td>\n",
              "      <td>-0.120355</td>\n",
              "      <td>0.422399</td>\n",
              "      <td>0.307374</td>\n",
              "      <td>0.541571</td>\n",
              "      <td>-1.270929</td>\n",
              "      <td>-0.295924</td>\n",
              "      <td>0.237735</td>\n",
              "      <td>-1.023868</td>\n",
              "      <td>-17.826554</td>\n",
              "    </tr>\n",
              "    <tr>\n",
              "      <th>32</th>\n",
              "      <td>1.373864</td>\n",
              "      <td>0.196879</td>\n",
              "      <td>1.107404</td>\n",
              "      <td>-0.791443</td>\n",
              "      <td>0.451946</td>\n",
              "      <td>0.158572</td>\n",
              "      <td>-1.274034</td>\n",
              "      <td>-1.485138</td>\n",
              "      <td>0.549108</td>\n",
              "      <td>-0.509679</td>\n",
              "      <td>-0.457698</td>\n",
              "      <td>-1.568252</td>\n",
              "      <td>-1.315952</td>\n",
              "      <td>-0.987959</td>\n",
              "      <td>8.993436</td>\n",
              "    </tr>\n",
              "    <tr>\n",
              "      <th>33</th>\n",
              "      <td>-1.213944</td>\n",
              "      <td>0.715690</td>\n",
              "      <td>-0.607133</td>\n",
              "      <td>-0.023821</td>\n",
              "      <td>-0.118596</td>\n",
              "      <td>0.439425</td>\n",
              "      <td>0.905137</td>\n",
              "      <td>1.165335</td>\n",
              "      <td>-1.143031</td>\n",
              "      <td>0.629175</td>\n",
              "      <td>0.796755</td>\n",
              "      <td>0.581544</td>\n",
              "      <td>0.378979</td>\n",
              "      <td>1.159679</td>\n",
              "      <td>1613.049987</td>\n",
              "    </tr>\n",
              "    <tr>\n",
              "      <th>34</th>\n",
              "      <td>-1.213944</td>\n",
              "      <td>0.925685</td>\n",
              "      <td>-0.544297</td>\n",
              "      <td>0.158946</td>\n",
              "      <td>-1.049479</td>\n",
              "      <td>-0.754202</td>\n",
              "      <td>0.488531</td>\n",
              "      <td>0.733629</td>\n",
              "      <td>-0.578985</td>\n",
              "      <td>0.383884</td>\n",
              "      <td>0.234414</td>\n",
              "      <td>0.844785</td>\n",
              "      <td>0.407228</td>\n",
              "      <td>1.061934</td>\n",
              "      <td>1540.044773</td>\n",
              "    </tr>\n",
              "    <tr>\n",
              "      <th>35</th>\n",
              "      <td>-1.213944</td>\n",
              "      <td>1.086270</td>\n",
              "      <td>-0.400670</td>\n",
              "      <td>0.816907</td>\n",
              "      <td>-1.349764</td>\n",
              "      <td>0.088358</td>\n",
              "      <td>1.530047</td>\n",
              "      <td>1.536802</td>\n",
              "      <td>-1.545922</td>\n",
              "      <td>0.191154</td>\n",
              "      <td>0.160877</td>\n",
              "      <td>-0.339797</td>\n",
              "      <td>1.339440</td>\n",
              "      <td>0.971316</td>\n",
              "      <td>1472.362421</td>\n",
              "    </tr>\n",
              "    <tr>\n",
              "      <th>36</th>\n",
              "      <td>1.373864</td>\n",
              "      <td>1.654492</td>\n",
              "      <td>-0.589180</td>\n",
              "      <td>1.218995</td>\n",
              "      <td>1.653086</td>\n",
              "      <td>-0.122282</td>\n",
              "      <td>0.808997</td>\n",
              "      <td>-0.722123</td>\n",
              "      <td>1.354888</td>\n",
              "      <td>1.943238</td>\n",
              "      <td>3.435432</td>\n",
              "      <td>-1.699872</td>\n",
              "      <td>-0.920468</td>\n",
              "      <td>1.039069</td>\n",
              "      <td>1522.967110</td>\n",
              "    </tr>\n",
              "    <tr>\n",
              "      <th>37</th>\n",
              "      <td>1.373864</td>\n",
              "      <td>-0.581338</td>\n",
              "      <td>2.848870</td>\n",
              "      <td>0.999674</td>\n",
              "      <td>1.653086</td>\n",
              "      <td>-0.262708</td>\n",
              "      <td>-0.809357</td>\n",
              "      <td>-1.434939</td>\n",
              "      <td>2.160669</td>\n",
              "      <td>-0.860096</td>\n",
              "      <td>-0.025128</td>\n",
              "      <td>-0.603037</td>\n",
              "      <td>-1.301828</td>\n",
              "      <td>-1.017523</td>\n",
              "      <td>-13.087917</td>\n",
              "    </tr>\n",
              "    <tr>\n",
              "      <th>38</th>\n",
              "      <td>0.079960</td>\n",
              "      <td>-0.778980</td>\n",
              "      <td>-1.136754</td>\n",
              "      <td>-0.974210</td>\n",
              "      <td>-0.298767</td>\n",
              "      <td>-0.824415</td>\n",
              "      <td>1.962676</td>\n",
              "      <td>1.727556</td>\n",
              "      <td>-0.981875</td>\n",
              "      <td>0.629175</td>\n",
              "      <td>-0.241413</td>\n",
              "      <td>0.362177</td>\n",
              "      <td>0.223610</td>\n",
              "      <td>-0.671921</td>\n",
              "      <td>245.039992</td>\n",
              "    </tr>\n",
              "    <tr>\n",
              "      <th>39</th>\n",
              "      <td>1.373864</td>\n",
              "      <td>0.592164</td>\n",
              "      <td>-0.598156</td>\n",
              "      <td>0.999674</td>\n",
              "      <td>0.902373</td>\n",
              "      <td>-0.754202</td>\n",
              "      <td>0.488531</td>\n",
              "      <td>-0.932956</td>\n",
              "      <td>1.274310</td>\n",
              "      <td>1.224884</td>\n",
              "      <td>2.894719</td>\n",
              "      <td>-1.699872</td>\n",
              "      <td>-1.174708</td>\n",
              "      <td>0.668860</td>\n",
              "      <td>1246.460506</td>\n",
              "    </tr>\n",
              "    <tr>\n",
              "      <th>40</th>\n",
              "      <td>-1.213944</td>\n",
              "      <td>0.085705</td>\n",
              "      <td>-0.750759</td>\n",
              "      <td>-0.974210</td>\n",
              "      <td>-1.199622</td>\n",
              "      <td>-0.122282</td>\n",
              "      <td>0.168065</td>\n",
              "      <td>0.613153</td>\n",
              "      <td>-0.659563</td>\n",
              "      <td>-0.387033</td>\n",
              "      <td>-0.587469</td>\n",
              "      <td>0.976405</td>\n",
              "      <td>0.110615</td>\n",
              "      <td>0.541714</td>\n",
              "      <td>1151.495554</td>\n",
              "    </tr>\n",
              "    <tr>\n",
              "      <th>41</th>\n",
              "      <td>0.079960</td>\n",
              "      <td>-0.964270</td>\n",
              "      <td>-0.939268</td>\n",
              "      <td>-1.559065</td>\n",
              "      <td>-0.148624</td>\n",
              "      <td>-0.543562</td>\n",
              "      <td>0.103972</td>\n",
              "      <td>0.010773</td>\n",
              "      <td>0.226796</td>\n",
              "      <td>0.856946</td>\n",
              "      <td>-1.020039</td>\n",
              "      <td>-0.427544</td>\n",
              "      <td>0.576721</td>\n",
              "      <td>-0.726217</td>\n",
              "      <td>204.486331</td>\n",
              "    </tr>\n",
              "    <tr>\n",
              "      <th>42</th>\n",
              "      <td>0.079960</td>\n",
              "      <td>-0.408401</td>\n",
              "      <td>-1.217544</td>\n",
              "      <td>-0.462462</td>\n",
              "      <td>-0.448909</td>\n",
              "      <td>-0.052068</td>\n",
              "      <td>-0.152402</td>\n",
              "      <td>-0.089624</td>\n",
              "      <td>-0.498407</td>\n",
              "      <td>-0.229346</td>\n",
              "      <td>-1.054644</td>\n",
              "      <td>1.195772</td>\n",
              "      <td>0.774463</td>\n",
              "      <td>-0.441268</td>\n",
              "      <td>417.313362</td>\n",
              "    </tr>\n",
              "    <tr>\n",
              "      <th>43</th>\n",
              "      <td>0.079960</td>\n",
              "      <td>0.419227</td>\n",
              "      <td>-1.253450</td>\n",
              "      <td>-0.023821</td>\n",
              "      <td>-0.749194</td>\n",
              "      <td>0.720278</td>\n",
              "      <td>0.376368</td>\n",
              "      <td>-0.732162</td>\n",
              "      <td>1.516045</td>\n",
              "      <td>-2.051513</td>\n",
              "      <td>-0.816731</td>\n",
              "      <td>0.274431</td>\n",
              "      <td>-0.962842</td>\n",
              "      <td>0.123876</td>\n",
              "      <td>839.415502</td>\n",
              "    </tr>\n",
              "    <tr>\n",
              "      <th>44</th>\n",
              "      <td>1.373864</td>\n",
              "      <td>0.765101</td>\n",
              "      <td>2.346179</td>\n",
              "      <td>-0.060375</td>\n",
              "      <td>0.151661</td>\n",
              "      <td>-0.543562</td>\n",
              "      <td>-0.472868</td>\n",
              "      <td>-1.234146</td>\n",
              "      <td>0.871420</td>\n",
              "      <td>-1.000263</td>\n",
              "      <td>-0.284670</td>\n",
              "      <td>-0.208177</td>\n",
              "      <td>-0.793348</td>\n",
              "      <td>-0.897122</td>\n",
              "      <td>76.838933</td>\n",
              "    </tr>\n",
              "  </tbody>\n",
              "</table>\n",
              "</div>"
            ],
            "text/plain": [
              "        Wine   Alcohol  Malic.acid  ...        OD  y_prediccion  y_prediccion_final\n",
              "0  -1.213944  0.789806    0.685502  ...  1.056952      0.972716         1473.408311\n",
              "1  -1.213944  1.493907    1.529305  ...  1.014578      0.942877         1451.121518\n",
              "2   1.373864 -0.087232    0.425180  ... -0.426113     -0.798770          150.297579\n",
              "3  -1.213944  0.900980   -0.750759  ...  0.138864      1.119016         1582.678492\n",
              "4   0.079960 -0.778980   -1.046988  ...  1.226445     -0.631083          275.541857\n",
              "5  -1.213944  1.605081   -0.373741  ...  0.054117      1.370681         1770.645338\n",
              "6   0.079960 -1.236028    0.981731  ...  0.619094     -1.072617          -54.237045\n",
              "7   1.373864  0.493343    1.412609  ... -1.485445     -0.310650          514.871156\n",
              "8   0.079960 -1.717782   -0.885409  ...  0.915707     -0.717836          210.746401\n",
              "9   1.373864  0.443932    0.200764  ... -0.200123     -0.726998          203.903684\n",
              "10 -1.213944  0.616869   -0.472483  ...  1.706675      0.633837         1220.301627\n",
              "11  1.373864  0.616869    0.703455  ... -1.852681     -0.252866          558.029420\n",
              "12 -1.213944  0.505695    1.349773  ...  0.548472      0.363437         1018.341670\n",
              "13  0.079960 -0.284874    0.981731  ... -0.694478     -0.596565          301.322691\n",
              "14 -1.213944  0.777454   -0.472483  ...  0.378979      1.502257         1868.918692\n",
              "15  0.079960 -0.593691    0.084068  ...  0.237735     -0.914315           63.997888\n",
              "16  0.079960 -1.964835   -1.432983  ... -0.426113     -0.553953          333.149447\n",
              "17  0.079960 -1.137207   -1.082894  ...  0.152988     -0.670274          246.269849\n",
              "18 -1.213944  1.061565   -0.885409  ...  1.325316      1.229301         1665.050161\n",
              "19  0.079960 -1.137207   -0.849502  ...  0.816836     -0.835568          122.812786\n",
              "20 -1.213944  1.469202   -0.669969  ...  0.294232      1.470554         1845.239942\n",
              "21  0.079960  0.135116   -1.190614  ...  0.802712     -0.434413          422.433119\n",
              "22  0.079960 -0.828391   -1.109824  ... -1.330077     -0.126357          652.518009\n",
              "23  1.373864  0.493343    2.031997  ... -0.976966     -0.054342          706.305494\n",
              "24  1.373864 -0.284874    0.048161  ... -1.386574     -0.161675          626.139368\n",
              "25  1.373864  0.962743    0.380297  ... -1.315952     -0.064394          698.797778\n",
              "26  0.079960 -0.717217   -0.652016  ...  0.491974     -0.819685          134.675908\n",
              "27  0.079960 -0.778980   -1.011081  ... -0.440238     -0.166581          622.475220\n",
              "28  0.079960 -1.137207   -0.454530  ... -0.482611     -0.680677          238.499965\n",
              "29 -1.213944  0.690985   -0.544297  ...  0.590845      1.357423         1760.743350\n",
              "30 -1.213944  1.259207   -0.589180  ...  1.381813      1.065196         1542.481138\n",
              "31  0.079960 -0.778980   -0.634063  ...  0.237735     -1.023868          -17.826554\n",
              "32  1.373864  0.196879    1.107404  ... -1.315952     -0.987959            8.993436\n",
              "33 -1.213944  0.715690   -0.607133  ...  0.378979      1.159679         1613.049987\n",
              "34 -1.213944  0.925685   -0.544297  ...  0.407228      1.061934         1540.044773\n",
              "35 -1.213944  1.086270   -0.400670  ...  1.339440      0.971316         1472.362421\n",
              "36  1.373864  1.654492   -0.589180  ... -0.920468      1.039069         1522.967110\n",
              "37  1.373864 -0.581338    2.848870  ... -1.301828     -1.017523          -13.087917\n",
              "38  0.079960 -0.778980   -1.136754  ...  0.223610     -0.671921          245.039992\n",
              "39  1.373864  0.592164   -0.598156  ... -1.174708      0.668860         1246.460506\n",
              "40 -1.213944  0.085705   -0.750759  ...  0.110615      0.541714         1151.495554\n",
              "41  0.079960 -0.964270   -0.939268  ...  0.576721     -0.726217          204.486331\n",
              "42  0.079960 -0.408401   -1.217544  ...  0.774463     -0.441268          417.313362\n",
              "43  0.079960  0.419227   -1.253450  ... -0.962842      0.123876          839.415502\n",
              "44  1.373864  0.765101    2.346179  ... -0.793348     -0.897122           76.838933\n",
              "\n",
              "[45 rows x 15 columns]"
            ]
          },
          "metadata": {},
          "execution_count": 81
        }
      ]
    },
    {
      "cell_type": "markdown",
      "metadata": {
        "id": "ERju3k6rVNwU"
      },
      "source": [
        "# Clasificacion (diabetes)\n",
        "## 1. Cargar los datos"
      ]
    },
    {
      "cell_type": "code",
      "metadata": {
        "colab": {
          "base_uri": "https://localhost:8080/",
          "height": 202
        },
        "id": "Q_MdQyDPVk_X",
        "outputId": "b354ee33-804f-4ee9-9fe3-2235e6c5d651"
      },
      "source": [
        "data_diabetes= pd.read_excel('diabetes_excel.xlsx')\n",
        "data_diabetes.head()"
      ],
      "execution_count": null,
      "outputs": [
        {
          "output_type": "execute_result",
          "data": {
            "text/html": [
              "<div>\n",
              "<style scoped>\n",
              "    .dataframe tbody tr th:only-of-type {\n",
              "        vertical-align: middle;\n",
              "    }\n",
              "\n",
              "    .dataframe tbody tr th {\n",
              "        vertical-align: top;\n",
              "    }\n",
              "\n",
              "    .dataframe thead th {\n",
              "        text-align: right;\n",
              "    }\n",
              "</style>\n",
              "<table border=\"1\" class=\"dataframe\">\n",
              "  <thead>\n",
              "    <tr style=\"text-align: right;\">\n",
              "      <th></th>\n",
              "      <th>Pregnancies</th>\n",
              "      <th>Glucose</th>\n",
              "      <th>BloodPressure</th>\n",
              "      <th>SkinThickness</th>\n",
              "      <th>Insulin</th>\n",
              "      <th>BMI</th>\n",
              "      <th>DiabetesPedigreeFunction</th>\n",
              "      <th>Age</th>\n",
              "      <th>Outcome</th>\n",
              "    </tr>\n",
              "  </thead>\n",
              "  <tbody>\n",
              "    <tr>\n",
              "      <th>0</th>\n",
              "      <td>6</td>\n",
              "      <td>148</td>\n",
              "      <td>72</td>\n",
              "      <td>35</td>\n",
              "      <td>0</td>\n",
              "      <td>33.6</td>\n",
              "      <td>0.627</td>\n",
              "      <td>50</td>\n",
              "      <td>1</td>\n",
              "    </tr>\n",
              "    <tr>\n",
              "      <th>1</th>\n",
              "      <td>1</td>\n",
              "      <td>85</td>\n",
              "      <td>66</td>\n",
              "      <td>29</td>\n",
              "      <td>0</td>\n",
              "      <td>26.6</td>\n",
              "      <td>0.351</td>\n",
              "      <td>31</td>\n",
              "      <td>0</td>\n",
              "    </tr>\n",
              "    <tr>\n",
              "      <th>2</th>\n",
              "      <td>8</td>\n",
              "      <td>183</td>\n",
              "      <td>64</td>\n",
              "      <td>0</td>\n",
              "      <td>0</td>\n",
              "      <td>23.3</td>\n",
              "      <td>0.672</td>\n",
              "      <td>32</td>\n",
              "      <td>1</td>\n",
              "    </tr>\n",
              "    <tr>\n",
              "      <th>3</th>\n",
              "      <td>1</td>\n",
              "      <td>89</td>\n",
              "      <td>66</td>\n",
              "      <td>23</td>\n",
              "      <td>94</td>\n",
              "      <td>28.1</td>\n",
              "      <td>0.167</td>\n",
              "      <td>21</td>\n",
              "      <td>0</td>\n",
              "    </tr>\n",
              "    <tr>\n",
              "      <th>4</th>\n",
              "      <td>0</td>\n",
              "      <td>137</td>\n",
              "      <td>40</td>\n",
              "      <td>35</td>\n",
              "      <td>168</td>\n",
              "      <td>43.1</td>\n",
              "      <td>2.288</td>\n",
              "      <td>33</td>\n",
              "      <td>1</td>\n",
              "    </tr>\n",
              "  </tbody>\n",
              "</table>\n",
              "</div>"
            ],
            "text/plain": [
              "   Pregnancies  Glucose  BloodPressure  ...  DiabetesPedigreeFunction  Age  Outcome\n",
              "0            6      148             72  ...                     0.627   50        1\n",
              "1            1       85             66  ...                     0.351   31        0\n",
              "2            8      183             64  ...                     0.672   32        1\n",
              "3            1       89             66  ...                     0.167   21        0\n",
              "4            0      137             40  ...                     2.288   33        1\n",
              "\n",
              "[5 rows x 9 columns]"
            ]
          },
          "metadata": {},
          "execution_count": 4
        }
      ]
    },
    {
      "cell_type": "code",
      "metadata": {
        "colab": {
          "base_uri": "https://localhost:8080/"
        },
        "id": "y-GqtUymYnW9",
        "outputId": "6c6d9b22-12bc-435c-cf6d-f29822076961"
      },
      "source": [
        "data_diabetes.shape"
      ],
      "execution_count": null,
      "outputs": [
        {
          "output_type": "execute_result",
          "data": {
            "text/plain": [
              "(768, 9)"
            ]
          },
          "metadata": {},
          "execution_count": 26
        }
      ]
    },
    {
      "cell_type": "markdown",
      "metadata": {
        "id": "fLmgZ-5uVvRD"
      },
      "source": [
        "**Pregnancies**: Number of times pregnant\n",
        "\n",
        "**Glucose**: Plasma glucose concentration a 2 hours in an oral glucose tolerance test\n",
        "\n",
        "**BloodPressure**: Diastolic blood pressure (mm Hg)\n",
        "\n",
        "**SkinThickness**: Triceps skin fold thickness (mm)\n",
        "\n",
        "**Insulin**: 2-Hour serum insulin (mu U/ml)\n",
        "\n",
        "**BMI**: Body mass index (weight in kg/(height in m)^2)\n",
        "\n",
        "**DiabetesPedigreeFunction**: Diabetes pedigree function\n",
        "\n",
        "**Age**: Age (years)\n",
        "\n",
        "**Outcome**: 1 as diabites detected & 0 as not detected\n"
      ]
    },
    {
      "cell_type": "markdown",
      "metadata": {
        "id": "ecec45KWTCl-"
      },
      "source": [
        "# 2. Graficos descriptivos "
      ]
    },
    {
      "cell_type": "code",
      "metadata": {
        "colab": {
          "base_uri": "https://localhost:8080/",
          "height": 422
        },
        "id": "_suHqMQ1TFPu",
        "outputId": "b33b10e8-25c3-470c-c5d8-57dba266a1bf"
      },
      "source": [
        "import seaborn as sns\n",
        "plt.figure(figsize=(10,6))\n",
        "sns.barplot(x=data_diabetes.Outcome, y=data_diabetes.Age)\n",
        "plt.xlabel('Enfermedad Diabetes')\n",
        "plt.ylabel('Edad')\n",
        "plt.title('Edad vs Diagnostico Diabetes')"
      ],
      "execution_count": null,
      "outputs": [
        {
          "output_type": "execute_result",
          "data": {
            "text/plain": [
              "Text(0.5, 1.0, 'Edad vs Diagnostico Diabetes')"
            ]
          },
          "metadata": {},
          "execution_count": 7
        },
        {
          "output_type": "display_data",
          "data": {
            "image/png": "[encoded data removed]",
            "text/plain": [
              "<Figure size 720x432 with 1 Axes>"
            ]
          },
          "metadata": {
            "needs_background": "light"
          }
        }
      ]
    },
    {
      "cell_type": "markdown",
      "metadata": {
        "id": "GYKClSC5TlYt"
      },
      "source": [
        "**Intepretacion** "
      ]
    },
    {
      "cell_type": "code",
      "metadata": {
        "colab": {
          "base_uri": "https://localhost:8080/",
          "height": 296
        },
        "id": "PqJazwi8TvrJ",
        "outputId": "0a282d1c-02f8-49dd-a80f-6b05247cf401"
      },
      "source": [
        "sns.lineplot(x=data_diabetes.Outcome, y=data_diabetes.Age)"
      ],
      "execution_count": null,
      "outputs": [
        {
          "output_type": "execute_result",
          "data": {
            "text/plain": [
              "<matplotlib.axes._subplots.AxesSubplot at 0x7fab41919290>"
            ]
          },
          "metadata": {},
          "execution_count": 8
        },
        {
          "output_type": "display_data",
          "data": {
            "image/png": "[encoded data removed]",
            "text/plain": [
              "<Figure size 432x288 with 1 Axes>"
            ]
          },
          "metadata": {
            "needs_background": "light"
          }
        }
      ]
    },
    {
      "cell_type": "code",
      "metadata": {
        "colab": {
          "base_uri": "https://localhost:8080/",
          "height": 694
        },
        "id": "RQkfiYp-T_xp",
        "outputId": "2f86bc7a-3195-4da0-8d24-fed26d14bb82"
      },
      "source": [
        "import seaborn as sns\n",
        "plt.figure(figsize=(15,10))\n",
        "plt.subplot(2,2,1)\n",
        "sns.boxplot(x=data_diabetes.Outcome, y=data_diabetes.BloodPressure)\n",
        "plt.subplot(2,2,2)\n",
        "sns.boxplot(x=data_diabetes.Outcome, y=data_diabetes.Glucose)\n",
        "plt.subplot(2,2,3)\n",
        "sns.boxplot(x=data_diabetes.Outcome, y=data_diabetes.SkinThickness)\n",
        "plt.subplot(2,2,4)\n",
        "sns.boxplot(x=data_diabetes.Outcome, y=data_diabetes.Insulin)\n",
        "plt.suptitle('Relaciones entre presentar diabetes vs variables fisiologicas')"
      ],
      "execution_count": null,
      "outputs": [
        {
          "output_type": "execute_result",
          "data": {
            "text/plain": [
              "Text(0.5, 0.98, 'Relaciones entre presentar diabetes vs variables fisiologicas')"
            ]
          },
          "metadata": {},
          "execution_count": 15
        },
        {
          "output_type": "display_data",
          "data": {
            "image/png": "[encoded data removed]",
            "text/plain": [
              "<Figure size 1080x720 with 4 Axes>"
            ]
          },
          "metadata": {
            "needs_background": "light"
          }
        }
      ]
    },
    {
      "cell_type": "code",
      "metadata": {
        "colab": {
          "base_uri": "https://localhost:8080/",
          "height": 694
        },
        "id": "9aJSPwNUVjKN",
        "outputId": "3a1be881-8d60-4c65-c550-9801e04ce823"
      },
      "source": [
        "import seaborn as sns\n",
        "plt.figure(figsize=(15,10))\n",
        "plt.subplot(2,2,1)\n",
        "sns.violinplot(x=data_diabetes.Outcome, y=data_diabetes.BloodPressure)\n",
        "plt.subplot(2,2,2)\n",
        "sns.violinplot(x=data_diabetes.Outcome, y=data_diabetes.Glucose)\n",
        "plt.subplot(2,2,3)\n",
        "sns.violinplot(x=data_diabetes.Outcome, y=data_diabetes.SkinThickness)\n",
        "plt.subplot(2,2,4)\n",
        "sns.violinplot(x=data_diabetes.Outcome, y=data_diabetes.Insulin)\n",
        "plt.suptitle('Relaciones entre presentar diabetes vs variables fisiologicas')"
      ],
      "execution_count": null,
      "outputs": [
        {
          "output_type": "execute_result",
          "data": {
            "text/plain": [
              "Text(0.5, 0.98, 'Relaciones entre presentar diabetes vs variables fisiologicas')"
            ]
          },
          "metadata": {},
          "execution_count": 16
        },
        {
          "output_type": "display_data",
          "data": {
            "image/png": "[encoded data removed]",
            "text/plain": [
              "<Figure size 1080x720 with 4 Axes>"
            ]
          },
          "metadata": {
            "needs_background": "light"
          }
        }
      ]
    },
    {
      "cell_type": "markdown",
      "metadata": {
        "id": "41Cg9kmBWgei"
      },
      "source": [
        "# 3. Definir matriz de diseño X vector y"
      ]
    },
    {
      "cell_type": "code",
      "metadata": {
        "id": "HeYBWyr0WLxx"
      },
      "source": [
        "X=data_diabetes.drop(columns=['Outcome'])\n",
        "y= data_diabetes['Outcome']"
      ],
      "execution_count": null,
      "outputs": []
    },
    {
      "cell_type": "markdown",
      "metadata": {
        "id": "X66OEjBsWbAh"
      },
      "source": [
        "# 4. Separar en train y test (prepararse para el partido)"
      ]
    },
    {
      "cell_type": "code",
      "metadata": {
        "id": "5duq5ej-WZ_5"
      },
      "source": [
        "from sklearn.model_selection import train_test_split\n",
        "X_train, X_test, y_train, y_test = train_test_split(X, y, test_size=0.25, random_state=42,shuffle=True)"
      ],
      "execution_count": null,
      "outputs": []
    },
    {
      "cell_type": "markdown",
      "metadata": {
        "id": "Ae9r--dJWvgZ"
      },
      "source": [
        "# 5. Seleccionar y entrenar el algoritmo"
      ]
    },
    {
      "cell_type": "code",
      "metadata": {
        "colab": {
          "base_uri": "https://localhost:8080/"
        },
        "id": "YLKBvAMyWaCT",
        "outputId": "1b90d147-6c45-45c8-8a5b-319e6c618085"
      },
      "source": [
        "from sklearn.ensemble import RandomForestClassifier\n",
        "model = RandomForestClassifier(random_state=42, n_estimators=100,class_weight=\"balanced\", max_features=\"log2\")\n",
        "model.fit(X_train, y_train)"
      ],
      "execution_count": null,
      "outputs": [
        {
          "output_type": "execute_result",
          "data": {
            "text/plain": [
              "RandomForestClassifier(bootstrap=True, ccp_alpha=0.0, class_weight='balanced',\n",
              "                       criterion='gini', max_depth=None, max_features='log2',\n",
              "                       max_leaf_nodes=None, max_samples=None,\n",
              "                       min_impurity_decrease=0.0, min_impurity_split=None,\n",
              "                       min_samples_leaf=1, min_samples_split=2,\n",
              "                       min_weight_fraction_leaf=0.0, n_estimators=100,\n",
              "                       n_jobs=None, oob_score=False, random_state=42, verbose=0,\n",
              "                       warm_start=False)"
            ]
          },
          "metadata": {},
          "execution_count": 21
        }
      ]
    },
    {
      "cell_type": "markdown",
      "metadata": {
        "id": "hIHodz0JXya2"
      },
      "source": [
        "# 6. Hacer las predicciones"
      ]
    },
    {
      "cell_type": "code",
      "metadata": {
        "colab": {
          "base_uri": "https://localhost:8080/"
        },
        "id": "FGCMyZPBWaE_",
        "outputId": "097d3cc3-cb5e-4487-fdb2-f5fceeffe679"
      },
      "source": [
        "y_pred= model.predict(X_test)\n",
        "y_pred"
      ],
      "execution_count": null,
      "outputs": [
        {
          "output_type": "execute_result",
          "data": {
            "text/plain": [
              "array([0, 0, 0, 0, 0, 1, 0, 1, 1, 1, 0, 1, 0, 0, 0, 0, 0, 0, 1, 0, 0, 0,\n",
              "       0, 0, 1, 1, 0, 0, 0, 0, 1, 1, 1, 1, 1, 1, 1, 0, 0, 1, 0, 0, 1, 0,\n",
              "       0, 1, 1, 0, 0, 1, 0, 1, 1, 0, 0, 0, 1, 0, 0, 1, 1, 0, 0, 0, 0, 1,\n",
              "       0, 1, 0, 1, 1, 0, 0, 0, 0, 0, 0, 0, 0, 0, 1, 0, 0, 1, 0, 1, 1, 0,\n",
              "       0, 0, 0, 0, 0, 0, 0, 1, 1, 0, 1, 0, 1, 0, 0, 1, 1, 0, 0, 1, 0, 1,\n",
              "       0, 1, 0, 1, 0, 0, 1, 0, 0, 0, 0, 0, 0, 0, 0, 0, 0, 1, 1, 1, 1, 1,\n",
              "       0, 0, 1, 0, 0, 1, 1, 0, 0, 0, 0, 0, 0, 0, 0, 0, 0, 1, 0, 0, 0, 0,\n",
              "       0, 1, 0, 0, 1, 0, 0, 1, 0, 0, 0, 1, 0, 0, 1, 1, 1, 0, 1, 0, 1, 0,\n",
              "       0, 0, 1, 0, 0, 0, 0, 1, 1, 0, 0, 0, 1, 1, 0, 0])"
            ]
          },
          "metadata": {},
          "execution_count": 22
        }
      ]
    },
    {
      "cell_type": "code",
      "metadata": {
        "colab": {
          "base_uri": "https://localhost:8080/"
        },
        "id": "szxqqPBEX61r",
        "outputId": "e6ba0b5e-a2ba-4acb-e0bf-e14770ad0f7a"
      },
      "source": [
        "y_test"
      ],
      "execution_count": null,
      "outputs": [
        {
          "output_type": "execute_result",
          "data": {
            "text/plain": [
              "668    0\n",
              "324    0\n",
              "624    0\n",
              "690    0\n",
              "473    0\n",
              "      ..\n",
              "554    0\n",
              "319    1\n",
              "594    0\n",
              "6      1\n",
              "615    0\n",
              "Name: Outcome, Length: 192, dtype: int64"
            ]
          },
          "metadata": {},
          "execution_count": 23
        }
      ]
    },
    {
      "cell_type": "markdown",
      "metadata": {
        "id": "T5W-JT9nX9lK"
      },
      "source": [
        "# 7. Validacion del modelo"
      ]
    },
    {
      "cell_type": "code",
      "metadata": {
        "colab": {
          "base_uri": "https://localhost:8080/"
        },
        "id": "F75-J2PjX_um",
        "outputId": "97672d73-7833-4628-8324-da5666f48a09"
      },
      "source": [
        "from sklearn.metrics import classification_report\n",
        "M=classification_report(y_test,y_pred)\n",
        "print(M)"
      ],
      "execution_count": null,
      "outputs": [
        {
          "output_type": "stream",
          "name": "stdout",
          "text": [
            "              precision    recall  f1-score   support\n",
            "\n",
            "           0       0.80      0.81      0.81       123\n",
            "           1       0.66      0.64      0.65        69\n",
            "\n",
            "    accuracy                           0.75       192\n",
            "   macro avg       0.73      0.73      0.73       192\n",
            "weighted avg       0.75      0.75      0.75       192\n",
            "\n"
          ]
        }
      ]
    },
    {
      "cell_type": "markdown",
      "metadata": {
        "id": "DFGYuxhDfsH6"
      },
      "source": [
        "$\\color{purple}{\\text{Tarea parte 2: Clasificacion, pueden elegir SVM, Regresion logistica, KNN, Arbol de Decision o Random Forest}}$\n",
        "\n",
        "**Hacer esto mismo con Breast_cancer.csv (y= Diagnosis, x=)**\n",
        "\n",
        "1) ID number\n",
        "\n",
        "2) Diagnosis (M = malignant, B = benign) Ten real-valued features are computed for each cell nucleus:\n",
        "\n",
        "a) radius (mean of distances from center to points on the perimeter)\n",
        "\n",
        "b) texture (standard deviation of gray-scale values)\n",
        "\n",
        "c) perimeter\n",
        "\n",
        "d) area\n",
        "\n",
        "e) smoothness (local variation in radius lengths)\n",
        "\n",
        "f) compactness (perimeter^2 / area - 1.0)\n",
        "\n",
        "g) concavity (severity of concave portions of the contour)\n",
        "\n",
        "h) concave points (number of concave portions of the contour)\n",
        "\n",
        "i) symmetry\n",
        "\n",
        "j) fractal dimension (\"coastline approximation\" - 1)"
      ]
    },
    {
      "cell_type": "code",
      "metadata": {
        "id": "gAKDKRtcZTTU",
        "colab": {
          "base_uri": "https://localhost:8080/",
          "height": 451
        },
        "outputId": "269db043-8d1d-4b58-c6fe-1260731d2c06"
      },
      "source": [
        "data_Breast_cancer= pd.read_csv('Breast_cancer.csv',sep=',')\n",
        "data_Breast_cancer\n"
      ],
      "execution_count": null,
      "outputs": [
        {
          "output_type": "execute_result",
          "data": {
            "text/html": [
              "<div>\n",
              "<style scoped>\n",
              "    .dataframe tbody tr th:only-of-type {\n",
              "        vertical-align: middle;\n",
              "    }\n",
              "\n",
              "    .dataframe tbody tr th {\n",
              "        vertical-align: top;\n",
              "    }\n",
              "\n",
              "    .dataframe thead th {\n",
              "        text-align: right;\n",
              "    }\n",
              "</style>\n",
              "<table border=\"1\" class=\"dataframe\">\n",
              "  <thead>\n",
              "    <tr style=\"text-align: right;\">\n",
              "      <th></th>\n",
              "      <th>id</th>\n",
              "      <th>diagnosis</th>\n",
              "      <th>radius_mean</th>\n",
              "      <th>texture_mean</th>\n",
              "      <th>perimeter_mean</th>\n",
              "      <th>area_mean</th>\n",
              "      <th>smoothness_mean</th>\n",
              "      <th>compactness_mean</th>\n",
              "      <th>concavity_mean</th>\n",
              "      <th>concave points_mean</th>\n",
              "      <th>symmetry_mean</th>\n",
              "      <th>fractal_dimension_mean</th>\n",
              "      <th>radius_se</th>\n",
              "      <th>texture_se</th>\n",
              "      <th>perimeter_se</th>\n",
              "      <th>area_se</th>\n",
              "      <th>smoothness_se</th>\n",
              "      <th>compactness_se</th>\n",
              "      <th>concavity_se</th>\n",
              "      <th>concave points_se</th>\n",
              "      <th>symmetry_se</th>\n",
              "      <th>fractal_dimension_se</th>\n",
              "      <th>radius_worst</th>\n",
              "      <th>texture_worst</th>\n",
              "      <th>perimeter_worst</th>\n",
              "      <th>area_worst</th>\n",
              "      <th>smoothness_worst</th>\n",
              "      <th>compactness_worst</th>\n",
              "      <th>concavity_worst</th>\n",
              "      <th>concave points_worst</th>\n",
              "      <th>symmetry_worst</th>\n",
              "      <th>fractal_dimension_worst</th>\n",
              "      <th>Unnamed: 32</th>\n",
              "    </tr>\n",
              "  </thead>\n",
              "  <tbody>\n",
              "    <tr>\n",
              "      <th>0</th>\n",
              "      <td>842302</td>\n",
              "      <td>M</td>\n",
              "      <td>17.99</td>\n",
              "      <td>10.38</td>\n",
              "      <td>122.80</td>\n",
              "      <td>1001.0</td>\n",
              "      <td>0.11840</td>\n",
              "      <td>0.27760</td>\n",
              "      <td>0.30010</td>\n",
              "      <td>0.14710</td>\n",
              "      <td>0.2419</td>\n",
              "      <td>0.07871</td>\n",
              "      <td>1.0950</td>\n",
              "      <td>0.9053</td>\n",
              "      <td>8.589</td>\n",
              "      <td>153.40</td>\n",
              "      <td>0.006399</td>\n",
              "      <td>0.04904</td>\n",
              "      <td>0.05373</td>\n",
              "      <td>0.01587</td>\n",
              "      <td>0.03003</td>\n",
              "      <td>0.006193</td>\n",
              "      <td>25.380</td>\n",
              "      <td>17.33</td>\n",
              "      <td>184.60</td>\n",
              "      <td>2019.0</td>\n",
              "      <td>0.16220</td>\n",
              "      <td>0.66560</td>\n",
              "      <td>0.7119</td>\n",
              "      <td>0.2654</td>\n",
              "      <td>0.4601</td>\n",
              "      <td>0.11890</td>\n",
              "      <td>NaN</td>\n",
              "    </tr>\n",
              "    <tr>\n",
              "      <th>1</th>\n",
              "      <td>842517</td>\n",
              "      <td>M</td>\n",
              "      <td>20.57</td>\n",
              "      <td>17.77</td>\n",
              "      <td>132.90</td>\n",
              "      <td>1326.0</td>\n",
              "      <td>0.08474</td>\n",
              "      <td>0.07864</td>\n",
              "      <td>0.08690</td>\n",
              "      <td>0.07017</td>\n",
              "      <td>0.1812</td>\n",
              "      <td>0.05667</td>\n",
              "      <td>0.5435</td>\n",
              "      <td>0.7339</td>\n",
              "      <td>3.398</td>\n",
              "      <td>74.08</td>\n",
              "      <td>0.005225</td>\n",
              "      <td>0.01308</td>\n",
              "      <td>0.01860</td>\n",
              "      <td>0.01340</td>\n",
              "      <td>0.01389</td>\n",
              "      <td>0.003532</td>\n",
              "      <td>24.990</td>\n",
              "      <td>23.41</td>\n",
              "      <td>158.80</td>\n",
              "      <td>1956.0</td>\n",
              "      <td>0.12380</td>\n",
              "      <td>0.18660</td>\n",
              "      <td>0.2416</td>\n",
              "      <td>0.1860</td>\n",
              "      <td>0.2750</td>\n",
              "      <td>0.08902</td>\n",
              "      <td>NaN</td>\n",
              "    </tr>\n",
              "    <tr>\n",
              "      <th>2</th>\n",
              "      <td>84300903</td>\n",
              "      <td>M</td>\n",
              "      <td>19.69</td>\n",
              "      <td>21.25</td>\n",
              "      <td>130.00</td>\n",
              "      <td>1203.0</td>\n",
              "      <td>0.10960</td>\n",
              "      <td>0.15990</td>\n",
              "      <td>0.19740</td>\n",
              "      <td>0.12790</td>\n",
              "      <td>0.2069</td>\n",
              "      <td>0.05999</td>\n",
              "      <td>0.7456</td>\n",
              "      <td>0.7869</td>\n",
              "      <td>4.585</td>\n",
              "      <td>94.03</td>\n",
              "      <td>0.006150</td>\n",
              "      <td>0.04006</td>\n",
              "      <td>0.03832</td>\n",
              "      <td>0.02058</td>\n",
              "      <td>0.02250</td>\n",
              "      <td>0.004571</td>\n",
              "      <td>23.570</td>\n",
              "      <td>25.53</td>\n",
              "      <td>152.50</td>\n",
              "      <td>1709.0</td>\n",
              "      <td>0.14440</td>\n",
              "      <td>0.42450</td>\n",
              "      <td>0.4504</td>\n",
              "      <td>0.2430</td>\n",
              "      <td>0.3613</td>\n",
              "      <td>0.08758</td>\n",
              "      <td>NaN</td>\n",
              "    </tr>\n",
              "    <tr>\n",
              "      <th>3</th>\n",
              "      <td>84348301</td>\n",
              "      <td>M</td>\n",
              "      <td>11.42</td>\n",
              "      <td>20.38</td>\n",
              "      <td>77.58</td>\n",
              "      <td>386.1</td>\n",
              "      <td>0.14250</td>\n",
              "      <td>0.28390</td>\n",
              "      <td>0.24140</td>\n",
              "      <td>0.10520</td>\n",
              "      <td>0.2597</td>\n",
              "      <td>0.09744</td>\n",
              "      <td>0.4956</td>\n",
              "      <td>1.1560</td>\n",
              "      <td>3.445</td>\n",
              "      <td>27.23</td>\n",
              "      <td>0.009110</td>\n",
              "      <td>0.07458</td>\n",
              "      <td>0.05661</td>\n",
              "      <td>0.01867</td>\n",
              "      <td>0.05963</td>\n",
              "      <td>0.009208</td>\n",
              "      <td>14.910</td>\n",
              "      <td>26.50</td>\n",
              "      <td>98.87</td>\n",
              "      <td>567.7</td>\n",
              "      <td>0.20980</td>\n",
              "      <td>0.86630</td>\n",
              "      <td>0.6869</td>\n",
              "      <td>0.2575</td>\n",
              "      <td>0.6638</td>\n",
              "      <td>0.17300</td>\n",
              "      <td>NaN</td>\n",
              "    </tr>\n",
              "    <tr>\n",
              "      <th>4</th>\n",
              "      <td>84358402</td>\n",
              "      <td>M</td>\n",
              "      <td>20.29</td>\n",
              "      <td>14.34</td>\n",
              "      <td>135.10</td>\n",
              "      <td>1297.0</td>\n",
              "      <td>0.10030</td>\n",
              "      <td>0.13280</td>\n",
              "      <td>0.19800</td>\n",
              "      <td>0.10430</td>\n",
              "      <td>0.1809</td>\n",
              "      <td>0.05883</td>\n",
              "      <td>0.7572</td>\n",
              "      <td>0.7813</td>\n",
              "      <td>5.438</td>\n",
              "      <td>94.44</td>\n",
              "      <td>0.011490</td>\n",
              "      <td>0.02461</td>\n",
              "      <td>0.05688</td>\n",
              "      <td>0.01885</td>\n",
              "      <td>0.01756</td>\n",
              "      <td>0.005115</td>\n",
              "      <td>22.540</td>\n",
              "      <td>16.67</td>\n",
              "      <td>152.20</td>\n",
              "      <td>1575.0</td>\n",
              "      <td>0.13740</td>\n",
              "      <td>0.20500</td>\n",
              "      <td>0.4000</td>\n",
              "      <td>0.1625</td>\n",
              "      <td>0.2364</td>\n",
              "      <td>0.07678</td>\n",
              "      <td>NaN</td>\n",
              "    </tr>\n",
              "    <tr>\n",
              "      <th>...</th>\n",
              "      <td>...</td>\n",
              "      <td>...</td>\n",
              "      <td>...</td>\n",
              "      <td>...</td>\n",
              "      <td>...</td>\n",
              "      <td>...</td>\n",
              "      <td>...</td>\n",
              "      <td>...</td>\n",
              "      <td>...</td>\n",
              "      <td>...</td>\n",
              "      <td>...</td>\n",
              "      <td>...</td>\n",
              "      <td>...</td>\n",
              "      <td>...</td>\n",
              "      <td>...</td>\n",
              "      <td>...</td>\n",
              "      <td>...</td>\n",
              "      <td>...</td>\n",
              "      <td>...</td>\n",
              "      <td>...</td>\n",
              "      <td>...</td>\n",
              "      <td>...</td>\n",
              "      <td>...</td>\n",
              "      <td>...</td>\n",
              "      <td>...</td>\n",
              "      <td>...</td>\n",
              "      <td>...</td>\n",
              "      <td>...</td>\n",
              "      <td>...</td>\n",
              "      <td>...</td>\n",
              "      <td>...</td>\n",
              "      <td>...</td>\n",
              "      <td>...</td>\n",
              "    </tr>\n",
              "    <tr>\n",
              "      <th>564</th>\n",
              "      <td>926424</td>\n",
              "      <td>M</td>\n",
              "      <td>21.56</td>\n",
              "      <td>22.39</td>\n",
              "      <td>142.00</td>\n",
              "      <td>1479.0</td>\n",
              "      <td>0.11100</td>\n",
              "      <td>0.11590</td>\n",
              "      <td>0.24390</td>\n",
              "      <td>0.13890</td>\n",
              "      <td>0.1726</td>\n",
              "      <td>0.05623</td>\n",
              "      <td>1.1760</td>\n",
              "      <td>1.2560</td>\n",
              "      <td>7.673</td>\n",
              "      <td>158.70</td>\n",
              "      <td>0.010300</td>\n",
              "      <td>0.02891</td>\n",
              "      <td>0.05198</td>\n",
              "      <td>0.02454</td>\n",
              "      <td>0.01114</td>\n",
              "      <td>0.004239</td>\n",
              "      <td>25.450</td>\n",
              "      <td>26.40</td>\n",
              "      <td>166.10</td>\n",
              "      <td>2027.0</td>\n",
              "      <td>0.14100</td>\n",
              "      <td>0.21130</td>\n",
              "      <td>0.4107</td>\n",
              "      <td>0.2216</td>\n",
              "      <td>0.2060</td>\n",
              "      <td>0.07115</td>\n",
              "      <td>NaN</td>\n",
              "    </tr>\n",
              "    <tr>\n",
              "      <th>565</th>\n",
              "      <td>926682</td>\n",
              "      <td>M</td>\n",
              "      <td>20.13</td>\n",
              "      <td>28.25</td>\n",
              "      <td>131.20</td>\n",
              "      <td>1261.0</td>\n",
              "      <td>0.09780</td>\n",
              "      <td>0.10340</td>\n",
              "      <td>0.14400</td>\n",
              "      <td>0.09791</td>\n",
              "      <td>0.1752</td>\n",
              "      <td>0.05533</td>\n",
              "      <td>0.7655</td>\n",
              "      <td>2.4630</td>\n",
              "      <td>5.203</td>\n",
              "      <td>99.04</td>\n",
              "      <td>0.005769</td>\n",
              "      <td>0.02423</td>\n",
              "      <td>0.03950</td>\n",
              "      <td>0.01678</td>\n",
              "      <td>0.01898</td>\n",
              "      <td>0.002498</td>\n",
              "      <td>23.690</td>\n",
              "      <td>38.25</td>\n",
              "      <td>155.00</td>\n",
              "      <td>1731.0</td>\n",
              "      <td>0.11660</td>\n",
              "      <td>0.19220</td>\n",
              "      <td>0.3215</td>\n",
              "      <td>0.1628</td>\n",
              "      <td>0.2572</td>\n",
              "      <td>0.06637</td>\n",
              "      <td>NaN</td>\n",
              "    </tr>\n",
              "    <tr>\n",
              "      <th>566</th>\n",
              "      <td>926954</td>\n",
              "      <td>M</td>\n",
              "      <td>16.60</td>\n",
              "      <td>28.08</td>\n",
              "      <td>108.30</td>\n",
              "      <td>858.1</td>\n",
              "      <td>0.08455</td>\n",
              "      <td>0.10230</td>\n",
              "      <td>0.09251</td>\n",
              "      <td>0.05302</td>\n",
              "      <td>0.1590</td>\n",
              "      <td>0.05648</td>\n",
              "      <td>0.4564</td>\n",
              "      <td>1.0750</td>\n",
              "      <td>3.425</td>\n",
              "      <td>48.55</td>\n",
              "      <td>0.005903</td>\n",
              "      <td>0.03731</td>\n",
              "      <td>0.04730</td>\n",
              "      <td>0.01557</td>\n",
              "      <td>0.01318</td>\n",
              "      <td>0.003892</td>\n",
              "      <td>18.980</td>\n",
              "      <td>34.12</td>\n",
              "      <td>126.70</td>\n",
              "      <td>1124.0</td>\n",
              "      <td>0.11390</td>\n",
              "      <td>0.30940</td>\n",
              "      <td>0.3403</td>\n",
              "      <td>0.1418</td>\n",
              "      <td>0.2218</td>\n",
              "      <td>0.07820</td>\n",
              "      <td>NaN</td>\n",
              "    </tr>\n",
              "    <tr>\n",
              "      <th>567</th>\n",
              "      <td>927241</td>\n",
              "      <td>M</td>\n",
              "      <td>20.60</td>\n",
              "      <td>29.33</td>\n",
              "      <td>140.10</td>\n",
              "      <td>1265.0</td>\n",
              "      <td>0.11780</td>\n",
              "      <td>0.27700</td>\n",
              "      <td>0.35140</td>\n",
              "      <td>0.15200</td>\n",
              "      <td>0.2397</td>\n",
              "      <td>0.07016</td>\n",
              "      <td>0.7260</td>\n",
              "      <td>1.5950</td>\n",
              "      <td>5.772</td>\n",
              "      <td>86.22</td>\n",
              "      <td>0.006522</td>\n",
              "      <td>0.06158</td>\n",
              "      <td>0.07117</td>\n",
              "      <td>0.01664</td>\n",
              "      <td>0.02324</td>\n",
              "      <td>0.006185</td>\n",
              "      <td>25.740</td>\n",
              "      <td>39.42</td>\n",
              "      <td>184.60</td>\n",
              "      <td>1821.0</td>\n",
              "      <td>0.16500</td>\n",
              "      <td>0.86810</td>\n",
              "      <td>0.9387</td>\n",
              "      <td>0.2650</td>\n",
              "      <td>0.4087</td>\n",
              "      <td>0.12400</td>\n",
              "      <td>NaN</td>\n",
              "    </tr>\n",
              "    <tr>\n",
              "      <th>568</th>\n",
              "      <td>92751</td>\n",
              "      <td>B</td>\n",
              "      <td>7.76</td>\n",
              "      <td>24.54</td>\n",
              "      <td>47.92</td>\n",
              "      <td>181.0</td>\n",
              "      <td>0.05263</td>\n",
              "      <td>0.04362</td>\n",
              "      <td>0.00000</td>\n",
              "      <td>0.00000</td>\n",
              "      <td>0.1587</td>\n",
              "      <td>0.05884</td>\n",
              "      <td>0.3857</td>\n",
              "      <td>1.4280</td>\n",
              "      <td>2.548</td>\n",
              "      <td>19.15</td>\n",
              "      <td>0.007189</td>\n",
              "      <td>0.00466</td>\n",
              "      <td>0.00000</td>\n",
              "      <td>0.00000</td>\n",
              "      <td>0.02676</td>\n",
              "      <td>0.002783</td>\n",
              "      <td>9.456</td>\n",
              "      <td>30.37</td>\n",
              "      <td>59.16</td>\n",
              "      <td>268.6</td>\n",
              "      <td>0.08996</td>\n",
              "      <td>0.06444</td>\n",
              "      <td>0.0000</td>\n",
              "      <td>0.0000</td>\n",
              "      <td>0.2871</td>\n",
              "      <td>0.07039</td>\n",
              "      <td>NaN</td>\n",
              "    </tr>\n",
              "  </tbody>\n",
              "</table>\n",
              "<p>569 rows × 33 columns</p>\n",
              "</div>"
            ],
            "text/plain": [
              "           id diagnosis  ...  fractal_dimension_worst  Unnamed: 32\n",
              "0      842302         M  ...                  0.11890          NaN\n",
              "1      842517         M  ...                  0.08902          NaN\n",
              "2    84300903         M  ...                  0.08758          NaN\n",
              "3    84348301         M  ...                  0.17300          NaN\n",
              "4    84358402         M  ...                  0.07678          NaN\n",
              "..        ...       ...  ...                      ...          ...\n",
              "564    926424         M  ...                  0.07115          NaN\n",
              "565    926682         M  ...                  0.06637          NaN\n",
              "566    926954         M  ...                  0.07820          NaN\n",
              "567    927241         M  ...                  0.12400          NaN\n",
              "568     92751         B  ...                  0.07039          NaN\n",
              "\n",
              "[569 rows x 33 columns]"
            ]
          },
          "metadata": {},
          "execution_count": 30
        }
      ]
    },
    {
      "cell_type": "code",
      "metadata": {
        "colab": {
          "base_uri": "https://localhost:8080/"
        },
        "id": "30FACgZJ_0Gv",
        "outputId": "05228deb-8e1e-43a8-be8e-51eb58213550"
      },
      "source": [
        "data_Breast_cancer. shape"
      ],
      "execution_count": null,
      "outputs": [
        {
          "output_type": "execute_result",
          "data": {
            "text/plain": [
              "(569, 33)"
            ]
          },
          "metadata": {},
          "execution_count": 31
        }
      ]
    },
    {
      "cell_type": "code",
      "metadata": {
        "colab": {
          "base_uri": "https://localhost:8080/"
        },
        "id": "r7nogmayAxzm",
        "outputId": "de9babc6-f4fb-450f-8cee-c220ec655bff"
      },
      "source": [
        "attributes = data_Breast_cancer.columns\n",
        "features = attributes[1:]\n",
        "classification = attributes[0]\n",
        "print(\"The attributes in the dataframe are:\\n\", attributes)"
      ],
      "execution_count": null,
      "outputs": [
        {
          "output_type": "stream",
          "name": "stdout",
          "text": [
            "The attributes in the dataframe are:\n",
            " Index(['id', 'diagnosis', 'radius_mean', 'texture_mean', 'perimeter_mean',\n",
            "       'area_mean', 'smoothness_mean', 'compactness_mean', 'concavity_mean',\n",
            "       'concave points_mean', 'symmetry_mean', 'fractal_dimension_mean',\n",
            "       'radius_se', 'texture_se', 'perimeter_se', 'area_se', 'smoothness_se',\n",
            "       'compactness_se', 'concavity_se', 'concave points_se', 'symmetry_se',\n",
            "       'fractal_dimension_se', 'radius_worst', 'texture_worst',\n",
            "       'perimeter_worst', 'area_worst', 'smoothness_worst',\n",
            "       'compactness_worst', 'concavity_worst', 'concave points_worst',\n",
            "       'symmetry_worst', 'fractal_dimension_worst', 'Unnamed: 32'],\n",
            "      dtype='object')\n"
          ]
        }
      ]
    },
    {
      "cell_type": "code",
      "metadata": {
        "colab": {
          "base_uri": "https://localhost:8080/"
        },
        "id": "6kATmDmQBjW1",
        "outputId": "c52eb173-e91b-436a-ff67-059943df4dd1"
      },
      "source": [
        "data_Breast_cancer.isna().sum()"
      ],
      "execution_count": null,
      "outputs": [
        {
          "output_type": "execute_result",
          "data": {
            "text/plain": [
              "id                           0\n",
              "diagnosis                    0\n",
              "radius_mean                  0\n",
              "texture_mean                 0\n",
              "perimeter_mean               0\n",
              "area_mean                    0\n",
              "smoothness_mean              0\n",
              "compactness_mean             0\n",
              "concavity_mean               0\n",
              "concave points_mean          0\n",
              "symmetry_mean                0\n",
              "fractal_dimension_mean       0\n",
              "radius_se                    0\n",
              "texture_se                   0\n",
              "perimeter_se                 0\n",
              "area_se                      0\n",
              "smoothness_se                0\n",
              "compactness_se               0\n",
              "concavity_se                 0\n",
              "concave points_se            0\n",
              "symmetry_se                  0\n",
              "fractal_dimension_se         0\n",
              "radius_worst                 0\n",
              "texture_worst                0\n",
              "perimeter_worst              0\n",
              "area_worst                   0\n",
              "smoothness_worst             0\n",
              "compactness_worst            0\n",
              "concavity_worst              0\n",
              "concave points_worst         0\n",
              "symmetry_worst               0\n",
              "fractal_dimension_worst      0\n",
              "Unnamed: 32                569\n",
              "dtype: int64"
            ]
          },
          "metadata": {},
          "execution_count": 33
        }
      ]
    },
    {
      "cell_type": "code",
      "metadata": {
        "id": "a_rm1PalDhdb"
      },
      "source": [
        "#Como hemos visto que tenemos 569 y encontramos que hay una columna (Sin nombre: 32) con 569 valores faltantes, we drop it\n",
        "data_Breast_cancer.dropna(axis=1, inplace=True)"
      ],
      "execution_count": null,
      "outputs": []
    },
    {
      "cell_type": "code",
      "metadata": {
        "colab": {
          "base_uri": "https://localhost:8080/"
        },
        "id": "de4Wk4N7D8M6",
        "outputId": "4148efa7-64f2-4ec4-d27b-0fbb698c02be"
      },
      "source": [
        "# Para preparar los datos de los algoritmos de aprendizaje automático\n",
        "data_Breast_cancer.info()"
      ],
      "execution_count": null,
      "outputs": [
        {
          "output_type": "stream",
          "name": "stdout",
          "text": [
            "<class 'pandas.core.frame.DataFrame'>\n",
            "RangeIndex: 569 entries, 0 to 568\n",
            "Data columns (total 32 columns):\n",
            " #   Column                   Non-Null Count  Dtype  \n",
            "---  ------                   --------------  -----  \n",
            " 0   id                       569 non-null    int64  \n",
            " 1   diagnosis                569 non-null    object \n",
            " 2   radius_mean              569 non-null    float64\n",
            " 3   texture_mean             569 non-null    float64\n",
            " 4   perimeter_mean           569 non-null    float64\n",
            " 5   area_mean                569 non-null    float64\n",
            " 6   smoothness_mean          569 non-null    float64\n",
            " 7   compactness_mean         569 non-null    float64\n",
            " 8   concavity_mean           569 non-null    float64\n",
            " 9   concave points_mean      569 non-null    float64\n",
            " 10  symmetry_mean            569 non-null    float64\n",
            " 11  fractal_dimension_mean   569 non-null    float64\n",
            " 12  radius_se                569 non-null    float64\n",
            " 13  texture_se               569 non-null    float64\n",
            " 14  perimeter_se             569 non-null    float64\n",
            " 15  area_se                  569 non-null    float64\n",
            " 16  smoothness_se            569 non-null    float64\n",
            " 17  compactness_se           569 non-null    float64\n",
            " 18  concavity_se             569 non-null    float64\n",
            " 19  concave points_se        569 non-null    float64\n",
            " 20  symmetry_se              569 non-null    float64\n",
            " 21  fractal_dimension_se     569 non-null    float64\n",
            " 22  radius_worst             569 non-null    float64\n",
            " 23  texture_worst            569 non-null    float64\n",
            " 24  perimeter_worst          569 non-null    float64\n",
            " 25  area_worst               569 non-null    float64\n",
            " 26  smoothness_worst         569 non-null    float64\n",
            " 27  compactness_worst        569 non-null    float64\n",
            " 28  concavity_worst          569 non-null    float64\n",
            " 29  concave points_worst     569 non-null    float64\n",
            " 30  symmetry_worst           569 non-null    float64\n",
            " 31  fractal_dimension_worst  569 non-null    float64\n",
            "dtypes: float64(30), int64(1), object(1)\n",
            "memory usage: 142.4+ KB\n"
          ]
        }
      ]
    },
    {
      "cell_type": "code",
      "metadata": {
        "id": "3jVEShx3GxKl"
      },
      "source": [
        "#Diagnosis contiene M si el tumor es maligno y B si es benigno. Cambiamos estos valores de \"objeto\" por 1 si es maligno y 0 si es benigno\n",
        "data_Breast_cancer['diagnosis'].replace(['M','B'],[1,0],inplace=True)"
      ],
      "execution_count": null,
      "outputs": []
    },
    {
      "cell_type": "code",
      "metadata": {
        "colab": {
          "base_uri": "https://localhost:8080/",
          "height": 451
        },
        "id": "3QgOOjXeJR50",
        "outputId": "43474029-327a-4746-9508-84b7e71f79b2"
      },
      "source": [
        "data_Breast_cancer"
      ],
      "execution_count": null,
      "outputs": [
        {
          "output_type": "execute_result",
          "data": {
            "text/html": [
              "<div>\n",
              "<style scoped>\n",
              "    .dataframe tbody tr th:only-of-type {\n",
              "        vertical-align: middle;\n",
              "    }\n",
              "\n",
              "    .dataframe tbody tr th {\n",
              "        vertical-align: top;\n",
              "    }\n",
              "\n",
              "    .dataframe thead th {\n",
              "        text-align: right;\n",
              "    }\n",
              "</style>\n",
              "<table border=\"1\" class=\"dataframe\">\n",
              "  <thead>\n",
              "    <tr style=\"text-align: right;\">\n",
              "      <th></th>\n",
              "      <th>id</th>\n",
              "      <th>diagnosis</th>\n",
              "      <th>radius_mean</th>\n",
              "      <th>texture_mean</th>\n",
              "      <th>perimeter_mean</th>\n",
              "      <th>area_mean</th>\n",
              "      <th>smoothness_mean</th>\n",
              "      <th>compactness_mean</th>\n",
              "      <th>concavity_mean</th>\n",
              "      <th>concave points_mean</th>\n",
              "      <th>symmetry_mean</th>\n",
              "      <th>fractal_dimension_mean</th>\n",
              "      <th>radius_se</th>\n",
              "      <th>texture_se</th>\n",
              "      <th>perimeter_se</th>\n",
              "      <th>area_se</th>\n",
              "      <th>smoothness_se</th>\n",
              "      <th>compactness_se</th>\n",
              "      <th>concavity_se</th>\n",
              "      <th>concave points_se</th>\n",
              "      <th>symmetry_se</th>\n",
              "      <th>fractal_dimension_se</th>\n",
              "      <th>radius_worst</th>\n",
              "      <th>texture_worst</th>\n",
              "      <th>perimeter_worst</th>\n",
              "      <th>area_worst</th>\n",
              "      <th>smoothness_worst</th>\n",
              "      <th>compactness_worst</th>\n",
              "      <th>concavity_worst</th>\n",
              "      <th>concave points_worst</th>\n",
              "      <th>symmetry_worst</th>\n",
              "      <th>fractal_dimension_worst</th>\n",
              "    </tr>\n",
              "  </thead>\n",
              "  <tbody>\n",
              "    <tr>\n",
              "      <th>0</th>\n",
              "      <td>842302</td>\n",
              "      <td>1</td>\n",
              "      <td>17.99</td>\n",
              "      <td>10.38</td>\n",
              "      <td>122.80</td>\n",
              "      <td>1001.0</td>\n",
              "      <td>0.11840</td>\n",
              "      <td>0.27760</td>\n",
              "      <td>0.30010</td>\n",
              "      <td>0.14710</td>\n",
              "      <td>0.2419</td>\n",
              "      <td>0.07871</td>\n",
              "      <td>1.0950</td>\n",
              "      <td>0.9053</td>\n",
              "      <td>8.589</td>\n",
              "      <td>153.40</td>\n",
              "      <td>0.006399</td>\n",
              "      <td>0.04904</td>\n",
              "      <td>0.05373</td>\n",
              "      <td>0.01587</td>\n",
              "      <td>0.03003</td>\n",
              "      <td>0.006193</td>\n",
              "      <td>25.380</td>\n",
              "      <td>17.33</td>\n",
              "      <td>184.60</td>\n",
              "      <td>2019.0</td>\n",
              "      <td>0.16220</td>\n",
              "      <td>0.66560</td>\n",
              "      <td>0.7119</td>\n",
              "      <td>0.2654</td>\n",
              "      <td>0.4601</td>\n",
              "      <td>0.11890</td>\n",
              "    </tr>\n",
              "    <tr>\n",
              "      <th>1</th>\n",
              "      <td>842517</td>\n",
              "      <td>1</td>\n",
              "      <td>20.57</td>\n",
              "      <td>17.77</td>\n",
              "      <td>132.90</td>\n",
              "      <td>1326.0</td>\n",
              "      <td>0.08474</td>\n",
              "      <td>0.07864</td>\n",
              "      <td>0.08690</td>\n",
              "      <td>0.07017</td>\n",
              "      <td>0.1812</td>\n",
              "      <td>0.05667</td>\n",
              "      <td>0.5435</td>\n",
              "      <td>0.7339</td>\n",
              "      <td>3.398</td>\n",
              "      <td>74.08</td>\n",
              "      <td>0.005225</td>\n",
              "      <td>0.01308</td>\n",
              "      <td>0.01860</td>\n",
              "      <td>0.01340</td>\n",
              "      <td>0.01389</td>\n",
              "      <td>0.003532</td>\n",
              "      <td>24.990</td>\n",
              "      <td>23.41</td>\n",
              "      <td>158.80</td>\n",
              "      <td>1956.0</td>\n",
              "      <td>0.12380</td>\n",
              "      <td>0.18660</td>\n",
              "      <td>0.2416</td>\n",
              "      <td>0.1860</td>\n",
              "      <td>0.2750</td>\n",
              "      <td>0.08902</td>\n",
              "    </tr>\n",
              "    <tr>\n",
              "      <th>2</th>\n",
              "      <td>84300903</td>\n",
              "      <td>1</td>\n",
              "      <td>19.69</td>\n",
              "      <td>21.25</td>\n",
              "      <td>130.00</td>\n",
              "      <td>1203.0</td>\n",
              "      <td>0.10960</td>\n",
              "      <td>0.15990</td>\n",
              "      <td>0.19740</td>\n",
              "      <td>0.12790</td>\n",
              "      <td>0.2069</td>\n",
              "      <td>0.05999</td>\n",
              "      <td>0.7456</td>\n",
              "      <td>0.7869</td>\n",
              "      <td>4.585</td>\n",
              "      <td>94.03</td>\n",
              "      <td>0.006150</td>\n",
              "      <td>0.04006</td>\n",
              "      <td>0.03832</td>\n",
              "      <td>0.02058</td>\n",
              "      <td>0.02250</td>\n",
              "      <td>0.004571</td>\n",
              "      <td>23.570</td>\n",
              "      <td>25.53</td>\n",
              "      <td>152.50</td>\n",
              "      <td>1709.0</td>\n",
              "      <td>0.14440</td>\n",
              "      <td>0.42450</td>\n",
              "      <td>0.4504</td>\n",
              "      <td>0.2430</td>\n",
              "      <td>0.3613</td>\n",
              "      <td>0.08758</td>\n",
              "    </tr>\n",
              "    <tr>\n",
              "      <th>3</th>\n",
              "      <td>84348301</td>\n",
              "      <td>1</td>\n",
              "      <td>11.42</td>\n",
              "      <td>20.38</td>\n",
              "      <td>77.58</td>\n",
              "      <td>386.1</td>\n",
              "      <td>0.14250</td>\n",
              "      <td>0.28390</td>\n",
              "      <td>0.24140</td>\n",
              "      <td>0.10520</td>\n",
              "      <td>0.2597</td>\n",
              "      <td>0.09744</td>\n",
              "      <td>0.4956</td>\n",
              "      <td>1.1560</td>\n",
              "      <td>3.445</td>\n",
              "      <td>27.23</td>\n",
              "      <td>0.009110</td>\n",
              "      <td>0.07458</td>\n",
              "      <td>0.05661</td>\n",
              "      <td>0.01867</td>\n",
              "      <td>0.05963</td>\n",
              "      <td>0.009208</td>\n",
              "      <td>14.910</td>\n",
              "      <td>26.50</td>\n",
              "      <td>98.87</td>\n",
              "      <td>567.7</td>\n",
              "      <td>0.20980</td>\n",
              "      <td>0.86630</td>\n",
              "      <td>0.6869</td>\n",
              "      <td>0.2575</td>\n",
              "      <td>0.6638</td>\n",
              "      <td>0.17300</td>\n",
              "    </tr>\n",
              "    <tr>\n",
              "      <th>4</th>\n",
              "      <td>84358402</td>\n",
              "      <td>1</td>\n",
              "      <td>20.29</td>\n",
              "      <td>14.34</td>\n",
              "      <td>135.10</td>\n",
              "      <td>1297.0</td>\n",
              "      <td>0.10030</td>\n",
              "      <td>0.13280</td>\n",
              "      <td>0.19800</td>\n",
              "      <td>0.10430</td>\n",
              "      <td>0.1809</td>\n",
              "      <td>0.05883</td>\n",
              "      <td>0.7572</td>\n",
              "      <td>0.7813</td>\n",
              "      <td>5.438</td>\n",
              "      <td>94.44</td>\n",
              "      <td>0.011490</td>\n",
              "      <td>0.02461</td>\n",
              "      <td>0.05688</td>\n",
              "      <td>0.01885</td>\n",
              "      <td>0.01756</td>\n",
              "      <td>0.005115</td>\n",
              "      <td>22.540</td>\n",
              "      <td>16.67</td>\n",
              "      <td>152.20</td>\n",
              "      <td>1575.0</td>\n",
              "      <td>0.13740</td>\n",
              "      <td>0.20500</td>\n",
              "      <td>0.4000</td>\n",
              "      <td>0.1625</td>\n",
              "      <td>0.2364</td>\n",
              "      <td>0.07678</td>\n",
              "    </tr>\n",
              "    <tr>\n",
              "      <th>...</th>\n",
              "      <td>...</td>\n",
              "      <td>...</td>\n",
              "      <td>...</td>\n",
              "      <td>...</td>\n",
              "      <td>...</td>\n",
              "      <td>...</td>\n",
              "      <td>...</td>\n",
              "      <td>...</td>\n",
              "      <td>...</td>\n",
              "      <td>...</td>\n",
              "      <td>...</td>\n",
              "      <td>...</td>\n",
              "      <td>...</td>\n",
              "      <td>...</td>\n",
              "      <td>...</td>\n",
              "      <td>...</td>\n",
              "      <td>...</td>\n",
              "      <td>...</td>\n",
              "      <td>...</td>\n",
              "      <td>...</td>\n",
              "      <td>...</td>\n",
              "      <td>...</td>\n",
              "      <td>...</td>\n",
              "      <td>...</td>\n",
              "      <td>...</td>\n",
              "      <td>...</td>\n",
              "      <td>...</td>\n",
              "      <td>...</td>\n",
              "      <td>...</td>\n",
              "      <td>...</td>\n",
              "      <td>...</td>\n",
              "      <td>...</td>\n",
              "    </tr>\n",
              "    <tr>\n",
              "      <th>564</th>\n",
              "      <td>926424</td>\n",
              "      <td>1</td>\n",
              "      <td>21.56</td>\n",
              "      <td>22.39</td>\n",
              "      <td>142.00</td>\n",
              "      <td>1479.0</td>\n",
              "      <td>0.11100</td>\n",
              "      <td>0.11590</td>\n",
              "      <td>0.24390</td>\n",
              "      <td>0.13890</td>\n",
              "      <td>0.1726</td>\n",
              "      <td>0.05623</td>\n",
              "      <td>1.1760</td>\n",
              "      <td>1.2560</td>\n",
              "      <td>7.673</td>\n",
              "      <td>158.70</td>\n",
              "      <td>0.010300</td>\n",
              "      <td>0.02891</td>\n",
              "      <td>0.05198</td>\n",
              "      <td>0.02454</td>\n",
              "      <td>0.01114</td>\n",
              "      <td>0.004239</td>\n",
              "      <td>25.450</td>\n",
              "      <td>26.40</td>\n",
              "      <td>166.10</td>\n",
              "      <td>2027.0</td>\n",
              "      <td>0.14100</td>\n",
              "      <td>0.21130</td>\n",
              "      <td>0.4107</td>\n",
              "      <td>0.2216</td>\n",
              "      <td>0.2060</td>\n",
              "      <td>0.07115</td>\n",
              "    </tr>\n",
              "    <tr>\n",
              "      <th>565</th>\n",
              "      <td>926682</td>\n",
              "      <td>1</td>\n",
              "      <td>20.13</td>\n",
              "      <td>28.25</td>\n",
              "      <td>131.20</td>\n",
              "      <td>1261.0</td>\n",
              "      <td>0.09780</td>\n",
              "      <td>0.10340</td>\n",
              "      <td>0.14400</td>\n",
              "      <td>0.09791</td>\n",
              "      <td>0.1752</td>\n",
              "      <td>0.05533</td>\n",
              "      <td>0.7655</td>\n",
              "      <td>2.4630</td>\n",
              "      <td>5.203</td>\n",
              "      <td>99.04</td>\n",
              "      <td>0.005769</td>\n",
              "      <td>0.02423</td>\n",
              "      <td>0.03950</td>\n",
              "      <td>0.01678</td>\n",
              "      <td>0.01898</td>\n",
              "      <td>0.002498</td>\n",
              "      <td>23.690</td>\n",
              "      <td>38.25</td>\n",
              "      <td>155.00</td>\n",
              "      <td>1731.0</td>\n",
              "      <td>0.11660</td>\n",
              "      <td>0.19220</td>\n",
              "      <td>0.3215</td>\n",
              "      <td>0.1628</td>\n",
              "      <td>0.2572</td>\n",
              "      <td>0.06637</td>\n",
              "    </tr>\n",
              "    <tr>\n",
              "      <th>566</th>\n",
              "      <td>926954</td>\n",
              "      <td>1</td>\n",
              "      <td>16.60</td>\n",
              "      <td>28.08</td>\n",
              "      <td>108.30</td>\n",
              "      <td>858.1</td>\n",
              "      <td>0.08455</td>\n",
              "      <td>0.10230</td>\n",
              "      <td>0.09251</td>\n",
              "      <td>0.05302</td>\n",
              "      <td>0.1590</td>\n",
              "      <td>0.05648</td>\n",
              "      <td>0.4564</td>\n",
              "      <td>1.0750</td>\n",
              "      <td>3.425</td>\n",
              "      <td>48.55</td>\n",
              "      <td>0.005903</td>\n",
              "      <td>0.03731</td>\n",
              "      <td>0.04730</td>\n",
              "      <td>0.01557</td>\n",
              "      <td>0.01318</td>\n",
              "      <td>0.003892</td>\n",
              "      <td>18.980</td>\n",
              "      <td>34.12</td>\n",
              "      <td>126.70</td>\n",
              "      <td>1124.0</td>\n",
              "      <td>0.11390</td>\n",
              "      <td>0.30940</td>\n",
              "      <td>0.3403</td>\n",
              "      <td>0.1418</td>\n",
              "      <td>0.2218</td>\n",
              "      <td>0.07820</td>\n",
              "    </tr>\n",
              "    <tr>\n",
              "      <th>567</th>\n",
              "      <td>927241</td>\n",
              "      <td>1</td>\n",
              "      <td>20.60</td>\n",
              "      <td>29.33</td>\n",
              "      <td>140.10</td>\n",
              "      <td>1265.0</td>\n",
              "      <td>0.11780</td>\n",
              "      <td>0.27700</td>\n",
              "      <td>0.35140</td>\n",
              "      <td>0.15200</td>\n",
              "      <td>0.2397</td>\n",
              "      <td>0.07016</td>\n",
              "      <td>0.7260</td>\n",
              "      <td>1.5950</td>\n",
              "      <td>5.772</td>\n",
              "      <td>86.22</td>\n",
              "      <td>0.006522</td>\n",
              "      <td>0.06158</td>\n",
              "      <td>0.07117</td>\n",
              "      <td>0.01664</td>\n",
              "      <td>0.02324</td>\n",
              "      <td>0.006185</td>\n",
              "      <td>25.740</td>\n",
              "      <td>39.42</td>\n",
              "      <td>184.60</td>\n",
              "      <td>1821.0</td>\n",
              "      <td>0.16500</td>\n",
              "      <td>0.86810</td>\n",
              "      <td>0.9387</td>\n",
              "      <td>0.2650</td>\n",
              "      <td>0.4087</td>\n",
              "      <td>0.12400</td>\n",
              "    </tr>\n",
              "    <tr>\n",
              "      <th>568</th>\n",
              "      <td>92751</td>\n",
              "      <td>0</td>\n",
              "      <td>7.76</td>\n",
              "      <td>24.54</td>\n",
              "      <td>47.92</td>\n",
              "      <td>181.0</td>\n",
              "      <td>0.05263</td>\n",
              "      <td>0.04362</td>\n",
              "      <td>0.00000</td>\n",
              "      <td>0.00000</td>\n",
              "      <td>0.1587</td>\n",
              "      <td>0.05884</td>\n",
              "      <td>0.3857</td>\n",
              "      <td>1.4280</td>\n",
              "      <td>2.548</td>\n",
              "      <td>19.15</td>\n",
              "      <td>0.007189</td>\n",
              "      <td>0.00466</td>\n",
              "      <td>0.00000</td>\n",
              "      <td>0.00000</td>\n",
              "      <td>0.02676</td>\n",
              "      <td>0.002783</td>\n",
              "      <td>9.456</td>\n",
              "      <td>30.37</td>\n",
              "      <td>59.16</td>\n",
              "      <td>268.6</td>\n",
              "      <td>0.08996</td>\n",
              "      <td>0.06444</td>\n",
              "      <td>0.0000</td>\n",
              "      <td>0.0000</td>\n",
              "      <td>0.2871</td>\n",
              "      <td>0.07039</td>\n",
              "    </tr>\n",
              "  </tbody>\n",
              "</table>\n",
              "<p>569 rows × 32 columns</p>\n",
              "</div>"
            ],
            "text/plain": [
              "           id  diagnosis  ...  symmetry_worst  fractal_dimension_worst\n",
              "0      842302          1  ...          0.4601                  0.11890\n",
              "1      842517          1  ...          0.2750                  0.08902\n",
              "2    84300903          1  ...          0.3613                  0.08758\n",
              "3    84348301          1  ...          0.6638                  0.17300\n",
              "4    84358402          1  ...          0.2364                  0.07678\n",
              "..        ...        ...  ...             ...                      ...\n",
              "564    926424          1  ...          0.2060                  0.07115\n",
              "565    926682          1  ...          0.2572                  0.06637\n",
              "566    926954          1  ...          0.2218                  0.07820\n",
              "567    927241          1  ...          0.4087                  0.12400\n",
              "568     92751          0  ...          0.2871                  0.07039\n",
              "\n",
              "[569 rows x 32 columns]"
            ]
          },
          "metadata": {},
          "execution_count": 37
        }
      ]
    },
    {
      "cell_type": "code",
      "metadata": {
        "colab": {
          "base_uri": "https://localhost:8080/"
        },
        "id": "EpjuHkEvHo7D",
        "outputId": "8aa9732c-01e3-4520-8252-02c7284b1c09"
      },
      "source": [
        "#Observamos que los valores han cambiado\n",
        "data_Breast_cancer.diagnosis"
      ],
      "execution_count": null,
      "outputs": [
        {
          "output_type": "execute_result",
          "data": {
            "text/plain": [
              "0      1\n",
              "1      1\n",
              "2      1\n",
              "3      1\n",
              "4      1\n",
              "      ..\n",
              "564    1\n",
              "565    1\n",
              "566    1\n",
              "567    1\n",
              "568    0\n",
              "Name: diagnosis, Length: 569, dtype: int64"
            ]
          },
          "metadata": {},
          "execution_count": 38
        }
      ]
    },
    {
      "cell_type": "markdown",
      "metadata": {
        "id": "vmS5AgcnKrAC"
      },
      "source": [
        "#  Graficos descriptivos"
      ]
    },
    {
      "cell_type": "code",
      "metadata": {
        "colab": {
          "base_uri": "https://localhost:8080/",
          "height": 393
        },
        "id": "8uVaWpYpIVdl",
        "outputId": "d851c461-b4f7-462c-cf17-3a4f79989968"
      },
      "source": [
        "# comencemos a visualizar la cantidad de tumores malignos y benignos en nuestro conjunto de datos\n",
        "sns.countplot(data_Breast_cancer['diagnosis'])\n",
        "data_Breast_cancer['diagnosis'].value_counts()"
      ],
      "execution_count": null,
      "outputs": [
        {
          "output_type": "stream",
          "name": "stderr",
          "text": [
            "/usr/local/lib/python3.7/dist-packages/seaborn/_decorators.py:43: FutureWarning: Pass the following variable as a keyword arg: x. From version 0.12, the only valid positional argument will be `data`, and passing other arguments without an explicit keyword will result in an error or misinterpretation.\n",
            "  FutureWarning\n"
          ]
        },
        {
          "output_type": "execute_result",
          "data": {
            "text/plain": [
              "0    357\n",
              "1    212\n",
              "Name: diagnosis, dtype: int64"
            ]
          },
          "metadata": {},
          "execution_count": 44
        },
        {
          "output_type": "display_data",
          "data": {
            "image/png": "[encoded data removed]",
            "text/plain": [
              "<Figure size 432x288 with 1 Axes>"
            ]
          },
          "metadata": {}
        }
      ]
    },
    {
      "cell_type": "code",
      "metadata": {
        "colab": {
          "base_uri": "https://localhost:8080/",
          "height": 646
        },
        "id": "8Ia3dtJqIv-p",
        "outputId": "2c404185-ff28-4235-f12c-ef1e875de338"
      },
      "source": [
        "#Plot correlaciones con la columna de diagnóstico\n",
        "sns.set_theme(style='darkgrid')\n",
        "plt.figure(figsize=(14,8))\n",
        "plt.title(\"Diagnosis\",fontsize=16)\n",
        "corr = data_Breast_cancer.corr()['diagnosis'].sort_values(ascending=False)\n",
        "corr.plot(kind='bar',edgecolor='cyan')"
      ],
      "execution_count": null,
      "outputs": [
        {
          "output_type": "execute_result",
          "data": {
            "text/plain": [
              "<matplotlib.axes._subplots.AxesSubplot at 0x7f947de42a50>"
            ]
          },
          "metadata": {},
          "execution_count": 42
        },
        {
          "output_type": "display_data",
          "data": {
            "image/png": "[encoded data removed]",
            "text/plain": [
              "<Figure size 1008x576 with 1 Axes>"
            ]
          },
          "metadata": {}
        }
      ]
    },
    {
      "cell_type": "code",
      "metadata": {
        "colab": {
          "base_uri": "https://localhost:8080/",
          "height": 804
        },
        "id": "RDmjQw_II8qu",
        "outputId": "fce8a31c-8a7d-43a4-b80f-ba6245962da5"
      },
      "source": [
        "# Trace solo correlaciones superiores a 0,6\n",
        "plt.figure(figsize=(14,8))\n",
        "corr[corr >= 0.6].plot(kind='bar')\n",
        "print(corr[corr >= 0.6])"
      ],
      "execution_count": null,
      "outputs": [
        {
          "output_type": "stream",
          "name": "stdout",
          "text": [
            "diagnosis               1.000000\n",
            "concave points_worst    0.793566\n",
            "perimeter_worst         0.782914\n",
            "concave points_mean     0.776614\n",
            "radius_worst            0.776454\n",
            "perimeter_mean          0.742636\n",
            "area_worst              0.733825\n",
            "radius_mean             0.730029\n",
            "area_mean               0.708984\n",
            "concavity_mean          0.696360\n",
            "concavity_worst         0.659610\n",
            "Name: diagnosis, dtype: float64\n"
          ]
        },
        {
          "output_type": "display_data",
          "data": {
            "image/png": "[encoded data removed]",
            "text/plain": [
              "<Figure size 1008x576 with 1 Axes>"
            ]
          },
          "metadata": {}
        }
      ]
    },
    {
      "cell_type": "markdown",
      "metadata": {
        "id": "5wElLDZWK3Nl"
      },
      "source": [
        "# 3. Definir matriz de diseño X vector y"
      ]
    },
    {
      "cell_type": "code",
      "metadata": {
        "id": "tZP7HWdoKcw5"
      },
      "source": [
        "#Data separation\n",
        "y = data_Breast_cancer.iloc[:,1]\n",
        "x = data_Breast_cancer.loc[:,[\"concave points_worst\", \"perimeter_worst\", \"concave points_mean\", \"radius_worst\", \"perimeter_mean\", \"area_worst\", \"radius_mean\", \"area_mean\" ,\"concavity_mean\", \"concavity_worst\"]]"
      ],
      "execution_count": null,
      "outputs": []
    },
    {
      "cell_type": "markdown",
      "metadata": {
        "id": "rRBemh63O1YC"
      },
      "source": [
        "# 4. Separar en train y test (prepararse para el partido"
      ]
    },
    {
      "cell_type": "code",
      "metadata": {
        "id": "nmkoUmkTOB7A"
      },
      "source": [
        "from sklearn.model_selection import train_test_split\n",
        "x_train, x_test, y_train, y_test = train_test_split(x, y, test_size=0.3, random_state=42)"
      ],
      "execution_count": null,
      "outputs": []
    },
    {
      "cell_type": "markdown",
      "metadata": {
        "id": "RSnbHyjFRPx3"
      },
      "source": [
        "Eligieremos el 70% de los datos para entrenamiento, y el 30% para test, de igual manera se le aplicara el random_state para seleccionar la semilla y los datos sean aleatoreos"
      ]
    },
    {
      "cell_type": "markdown",
      "metadata": {
        "id": "tcrvnlA8PIO3"
      },
      "source": [
        "# 5. Seleccionar y entrenar el algoritmo"
      ]
    },
    {
      "cell_type": "code",
      "metadata": {
        "colab": {
          "base_uri": "https://localhost:8080/"
        },
        "id": "TSIEeBGkPKC_",
        "outputId": "36485b60-54d5-418a-b9aa-2c346d28700c"
      },
      "source": [
        "parameters = {'kernel':('linear', 'rbf'), 'C':[1, 10]}\n",
        "svc = svm.SVC(gamma=\"scale\")\n",
        "clf = GridSearchCV(svc, parameters, cv=5)\n",
        "clf.fit(x_train, y_train)\n",
        "print(clf.best_estimator_)\n"
      ],
      "execution_count": null,
      "outputs": [
        {
          "output_type": "stream",
          "name": "stdout",
          "text": [
            "SVC(C=10, break_ties=False, cache_size=200, class_weight=None, coef0=0.0,\n",
            "    decision_function_shape='ovr', degree=3, gamma='scale', kernel='linear',\n",
            "    max_iter=-1, probability=False, random_state=None, shrinking=True,\n",
            "    tol=0.001, verbose=False)\n"
          ]
        }
      ]
    },
    {
      "cell_type": "code",
      "metadata": {
        "colab": {
          "base_uri": "https://localhost:8080/"
        },
        "id": "S0SG0qTkWc5M",
        "outputId": "bcaa9c7b-ba4c-45d4-b4de-41500497d4b3"
      },
      "source": [
        "#Print some metrics in a table\n",
        "from sklearn.metrics import f1_score, confusion_matrix\n",
        "ptbl = PrettyTable()\n",
        "ptbl.field_names = [\"Accuracy\", \"Recall\", \"F1Score\"]\n",
        "ptbl.add_row([accuracy_score(y_test,clf.predict(x_test)),\n",
        "          recall_score(y_test, clf.predict(x_test)), f1_score(y_test, clf.predict(x_test))])\n",
        "print(ptbl)"
      ],
      "execution_count": null,
      "outputs": [
        {
          "output_type": "stream",
          "name": "stdout",
          "text": [
            "+--------------------+--------------------+--------------------+\n",
            "|      Accuracy      |       Recall       |      F1Score       |\n",
            "+--------------------+--------------------+--------------------+\n",
            "| 0.9707602339181286 | 0.9682539682539683 | 0.9606299212598425 |\n",
            "+--------------------+--------------------+--------------------+\n"
          ]
        }
      ]
    },
    {
      "cell_type": "markdown",
      "metadata": {
        "id": "vpPIGxqOQ-Jm"
      },
      "source": [
        "obtenemos un acuracy de 0.97, es decir, una probabilidad de el 97% de los datos que predice sean correctos, de cada 100 datos que se clasifiquen el 97 quedaran bien clasificados, lo cual nos indica que es un muy buen modelo"
      ]
    },
    {
      "cell_type": "code",
      "metadata": {
        "colab": {
          "base_uri": "https://localhost:8080/"
        },
        "id": "TnsoYpckUIWb",
        "outputId": "99816f4a-6f43-4b5b-f8a8-4ac819537f93"
      },
      "source": [
        "from sklearn.ensemble import RandomForestClassifier\n",
        "model = RandomForestClassifier(random_state=42, n_estimators=100,class_weight=\"balanced\", max_features=\"log2\")\n",
        "model.fit(x_train, y_train)"
      ],
      "execution_count": null,
      "outputs": [
        {
          "output_type": "execute_result",
          "data": {
            "text/plain": [
              "RandomForestClassifier(bootstrap=True, ccp_alpha=0.0, class_weight='balanced',\n",
              "                       criterion='gini', max_depth=None, max_features='log2',\n",
              "                       max_leaf_nodes=None, max_samples=None,\n",
              "                       min_impurity_decrease=0.0, min_impurity_split=None,\n",
              "                       min_samples_leaf=1, min_samples_split=2,\n",
              "                       min_weight_fraction_leaf=0.0, n_estimators=100,\n",
              "                       n_jobs=None, oob_score=False, random_state=42, verbose=0,\n",
              "                       warm_start=False)"
            ]
          },
          "metadata": {},
          "execution_count": 115
        }
      ]
    },
    {
      "cell_type": "code",
      "metadata": {
        "colab": {
          "base_uri": "https://localhost:8080/"
        },
        "id": "VFuMEzSmPka3",
        "outputId": "e70a8002-1b0a-4a54-e677-c28d017b5bb3"
      },
      "source": [
        "ptbl = PrettyTable()\n",
        "ptbl.field_names = [\"Accuracy\", \"Recall\", \"F1Score\"]\n",
        "ptbl.add_row([accuracy_score(y_test,model.predict(x_test)),\n",
        "           recall_score(y_test, model.predict(x_test)), f1_score(y_test, model.predict(x_test))])\n",
        "print(ptbl)"
      ],
      "execution_count": null,
      "outputs": [
        {
          "output_type": "stream",
          "name": "stdout",
          "text": [
            "+--------------------+--------------------+-------------------+\n",
            "|      Accuracy      |       Recall       |      F1Score      |\n",
            "+--------------------+--------------------+-------------------+\n",
            "| 0.9590643274853801 | 0.9206349206349206 | 0.943089430894309 |\n",
            "+--------------------+--------------------+-------------------+\n"
          ]
        }
      ]
    },
    {
      "cell_type": "markdown",
      "metadata": {
        "id": "7rBLRPRfPLWV"
      },
      "source": [
        "# 6. Hacer las predicciones"
      ]
    },
    {
      "cell_type": "code",
      "metadata": {
        "colab": {
          "base_uri": "https://localhost:8080/"
        },
        "id": "xZHNUnJXPTlk",
        "outputId": "d50e8714-a55b-4d3d-82c5-8d0f0614a4c1"
      },
      "source": [
        "y_pred= model.predict(x_test)\n",
        "y_pred"
      ],
      "execution_count": null,
      "outputs": [
        {
          "output_type": "execute_result",
          "data": {
            "text/plain": [
              "array([0, 1, 1, 0, 0, 1, 1, 1, 1, 0, 0, 1, 0, 1, 0, 1, 0, 0, 0, 1, 0, 0,\n",
              "       1, 0, 0, 0, 0, 0, 0, 1, 0, 0, 0, 0, 0, 0, 0, 0, 1, 0, 0, 1, 0, 0,\n",
              "       0, 0, 0, 0, 0, 0, 1, 1, 0, 0, 0, 0, 0, 1, 1, 0, 0, 1, 1, 0, 0, 0,\n",
              "       1, 1, 0, 0, 1, 1, 0, 1, 0, 0, 0, 1, 0, 0, 1, 0, 0, 1, 1, 1, 1, 1,\n",
              "       0, 0, 0, 0, 0, 0, 0, 0, 1, 1, 0, 1, 1, 0, 1, 1, 0, 0, 0, 1, 1, 0,\n",
              "       1, 0, 0, 1, 0, 1, 0, 0, 0, 1, 0, 0, 0, 1, 0, 1, 1, 0, 0, 1, 1, 1,\n",
              "       0, 0, 0, 1, 0, 0, 0, 1, 0, 1, 0, 0, 1, 0, 1, 1, 0, 0, 1, 0, 0, 0,\n",
              "       0, 1, 1, 0, 0, 0, 0, 0, 0, 0, 0, 0, 0, 0, 0, 1, 0])"
            ]
          },
          "metadata": {},
          "execution_count": 134
        }
      ]
    },
    {
      "cell_type": "code",
      "metadata": {
        "colab": {
          "base_uri": "https://localhost:8080/"
        },
        "id": "IC3k5v_oXVcR",
        "outputId": "be634f8c-6011-4979-9536-70540a281a13"
      },
      "source": [
        "y_test"
      ],
      "execution_count": null,
      "outputs": [
        {
          "output_type": "execute_result",
          "data": {
            "text/plain": [
              "204    0\n",
              "70     1\n",
              "131    1\n",
              "431    0\n",
              "540    0\n",
              "      ..\n",
              "69     0\n",
              "542    0\n",
              "176    0\n",
              "501    1\n",
              "247    0\n",
              "Name: diagnosis, Length: 171, dtype: int64"
            ]
          },
          "metadata": {},
          "execution_count": 146
        }
      ]
    },
    {
      "cell_type": "markdown",
      "metadata": {
        "id": "57yqw30bPUXP"
      },
      "source": [
        "# 7. Validacion del modelo"
      ]
    },
    {
      "cell_type": "code",
      "metadata": {
        "colab": {
          "base_uri": "https://localhost:8080/"
        },
        "id": "ZFiQR3fIPUzr",
        "outputId": "01317e6a-2e2b-4c62-aea9-e355cd947094"
      },
      "source": [
        "from sklearn.metrics import classification_report\n",
        "M=classification_report(y_test,y_pred)\n",
        "print(M)"
      ],
      "execution_count": null,
      "outputs": [
        {
          "output_type": "stream",
          "name": "stdout",
          "text": [
            "              precision    recall  f1-score   support\n",
            "\n",
            "           0       0.95      0.98      0.97       108\n",
            "           1       0.97      0.92      0.94        63\n",
            "\n",
            "    accuracy                           0.96       171\n",
            "   macro avg       0.96      0.95      0.96       171\n",
            "weighted avg       0.96      0.96      0.96       171\n",
            "\n"
          ]
        }
      ]
    },
    {
      "cell_type": "code",
      "metadata": {
        "colab": {
          "base_uri": "https://localhost:8080/"
        },
        "id": "6a3TdHKcW973",
        "outputId": "3c4aa3b5-7213-4fd2-f4d4-116cfa4d4eaf"
      },
      "source": [
        "test_accuracy = accuracy_score(y_test, y_pred)\n",
        "print('% de aciertos sobre el set de evaluación:',test_accuracy)"
      ],
      "execution_count": null,
      "outputs": [
        {
          "output_type": "stream",
          "name": "stdout",
          "text": [
            "% de aciertos sobre el set de evaluación: 0.9590643274853801\n"
          ]
        }
      ]
    },
    {
      "cell_type": "code",
      "metadata": {
        "colab": {
          "base_uri": "https://localhost:8080/"
        },
        "id": "IiEfFygKTQ-C",
        "outputId": "3dce4f8b-59c6-4d81-a95a-88d0de540298"
      },
      "source": [
        "from sklearn.metrics import precision_score\n",
        "precision_score(y_test, y_pred)"
      ],
      "execution_count": null,
      "outputs": [
        {
          "output_type": "execute_result",
          "data": {
            "text/plain": [
              "0.9666666666666667"
            ]
          },
          "metadata": {},
          "execution_count": 132
        }
      ]
    },
    {
      "cell_type": "code",
      "metadata": {
        "colab": {
          "base_uri": "https://localhost:8080/"
        },
        "id": "E0IMJDMkT9UP",
        "outputId": "076ddcec-8b7b-45c2-bfb9-612635dc4eea"
      },
      "source": [
        "from sklearn.metrics import confusion_matrix\n",
        "confusion_matrix(y_test, y_pred)"
      ],
      "execution_count": null,
      "outputs": [
        {
          "output_type": "execute_result",
          "data": {
            "text/plain": [
              "array([[106,   2],\n",
              "       [  5,  58]])"
            ]
          },
          "metadata": {},
          "execution_count": 133
        }
      ]
    },
    {
      "cell_type": "markdown",
      "metadata": {
        "id": "INXBEKbyVPSW"
      },
      "source": [
        "El modelo tuvo 106 verdaderos positivos, 2 falsos positivos, 58 verdaderos negativos y 5 falsos negativos, por lo que se puede concluir que el modelo funciona relativamente bien en cuanto a su clasificación."
      ]
    }
  ]
}